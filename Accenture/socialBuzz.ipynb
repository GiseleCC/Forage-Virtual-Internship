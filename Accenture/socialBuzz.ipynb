{
 "cells": [
  {
   "cell_type": "markdown",
   "id": "f7c7c0ff-0c28-4bfb-9288-bacddb33db35",
   "metadata": {},
   "source": [
    "The data was obtained from the Accenture Virtual Internship, and the business question revolved around analyzing content categories to identify the top 5 categories with the highest popularity. The process involved various steps, such as Data Understanding, Data Cleaning, Data Modeling, and Data Analysis.\n",
    "\n",
    "I went a step further by incorporating additional operational metrics, including the Number of Reactions per Category, Number of Reactions per Reaction Type, Sentiment Analysis, User Engagement, and Time-based Analysis."
   ]
  },
  {
   "cell_type": "markdown",
   "id": "cbab9cb1-3037-4e0b-879a-1f220d76ef31",
   "metadata": {},
   "source": [
    "#### Connect to database, Create table and Copy data From provided datasets"
   ]
  },
  {
   "cell_type": "markdown",
   "id": "7852cf6b-d86c-4a18-85b9-9f837bbd24da",
   "metadata": {},
   "source": [
    "#### Data Understanding"
   ]
  },
  {
   "cell_type": "code",
   "execution_count": 1,
   "id": "fec878d6-da0a-4d36-b445-7b26f5337e91",
   "metadata": {},
   "outputs": [],
   "source": [
    "%load_ext sql"
   ]
  },
  {
   "cell_type": "code",
   "execution_count": 2,
   "id": "e41bc0d0-6b93-4d97-8581-c90efc5777b5",
   "metadata": {},
   "outputs": [],
   "source": [
    "%sql postgresql://postgres:111111@:5433/socialbuzz"
   ]
  },
  {
   "cell_type": "code",
   "execution_count": 3,
   "id": "b11e1e06-93ef-4697-a375-aaf24141f7d7",
   "metadata": {},
   "outputs": [
    {
     "name": "stdout",
     "output_type": "stream",
     "text": [
      " * postgresql://postgres:***@:5433/socialbuzz\n",
      "Done.\n",
      "Done.\n"
     ]
    },
    {
     "data": {
      "text/plain": [
       "[]"
      ]
     },
     "execution_count": 3,
     "metadata": {},
     "output_type": "execute_result"
    }
   ],
   "source": [
    "%%sql DROP TABLE IF EXISTS contents CASCADE; \n",
    "    CREATE TABLE contents(\n",
    "    content_id UUID PRIMARY KEY,\n",
    "    user_id UUID,\n",
    "    content_type VARCHAR(255),\n",
    "    category VARCHAR(255),\n",
    "    url VARCHAR(255)\n",
    ");"
   ]
  },
  {
   "cell_type": "code",
   "execution_count": 4,
   "id": "923aa350-1d70-41c3-b83d-a74755e3e0f2",
   "metadata": {},
   "outputs": [
    {
     "name": "stdout",
     "output_type": "stream",
     "text": [
      " * postgresql://postgres:***@:5433/socialbuzz\n",
      "Done.\n",
      "Done.\n"
     ]
    },
    {
     "data": {
      "text/plain": [
       "[]"
      ]
     },
     "execution_count": 4,
     "metadata": {},
     "output_type": "execute_result"
    }
   ],
   "source": [
    "%%sql DROP TABLE IF EXISTS reactions CASCADE; \n",
    "    CREATE TABLE reactions(\n",
    "    content_id UUID,\n",
    "    user_id UUID,\n",
    "    reaction_type VARCHAR(255),\n",
    "    datetime TIMESTAMP, \n",
    "    FOREIGN KEY (content_id) \n",
    "        REFERENCES contents(content_id)\n",
    ");"
   ]
  },
  {
   "cell_type": "code",
   "execution_count": 5,
   "id": "147e58cb-3f6e-410e-a382-3709e849d722",
   "metadata": {},
   "outputs": [
    {
     "name": "stdout",
     "output_type": "stream",
     "text": [
      " * postgresql://postgres:***@:5433/socialbuzz\n",
      "Done.\n",
      "Done.\n"
     ]
    },
    {
     "data": {
      "text/plain": [
       "[]"
      ]
     },
     "execution_count": 5,
     "metadata": {},
     "output_type": "execute_result"
    }
   ],
   "source": [
    "%sql DROP TABLE IF EXISTS reaction_types CASCADE; \\\n",
    "    CREATE TABLE reaction_types(\\\n",
    "    reaction_type VARCHAR(255) NOT NULL,\\\n",
    "    sentiment VARCHAR(255) NOT NULL,\\\n",
    "    score smallint NOT NULL\\\n",
    ");"
   ]
  },
  {
   "cell_type": "code",
   "execution_count": 6,
   "id": "d04cdbdc-ccc8-4e2d-98f0-ef9892639b73",
   "metadata": {},
   "outputs": [
    {
     "name": "stdout",
     "output_type": "stream",
     "text": [
      " * postgresql://postgres:***@:5433/socialbuzz\n",
      "1000 rows affected.\n"
     ]
    },
    {
     "data": {
      "text/plain": [
       "[]"
      ]
     },
     "execution_count": 6,
     "metadata": {},
     "output_type": "execute_result"
    }
   ],
   "source": [
    "%%sql COPY contents(content_id, \n",
    "                    user_id, \n",
    "                    content_type, \n",
    "                    category, \n",
    "                    url)\n",
    "FROM 'C:\\socialBuzz\\content.csv'\n",
    "DELIMITER ','\n",
    "CSV HEADER;"
   ]
  },
  {
   "cell_type": "code",
   "execution_count": 7,
   "id": "84a89e6a-baa4-4ac5-a939-e87073628520",
   "metadata": {},
   "outputs": [
    {
     "name": "stdout",
     "output_type": "stream",
     "text": [
      " * postgresql://postgres:***@:5433/socialbuzz\n",
      "25553 rows affected.\n"
     ]
    },
    {
     "data": {
      "text/plain": [
       "[]"
      ]
     },
     "execution_count": 7,
     "metadata": {},
     "output_type": "execute_result"
    }
   ],
   "source": [
    "%sql COPY reactions(content_id, user_id, reaction_type, datetime)\\\n",
    "FROM 'C:\\socialBuzz\\reactions.csv'\\\n",
    "DELIMITER ','\\\n",
    "CSV HEADER;"
   ]
  },
  {
   "cell_type": "code",
   "execution_count": 8,
   "id": "f43f24a1-f429-4293-a520-bb4fb75372ed",
   "metadata": {},
   "outputs": [
    {
     "name": "stdout",
     "output_type": "stream",
     "text": [
      " * postgresql://postgres:***@:5433/socialbuzz\n",
      "16 rows affected.\n"
     ]
    },
    {
     "data": {
      "text/plain": [
       "[]"
      ]
     },
     "execution_count": 8,
     "metadata": {},
     "output_type": "execute_result"
    }
   ],
   "source": [
    "%sql COPY reaction_types(reaction_type, sentiment, score)\\\n",
    "FROM 'C:\\socialBuzz\\reactiontypes.csv'\\\n",
    "DELIMITER ','\\\n",
    "CSV HEADER;"
   ]
  },
  {
   "cell_type": "markdown",
   "id": "1a6dbb53-d12a-4205-8424-c8f4953df2a1",
   "metadata": {},
   "source": [
    "#### View Datasets"
   ]
  },
  {
   "cell_type": "code",
   "execution_count": 9,
   "id": "307b87a9-0416-4f87-b5b6-aaa819ae4e45",
   "metadata": {},
   "outputs": [
    {
     "name": "stdout",
     "output_type": "stream",
     "text": [
      " * postgresql://postgres:***@:5433/socialbuzz\n",
      "5 rows affected.\n"
     ]
    },
    {
     "data": {
      "text/html": [
       "<table>\n",
       "    <thead>\n",
       "        <tr>\n",
       "            <th>content_id</th>\n",
       "            <th>user_id</th>\n",
       "            <th>content_type</th>\n",
       "            <th>category</th>\n",
       "            <th>url</th>\n",
       "        </tr>\n",
       "    </thead>\n",
       "    <tbody>\n",
       "        <tr>\n",
       "            <td>97522e57-d9ab-4bd6-97bf-c24d952602d2</td>\n",
       "            <td>8d3cd87d-8a31-4935-9a4f-b319bfe05f31</td>\n",
       "            <td>photo</td>\n",
       "            <td>Studying</td>\n",
       "            <td>https://socialbuzz.cdn.com/content/storage/97522e57-d9ab-4bd6-97bf-c24d952602d2</td>\n",
       "        </tr>\n",
       "        <tr>\n",
       "            <td>9f737e0a-3cdd-4d29-9d24-753f4e3be810</td>\n",
       "            <td>beb1f34e-7870-46d6-9fc7-2e12eb83ce43</td>\n",
       "            <td>photo</td>\n",
       "            <td>healthy eating</td>\n",
       "            <td>https://socialbuzz.cdn.com/content/storage/9f737e0a-3cdd-4d29-9d24-753f4e3be810</td>\n",
       "        </tr>\n",
       "        <tr>\n",
       "            <td>230c4e4d-70c3-461d-b42c-ec09396efb3f</td>\n",
       "            <td>a5c65404-5894-4b87-82f2-d787cbee86b4</td>\n",
       "            <td>photo</td>\n",
       "            <td>healthy eating</td>\n",
       "            <td>https://socialbuzz.cdn.com/content/storage/230c4e4d-70c3-461d-b42c-ec09396efb3f</td>\n",
       "        </tr>\n",
       "        <tr>\n",
       "            <td>356fff80-da4d-4785-9f43-bc1261031dc6</td>\n",
       "            <td>9fb4ce88-fac1-406c-8544-1a899cee7aaf</td>\n",
       "            <td>photo</td>\n",
       "            <td>technology</td>\n",
       "            <td>https://socialbuzz.cdn.com/content/storage/356fff80-da4d-4785-9f43-bc1261031dc6</td>\n",
       "        </tr>\n",
       "        <tr>\n",
       "            <td>01ab84dd-6364-4236-abbb-3f237db77180</td>\n",
       "            <td>e206e31b-5f85-4964-b6ea-d7ee5324def1</td>\n",
       "            <td>video</td>\n",
       "            <td>food</td>\n",
       "            <td>https://socialbuzz.cdn.com/content/storage/01ab84dd-6364-4236-abbb-3f237db77180</td>\n",
       "        </tr>\n",
       "    </tbody>\n",
       "</table>"
      ],
      "text/plain": [
       "[(UUID('97522e57-d9ab-4bd6-97bf-c24d952602d2'), UUID('8d3cd87d-8a31-4935-9a4f-b319bfe05f31'), 'photo', 'Studying', 'https://socialbuzz.cdn.com/content/storage/97522e57-d9ab-4bd6-97bf-c24d952602d2'),\n",
       " (UUID('9f737e0a-3cdd-4d29-9d24-753f4e3be810'), UUID('beb1f34e-7870-46d6-9fc7-2e12eb83ce43'), 'photo', 'healthy eating', 'https://socialbuzz.cdn.com/content/storage/9f737e0a-3cdd-4d29-9d24-753f4e3be810'),\n",
       " (UUID('230c4e4d-70c3-461d-b42c-ec09396efb3f'), UUID('a5c65404-5894-4b87-82f2-d787cbee86b4'), 'photo', 'healthy eating', 'https://socialbuzz.cdn.com/content/storage/230c4e4d-70c3-461d-b42c-ec09396efb3f'),\n",
       " (UUID('356fff80-da4d-4785-9f43-bc1261031dc6'), UUID('9fb4ce88-fac1-406c-8544-1a899cee7aaf'), 'photo', 'technology', 'https://socialbuzz.cdn.com/content/storage/356fff80-da4d-4785-9f43-bc1261031dc6'),\n",
       " (UUID('01ab84dd-6364-4236-abbb-3f237db77180'), UUID('e206e31b-5f85-4964-b6ea-d7ee5324def1'), 'video', 'food', 'https://socialbuzz.cdn.com/content/storage/01ab84dd-6364-4236-abbb-3f237db77180')]"
      ]
     },
     "execution_count": 9,
     "metadata": {},
     "output_type": "execute_result"
    }
   ],
   "source": [
    "%sql SELECT * FROM contents LIMIT 5;"
   ]
  },
  {
   "cell_type": "code",
   "execution_count": 10,
   "id": "21340115-b514-4694-811a-7707cac0f2b9",
   "metadata": {},
   "outputs": [
    {
     "name": "stdout",
     "output_type": "stream",
     "text": [
      " * postgresql://postgres:***@:5433/socialbuzz\n",
      "5 rows affected.\n"
     ]
    },
    {
     "data": {
      "text/html": [
       "<table>\n",
       "    <thead>\n",
       "        <tr>\n",
       "            <th>content_id</th>\n",
       "            <th>user_id</th>\n",
       "            <th>reaction_type</th>\n",
       "            <th>datetime</th>\n",
       "        </tr>\n",
       "    </thead>\n",
       "    <tbody>\n",
       "        <tr>\n",
       "            <td>97522e57-d9ab-4bd6-97bf-c24d952602d2</td>\n",
       "            <td>None</td>\n",
       "            <td>None</td>\n",
       "            <td>2021-04-22 15:17:00</td>\n",
       "        </tr>\n",
       "        <tr>\n",
       "            <td>97522e57-d9ab-4bd6-97bf-c24d952602d2</td>\n",
       "            <td>5d454588-283d-459d-915d-c48a2cb4c27f</td>\n",
       "            <td>disgust</td>\n",
       "            <td>2020-11-07 09:43:00</td>\n",
       "        </tr>\n",
       "        <tr>\n",
       "            <td>97522e57-d9ab-4bd6-97bf-c24d952602d2</td>\n",
       "            <td>92b87fa5-f271-43e0-af66-84fac21052e6</td>\n",
       "            <td>dislike</td>\n",
       "            <td>2021-06-17 12:22:00</td>\n",
       "        </tr>\n",
       "        <tr>\n",
       "            <td>97522e57-d9ab-4bd6-97bf-c24d952602d2</td>\n",
       "            <td>163daa38-8b77-48c9-9af6-37a6c1447ac2</td>\n",
       "            <td>scared</td>\n",
       "            <td>2021-04-18 05:13:00</td>\n",
       "        </tr>\n",
       "        <tr>\n",
       "            <td>97522e57-d9ab-4bd6-97bf-c24d952602d2</td>\n",
       "            <td>34e8add9-0206-47fd-a501-037b994650a2</td>\n",
       "            <td>disgust</td>\n",
       "            <td>2021-01-06 19:13:00</td>\n",
       "        </tr>\n",
       "    </tbody>\n",
       "</table>"
      ],
      "text/plain": [
       "[(UUID('97522e57-d9ab-4bd6-97bf-c24d952602d2'), None, None, datetime.datetime(2021, 4, 22, 15, 17)),\n",
       " (UUID('97522e57-d9ab-4bd6-97bf-c24d952602d2'), UUID('5d454588-283d-459d-915d-c48a2cb4c27f'), 'disgust', datetime.datetime(2020, 11, 7, 9, 43)),\n",
       " (UUID('97522e57-d9ab-4bd6-97bf-c24d952602d2'), UUID('92b87fa5-f271-43e0-af66-84fac21052e6'), 'dislike', datetime.datetime(2021, 6, 17, 12, 22)),\n",
       " (UUID('97522e57-d9ab-4bd6-97bf-c24d952602d2'), UUID('163daa38-8b77-48c9-9af6-37a6c1447ac2'), 'scared', datetime.datetime(2021, 4, 18, 5, 13)),\n",
       " (UUID('97522e57-d9ab-4bd6-97bf-c24d952602d2'), UUID('34e8add9-0206-47fd-a501-037b994650a2'), 'disgust', datetime.datetime(2021, 1, 6, 19, 13))]"
      ]
     },
     "execution_count": 10,
     "metadata": {},
     "output_type": "execute_result"
    }
   ],
   "source": [
    "%sql SELECT * FROM reactions LIMIT 5;"
   ]
  },
  {
   "cell_type": "code",
   "execution_count": 11,
   "id": "0e8e2063-6edd-4972-b99f-c8451afc9373",
   "metadata": {},
   "outputs": [
    {
     "name": "stdout",
     "output_type": "stream",
     "text": [
      " * postgresql://postgres:***@:5433/socialbuzz\n",
      "5 rows affected.\n"
     ]
    },
    {
     "data": {
      "text/html": [
       "<table>\n",
       "    <thead>\n",
       "        <tr>\n",
       "            <th>reaction_type</th>\n",
       "            <th>sentiment</th>\n",
       "            <th>score</th>\n",
       "        </tr>\n",
       "    </thead>\n",
       "    <tbody>\n",
       "        <tr>\n",
       "            <td>heart</td>\n",
       "            <td>positive</td>\n",
       "            <td>60</td>\n",
       "        </tr>\n",
       "        <tr>\n",
       "            <td>want</td>\n",
       "            <td>positive</td>\n",
       "            <td>70</td>\n",
       "        </tr>\n",
       "        <tr>\n",
       "            <td>disgust</td>\n",
       "            <td>negative</td>\n",
       "            <td>0</td>\n",
       "        </tr>\n",
       "        <tr>\n",
       "            <td>hate</td>\n",
       "            <td>negative</td>\n",
       "            <td>5</td>\n",
       "        </tr>\n",
       "        <tr>\n",
       "            <td>interested</td>\n",
       "            <td>positive</td>\n",
       "            <td>30</td>\n",
       "        </tr>\n",
       "    </tbody>\n",
       "</table>"
      ],
      "text/plain": [
       "[('heart', 'positive', 60),\n",
       " ('want', 'positive', 70),\n",
       " ('disgust', 'negative', 0),\n",
       " ('hate', 'negative', 5),\n",
       " ('interested', 'positive', 30)]"
      ]
     },
     "execution_count": 11,
     "metadata": {},
     "output_type": "execute_result"
    }
   ],
   "source": [
    "%sql SELECT * FROM reaction_types LIMIT 5;"
   ]
  },
  {
   "cell_type": "markdown",
   "id": "76591240-5a24-4ea3-a078-b3e89dd52b44",
   "metadata": {},
   "source": [
    "#### Data Cleaning:\n",
    "\n",
    "- Remove rows that have missing values\n",
    "- Standarize values in certain column when neccessary. "
   ]
  },
  {
   "cell_type": "markdown",
   "id": "055c9fdd-31f0-4ee7-ab7a-39ffa5a1d78a",
   "metadata": {},
   "source": [
    "Validate rows with null values"
   ]
  },
  {
   "cell_type": "code",
   "execution_count": 12,
   "id": "c17b61fe-de9c-48cb-858e-b4ea69bcc7b2",
   "metadata": {},
   "outputs": [
    {
     "name": "stdout",
     "output_type": "stream",
     "text": [
      " * postgresql://postgres:***@:5433/socialbuzz\n",
      "1 rows affected.\n"
     ]
    },
    {
     "data": {
      "text/html": [
       "<table>\n",
       "    <thead>\n",
       "        <tr>\n",
       "            <th>null_count_content_id</th>\n",
       "            <th>null_count_user_id</th>\n",
       "            <th>null_count_reaction_type</th>\n",
       "            <th>null_count_datetime</th>\n",
       "        </tr>\n",
       "    </thead>\n",
       "    <tbody>\n",
       "        <tr>\n",
       "            <td>0</td>\n",
       "            <td>3019</td>\n",
       "            <td>980</td>\n",
       "            <td>0</td>\n",
       "        </tr>\n",
       "    </tbody>\n",
       "</table>"
      ],
      "text/plain": [
       "[(0, 3019, 980, 0)]"
      ]
     },
     "execution_count": 12,
     "metadata": {},
     "output_type": "execute_result"
    }
   ],
   "source": [
    "%sql SELECT\\\n",
    "    COUNT(CASE WHEN content_id IS NULL THEN 1 END) AS null_count_content_id,\\\n",
    "    COUNT(CASE WHEN user_id IS NULL THEN 1 END) AS null_count_user_id,\\\n",
    "    COUNT(CASE WHEN reaction_type IS NULL THEN 1 END) AS null_count_reaction_type,\\\n",
    "    COUNT(CASE WHEN datetime IS NULL THEN 1 END) AS null_count_datetime\\\n",
    "FROM reactions;"
   ]
  },
  {
   "cell_type": "markdown",
   "id": "10d6e0e9-feaf-40ff-ae87-4713e29157ae",
   "metadata": {},
   "source": [
    "There are no null values in the \"contents\" and \"reaction_types\" tables. However, missing values were identified in the \"user_id\" and \"reaction_type\" columns within the \"reactions\" table. It is crucial to note that while missing values in the \"reaction_type\" column may impact our results, the absence of values in the \"user_id\" column will not affect any outcomes. As a result, the rows with missing values in the \"user_id\" column will be left unchanged, while the rows with missing values in the \"reaction_types\" column will be dropped."
   ]
  },
  {
   "cell_type": "code",
   "execution_count": 13,
   "id": "edeef801-6821-4ea5-bbed-c27580a92acb",
   "metadata": {},
   "outputs": [
    {
     "name": "stdout",
     "output_type": "stream",
     "text": [
      " * postgresql://postgres:***@:5433/socialbuzz\n",
      "3 rows affected.\n"
     ]
    },
    {
     "data": {
      "text/html": [
       "<table>\n",
       "    <thead>\n",
       "        <tr>\n",
       "            <th>category</th>\n",
       "            <th>count</th>\n",
       "        </tr>\n",
       "    </thead>\n",
       "    <tbody>\n",
       "        <tr>\n",
       "            <td>&quot;animals&quot;</td>\n",
       "            <td>1</td>\n",
       "        </tr>\n",
       "        <tr>\n",
       "            <td>animals</td>\n",
       "            <td>67</td>\n",
       "        </tr>\n",
       "        <tr>\n",
       "            <td>Animals</td>\n",
       "            <td>4</td>\n",
       "        </tr>\n",
       "    </tbody>\n",
       "</table>"
      ],
      "text/plain": [
       "[('\"animals\"', 1), ('animals', 67), ('Animals', 4)]"
      ]
     },
     "execution_count": 13,
     "metadata": {},
     "output_type": "execute_result"
    }
   ],
   "source": [
    "%sql SELECT category, COUNT(*) \\\n",
    "FROM contents \\\n",
    "WHERE category ILIKE '%animals%'\\\n",
    "GROUP BY category \\\n",
    "ORDER BY category;"
   ]
  },
  {
   "cell_type": "code",
   "execution_count": 14,
   "id": "7e9d6124-3e77-470f-8547-1e631f7a51e6",
   "metadata": {},
   "outputs": [
    {
     "name": "stdout",
     "output_type": "stream",
     "text": [
      " * postgresql://postgres:***@:5433/socialbuzz\n",
      "16 rows affected.\n"
     ]
    },
    {
     "data": {
      "text/html": [
       "<table>\n",
       "    <thead>\n",
       "        <tr>\n",
       "            <th>cleaned_category</th>\n",
       "            <th>count</th>\n",
       "        </tr>\n",
       "    </thead>\n",
       "    <tbody>\n",
       "        <tr>\n",
       "            <td>animals</td>\n",
       "            <td>72</td>\n",
       "        </tr>\n",
       "        <tr>\n",
       "            <td>cooking</td>\n",
       "            <td>61</td>\n",
       "        </tr>\n",
       "        <tr>\n",
       "            <td>culture</td>\n",
       "            <td>67</td>\n",
       "        </tr>\n",
       "        <tr>\n",
       "            <td>dogs</td>\n",
       "            <td>58</td>\n",
       "        </tr>\n",
       "        <tr>\n",
       "            <td>education</td>\n",
       "            <td>59</td>\n",
       "        </tr>\n",
       "        <tr>\n",
       "            <td>fitness</td>\n",
       "            <td>66</td>\n",
       "        </tr>\n",
       "        <tr>\n",
       "            <td>food</td>\n",
       "            <td>64</td>\n",
       "        </tr>\n",
       "        <tr>\n",
       "            <td>healthy eating</td>\n",
       "            <td>62</td>\n",
       "        </tr>\n",
       "        <tr>\n",
       "            <td>public speaking</td>\n",
       "            <td>50</td>\n",
       "        </tr>\n",
       "        <tr>\n",
       "            <td>science</td>\n",
       "            <td>68</td>\n",
       "        </tr>\n",
       "        <tr>\n",
       "            <td>soccer</td>\n",
       "            <td>64</td>\n",
       "        </tr>\n",
       "        <tr>\n",
       "            <td>studying</td>\n",
       "            <td>58</td>\n",
       "        </tr>\n",
       "        <tr>\n",
       "            <td>technology</td>\n",
       "            <td>73</td>\n",
       "        </tr>\n",
       "        <tr>\n",
       "            <td>tennis</td>\n",
       "            <td>59</td>\n",
       "        </tr>\n",
       "        <tr>\n",
       "            <td>travel</td>\n",
       "            <td>69</td>\n",
       "        </tr>\n",
       "        <tr>\n",
       "            <td>veganism</td>\n",
       "            <td>50</td>\n",
       "        </tr>\n",
       "    </tbody>\n",
       "</table>"
      ],
      "text/plain": [
       "[('animals', 72),\n",
       " ('cooking', 61),\n",
       " ('culture', 67),\n",
       " ('dogs', 58),\n",
       " ('education', 59),\n",
       " ('fitness', 66),\n",
       " ('food', 64),\n",
       " ('healthy eating', 62),\n",
       " ('public speaking', 50),\n",
       " ('science', 68),\n",
       " ('soccer', 64),\n",
       " ('studying', 58),\n",
       " ('technology', 73),\n",
       " ('tennis', 59),\n",
       " ('travel', 69),\n",
       " ('veganism', 50)]"
      ]
     },
     "execution_count": 14,
     "metadata": {},
     "output_type": "execute_result"
    }
   ],
   "source": [
    "%sql \\\n",
    "SELECT \\\n",
    "    REPLACE(LOWER(category), '\\\"', '') AS cleaned_category, \\\n",
    "    COUNT(*) \\\n",
    "FROM \\\n",
    "    contents \\\n",
    "GROUP BY \\\n",
    "    cleaned_category \\\n",
    "ORDER BY \\\n",
    "    cleaned_category;"
   ]
  },
  {
   "cell_type": "code",
   "execution_count": 15,
   "id": "1a66f89b-8ddb-4c36-b1a9-5a17392eec39",
   "metadata": {},
   "outputs": [
    {
     "name": "stdout",
     "output_type": "stream",
     "text": [
      " * postgresql://postgres:***@:5433/socialbuzz\n",
      "Done.\n",
      "Done.\n"
     ]
    },
    {
     "data": {
      "text/plain": [
       "[]"
      ]
     },
     "execution_count": 15,
     "metadata": {},
     "output_type": "execute_result"
    }
   ],
   "source": [
    "%sql DROP VIEW IF EXISTS n_contents CASCADE; \\\n",
    "CREATE VIEW n_contents AS \\\n",
    "SELECT content_id, content_type, REPLACE(LOWER(category), '\\\"', '') AS cleaned_category, url  \\\n",
    "FROM contents;"
   ]
  },
  {
   "cell_type": "code",
   "execution_count": 16,
   "id": "f690cc0a-5d2a-47ef-a84c-cad9aab1576a",
   "metadata": {},
   "outputs": [
    {
     "name": "stdout",
     "output_type": "stream",
     "text": [
      " * postgresql://postgres:***@:5433/socialbuzz\n",
      "5 rows affected.\n"
     ]
    },
    {
     "data": {
      "text/html": [
       "<table>\n",
       "    <thead>\n",
       "        <tr>\n",
       "            <th>content_id</th>\n",
       "            <th>content_type</th>\n",
       "            <th>cleaned_category</th>\n",
       "            <th>url</th>\n",
       "        </tr>\n",
       "    </thead>\n",
       "    <tbody>\n",
       "        <tr>\n",
       "            <td>97522e57-d9ab-4bd6-97bf-c24d952602d2</td>\n",
       "            <td>photo</td>\n",
       "            <td>studying</td>\n",
       "            <td>https://socialbuzz.cdn.com/content/storage/97522e57-d9ab-4bd6-97bf-c24d952602d2</td>\n",
       "        </tr>\n",
       "        <tr>\n",
       "            <td>9f737e0a-3cdd-4d29-9d24-753f4e3be810</td>\n",
       "            <td>photo</td>\n",
       "            <td>healthy eating</td>\n",
       "            <td>https://socialbuzz.cdn.com/content/storage/9f737e0a-3cdd-4d29-9d24-753f4e3be810</td>\n",
       "        </tr>\n",
       "        <tr>\n",
       "            <td>230c4e4d-70c3-461d-b42c-ec09396efb3f</td>\n",
       "            <td>photo</td>\n",
       "            <td>healthy eating</td>\n",
       "            <td>https://socialbuzz.cdn.com/content/storage/230c4e4d-70c3-461d-b42c-ec09396efb3f</td>\n",
       "        </tr>\n",
       "        <tr>\n",
       "            <td>356fff80-da4d-4785-9f43-bc1261031dc6</td>\n",
       "            <td>photo</td>\n",
       "            <td>technology</td>\n",
       "            <td>https://socialbuzz.cdn.com/content/storage/356fff80-da4d-4785-9f43-bc1261031dc6</td>\n",
       "        </tr>\n",
       "        <tr>\n",
       "            <td>01ab84dd-6364-4236-abbb-3f237db77180</td>\n",
       "            <td>video</td>\n",
       "            <td>food</td>\n",
       "            <td>https://socialbuzz.cdn.com/content/storage/01ab84dd-6364-4236-abbb-3f237db77180</td>\n",
       "        </tr>\n",
       "    </tbody>\n",
       "</table>"
      ],
      "text/plain": [
       "[(UUID('97522e57-d9ab-4bd6-97bf-c24d952602d2'), 'photo', 'studying', 'https://socialbuzz.cdn.com/content/storage/97522e57-d9ab-4bd6-97bf-c24d952602d2'),\n",
       " (UUID('9f737e0a-3cdd-4d29-9d24-753f4e3be810'), 'photo', 'healthy eating', 'https://socialbuzz.cdn.com/content/storage/9f737e0a-3cdd-4d29-9d24-753f4e3be810'),\n",
       " (UUID('230c4e4d-70c3-461d-b42c-ec09396efb3f'), 'photo', 'healthy eating', 'https://socialbuzz.cdn.com/content/storage/230c4e4d-70c3-461d-b42c-ec09396efb3f'),\n",
       " (UUID('356fff80-da4d-4785-9f43-bc1261031dc6'), 'photo', 'technology', 'https://socialbuzz.cdn.com/content/storage/356fff80-da4d-4785-9f43-bc1261031dc6'),\n",
       " (UUID('01ab84dd-6364-4236-abbb-3f237db77180'), 'video', 'food', 'https://socialbuzz.cdn.com/content/storage/01ab84dd-6364-4236-abbb-3f237db77180')]"
      ]
     },
     "execution_count": 16,
     "metadata": {},
     "output_type": "execute_result"
    }
   ],
   "source": [
    "%sql SELECT * \\\n",
    "FROM n_contents \\\n",
    "LIMIT 5;"
   ]
  },
  {
   "cell_type": "markdown",
   "id": "4bc7b879-f97c-4df5-988d-40ab76dadaec",
   "metadata": {},
   "source": [
    "#### Data Analysis"
   ]
  },
  {
   "cell_type": "markdown",
   "id": "d127b245-09ff-4aa1-bcc9-1d1f51f1d473",
   "metadata": {
    "tags": []
   },
   "source": [
    "#### Popularity Score by Category\n",
    "- Calculate the aggregate popularity score for each category by summing up the scores of all reactions within that category.\n",
    "- Identify the top 5 categories with the highest aggregate popularity scores.\n",
    "#### Number of Reactions per Category\n",
    "- Count the number of reactions for each category.\n",
    "- This metric helps to understand not just the popularity score but also the overall engagement level for each category.\n",
    "\n",
    "The Popularity Score and the Number of Reactions by category exhibit a parallel trend, indicating a consistent pattern. The top 5 categories in both the Popularity Score and the Number of Reactions are animals, science, healthy eating, technology, and food."
   ]
  },
  {
   "cell_type": "code",
   "execution_count": 17,
   "id": "f57e2a30-aac1-4308-acc4-9470bee98754",
   "metadata": {},
   "outputs": [
    {
     "name": "stdout",
     "output_type": "stream",
     "text": [
      " * postgresql://postgres:***@:5433/socialbuzz\n",
      "16 rows affected.\n"
     ]
    },
    {
     "data": {
      "text/html": [
       "<table>\n",
       "    <thead>\n",
       "        <tr>\n",
       "            <th>category</th>\n",
       "            <th>popularity_score</th>\n",
       "            <th>number_of_reaction</th>\n",
       "        </tr>\n",
       "    </thead>\n",
       "    <tbody>\n",
       "        <tr>\n",
       "            <td>animals</td>\n",
       "            <td>74965</td>\n",
       "            <td>1967</td>\n",
       "        </tr>\n",
       "        <tr>\n",
       "            <td>science</td>\n",
       "            <td>71168</td>\n",
       "            <td>1864</td>\n",
       "        </tr>\n",
       "        <tr>\n",
       "            <td>healthy eating</td>\n",
       "            <td>69339</td>\n",
       "            <td>1779</td>\n",
       "        </tr>\n",
       "        <tr>\n",
       "            <td>technology</td>\n",
       "            <td>68738</td>\n",
       "            <td>1769</td>\n",
       "        </tr>\n",
       "        <tr>\n",
       "            <td>food</td>\n",
       "            <td>66676</td>\n",
       "            <td>1762</td>\n",
       "        </tr>\n",
       "        <tr>\n",
       "            <td>culture</td>\n",
       "            <td>66579</td>\n",
       "            <td>1741</td>\n",
       "        </tr>\n",
       "        <tr>\n",
       "            <td>travel</td>\n",
       "            <td>64880</td>\n",
       "            <td>1716</td>\n",
       "        </tr>\n",
       "        <tr>\n",
       "            <td>cooking</td>\n",
       "            <td>64756</td>\n",
       "            <td>1724</td>\n",
       "        </tr>\n",
       "        <tr>\n",
       "            <td>soccer</td>\n",
       "            <td>57783</td>\n",
       "            <td>1520</td>\n",
       "        </tr>\n",
       "        <tr>\n",
       "            <td>education</td>\n",
       "            <td>57436</td>\n",
       "            <td>1492</td>\n",
       "        </tr>\n",
       "        <tr>\n",
       "            <td>fitness</td>\n",
       "            <td>55323</td>\n",
       "            <td>1457</td>\n",
       "        </tr>\n",
       "        <tr>\n",
       "            <td>studying</td>\n",
       "            <td>54269</td>\n",
       "            <td>1418</td>\n",
       "        </tr>\n",
       "        <tr>\n",
       "            <td>dogs</td>\n",
       "            <td>52511</td>\n",
       "            <td>1396</td>\n",
       "        </tr>\n",
       "        <tr>\n",
       "            <td>tennis</td>\n",
       "            <td>50339</td>\n",
       "            <td>1384</td>\n",
       "        </tr>\n",
       "        <tr>\n",
       "            <td>veganism</td>\n",
       "            <td>49619</td>\n",
       "            <td>1298</td>\n",
       "        </tr>\n",
       "        <tr>\n",
       "            <td>public speaking</td>\n",
       "            <td>49264</td>\n",
       "            <td>1266</td>\n",
       "        </tr>\n",
       "    </tbody>\n",
       "</table>"
      ],
      "text/plain": [
       "[('animals', 74965, 1967),\n",
       " ('science', 71168, 1864),\n",
       " ('healthy eating', 69339, 1779),\n",
       " ('technology', 68738, 1769),\n",
       " ('food', 66676, 1762),\n",
       " ('culture', 66579, 1741),\n",
       " ('travel', 64880, 1716),\n",
       " ('cooking', 64756, 1724),\n",
       " ('soccer', 57783, 1520),\n",
       " ('education', 57436, 1492),\n",
       " ('fitness', 55323, 1457),\n",
       " ('studying', 54269, 1418),\n",
       " ('dogs', 52511, 1396),\n",
       " ('tennis', 50339, 1384),\n",
       " ('veganism', 49619, 1298),\n",
       " ('public speaking', 49264, 1266)]"
      ]
     },
     "execution_count": 17,
     "metadata": {},
     "output_type": "execute_result"
    }
   ],
   "source": [
    "%%sql \n",
    "SELECT popularity.category, popularity.popularity_score, \n",
    "reaction.number_of_reaction\n",
    "FROM(\n",
    "SELECT cleaned_category AS category, \n",
    "SUM(score) AS popularity_score\n",
    "FROM reactions AS r\n",
    "JOIN n_contents AS n\n",
    "ON n.content_id = r.content_id\n",
    "JOIN reaction_types AS rt\n",
    "ON rt.reaction_type = r.reaction_type\n",
    "GROUP BY category) AS popularity\n",
    "JOIN (\n",
    "    SELECT cleaned_category AS category, \n",
    "    COUNT(datetime) AS number_of_reaction\n",
    "    FROM reactions AS r\n",
    "    JOIN n_contents AS n\n",
    "    ON n.content_id = r.content_id\n",
    "    GROUP BY category\n",
    ") AS reaction\n",
    "ON reaction.category = popularity.category\n",
    "ORDER BY popularity_score DESC;"
   ]
  },
  {
   "cell_type": "markdown",
   "id": "c122098a-0597-4ff4-beaa-efc81efc871f",
   "metadata": {},
   "source": [
    "#### Number of Reaction per Reaction Type\n",
    "- Calculate the count of reaction for each reaction type.\n",
    "- This can provide insights into which types of reactions are generally more popular.\n",
    "\n",
    "The top 5 reaction_types are heart(positive), scared(negative), peeking(neautral), hate(negative) and interested(positive). "
   ]
  },
  {
   "cell_type": "code",
   "execution_count": 18,
   "id": "ef0ce066-e6ee-42c5-b818-332b3cc1a125",
   "metadata": {},
   "outputs": [
    {
     "name": "stdout",
     "output_type": "stream",
     "text": [
      " * postgresql://postgres:***@:5433/socialbuzz\n",
      "16 rows affected.\n"
     ]
    },
    {
     "data": {
      "text/html": [
       "<table>\n",
       "    <thead>\n",
       "        <tr>\n",
       "            <th>reaction_type</th>\n",
       "            <th>sentiment</th>\n",
       "            <th>count</th>\n",
       "        </tr>\n",
       "    </thead>\n",
       "    <tbody>\n",
       "        <tr>\n",
       "            <td>heart</td>\n",
       "            <td>positive</td>\n",
       "            <td>1622</td>\n",
       "        </tr>\n",
       "        <tr>\n",
       "            <td>scared</td>\n",
       "            <td>negative</td>\n",
       "            <td>1572</td>\n",
       "        </tr>\n",
       "        <tr>\n",
       "            <td>peeking</td>\n",
       "            <td>neutral</td>\n",
       "            <td>1559</td>\n",
       "        </tr>\n",
       "        <tr>\n",
       "            <td>hate</td>\n",
       "            <td>negative</td>\n",
       "            <td>1552</td>\n",
       "        </tr>\n",
       "        <tr>\n",
       "            <td>interested</td>\n",
       "            <td>positive</td>\n",
       "            <td>1549</td>\n",
       "        </tr>\n",
       "        <tr>\n",
       "            <td>dislike</td>\n",
       "            <td>negative</td>\n",
       "            <td>1548</td>\n",
       "        </tr>\n",
       "        <tr>\n",
       "            <td>adore</td>\n",
       "            <td>positive</td>\n",
       "            <td>1548</td>\n",
       "        </tr>\n",
       "        <tr>\n",
       "            <td>want</td>\n",
       "            <td>positive</td>\n",
       "            <td>1539</td>\n",
       "        </tr>\n",
       "        <tr>\n",
       "            <td>love</td>\n",
       "            <td>positive</td>\n",
       "            <td>1534</td>\n",
       "        </tr>\n",
       "        <tr>\n",
       "            <td>disgust</td>\n",
       "            <td>negative</td>\n",
       "            <td>1526</td>\n",
       "        </tr>\n",
       "        <tr>\n",
       "            <td>like</td>\n",
       "            <td>positive</td>\n",
       "            <td>1520</td>\n",
       "        </tr>\n",
       "        <tr>\n",
       "            <td>super love</td>\n",
       "            <td>positive</td>\n",
       "            <td>1519</td>\n",
       "        </tr>\n",
       "        <tr>\n",
       "            <td>indifferent</td>\n",
       "            <td>neutral</td>\n",
       "            <td>1512</td>\n",
       "        </tr>\n",
       "        <tr>\n",
       "            <td>cherish</td>\n",
       "            <td>positive</td>\n",
       "            <td>1501</td>\n",
       "        </tr>\n",
       "        <tr>\n",
       "            <td>worried</td>\n",
       "            <td>negative</td>\n",
       "            <td>1497</td>\n",
       "        </tr>\n",
       "        <tr>\n",
       "            <td>intrigued</td>\n",
       "            <td>positive</td>\n",
       "            <td>1475</td>\n",
       "        </tr>\n",
       "    </tbody>\n",
       "</table>"
      ],
      "text/plain": [
       "[('heart', 'positive', 1622),\n",
       " ('scared', 'negative', 1572),\n",
       " ('peeking', 'neutral', 1559),\n",
       " ('hate', 'negative', 1552),\n",
       " ('interested', 'positive', 1549),\n",
       " ('dislike', 'negative', 1548),\n",
       " ('adore', 'positive', 1548),\n",
       " ('want', 'positive', 1539),\n",
       " ('love', 'positive', 1534),\n",
       " ('disgust', 'negative', 1526),\n",
       " ('like', 'positive', 1520),\n",
       " ('super love', 'positive', 1519),\n",
       " ('indifferent', 'neutral', 1512),\n",
       " ('cherish', 'positive', 1501),\n",
       " ('worried', 'negative', 1497),\n",
       " ('intrigued', 'positive', 1475)]"
      ]
     },
     "execution_count": 18,
     "metadata": {},
     "output_type": "execute_result"
    }
   ],
   "source": [
    "%%sql \n",
    "SELECT r.reaction_type, sentiment,\n",
    "COUNT(score)\n",
    "FROM reactions AS r\n",
    "JOIN reaction_types AS rt\n",
    "ON r.reaction_type = rt.reaction_type\n",
    "GROUP BY r.reaction_type, sentiment\n",
    "ORDER BY count DESC;"
   ]
  },
  {
   "cell_type": "markdown",
   "id": "ff82d087-6fc7-462b-90d4-06a77c05cf58",
   "metadata": {},
   "source": [
    "#### Sentiment Analysis:\n",
    "\n",
    "- Analyze the sentiment associated with each reaction type within a category.\n",
    "- Understand whether positive, negative, or neutral sentiments contribute more to the overall popularity. \n",
    "\n",
    "Out of the total reaction count, positive sentiments made the most significant contribution. However, it's important to note that positive sentiments were expressed through 9 reaction types, while negative sentiments were conveyed through 5 reactions, and neutral sentiments only had 2. To better gauge sentiment, dividing the total count byy reaction made by the number of reaction types provides a more appropriate measure.\n",
    "\n",
    "In the end, the average count for all three sentiments is similar across the board."
   ]
  },
  {
   "cell_type": "code",
   "execution_count": 19,
   "id": "0559784b-703b-4045-845b-eed8d7c9ff47",
   "metadata": {},
   "outputs": [
    {
     "name": "stdout",
     "output_type": "stream",
     "text": [
      " * postgresql://postgres:***@:5433/socialbuzz\n",
      "3 rows affected.\n"
     ]
    },
    {
     "data": {
      "text/html": [
       "<table>\n",
       "    <thead>\n",
       "        <tr>\n",
       "            <th>sentiment</th>\n",
       "            <th>count</th>\n",
       "            <th>distinct_count</th>\n",
       "            <th>average_count</th>\n",
       "        </tr>\n",
       "    </thead>\n",
       "    <tbody>\n",
       "        <tr>\n",
       "            <td>positive</td>\n",
       "            <td>13807</td>\n",
       "            <td>9</td>\n",
       "            <td>1534</td>\n",
       "        </tr>\n",
       "        <tr>\n",
       "            <td>negative</td>\n",
       "            <td>7695</td>\n",
       "            <td>5</td>\n",
       "            <td>1539</td>\n",
       "        </tr>\n",
       "        <tr>\n",
       "            <td>neutral</td>\n",
       "            <td>3071</td>\n",
       "            <td>2</td>\n",
       "            <td>1535</td>\n",
       "        </tr>\n",
       "    </tbody>\n",
       "</table>"
      ],
      "text/plain": [
       "[('positive', 13807, 9, 1534),\n",
       " ('negative', 7695, 5, 1539),\n",
       " ('neutral', 3071, 2, 1535)]"
      ]
     },
     "execution_count": 19,
     "metadata": {},
     "output_type": "execute_result"
    }
   ],
   "source": [
    "%%sql SELECT sentiment, \n",
    "COUNT(r.reaction_type) AS count,\n",
    "COUNT(DISTINCT r.reaction_type) AS distinct_count,\n",
    "COUNT(r.reaction_type) / COUNT(DISTINCT r.reaction_type) \n",
    "AS average_count\n",
    "FROM reactions AS r\n",
    "JOIN reaction_types AS rt\n",
    "ON r.reaction_type = rt.reaction_type\n",
    "GROUP BY sentiment\n",
    "ORDER BY count DESC;"
   ]
  },
  {
   "cell_type": "markdown",
   "id": "25cb4188-edbc-419b-8c14-0cf923772e78",
   "metadata": {},
   "source": [
    "#### User Engagement:\n",
    "\n",
    "- Calculate the average number of reactions per user.\n",
    "- This metric helps to understand how engaged users are with the content across different categories.\n",
    "\n",
    "\n",
    "The dataset monitored a total of 500 user_ids. On average, each user_id contributed 49 reactions. The user_id with the highest number of reactions provided a total of 65 reactions."
   ]
  },
  {
   "cell_type": "code",
   "execution_count": 20,
   "id": "3831056b-816e-46a1-94c3-c78cbf5bce19",
   "metadata": {},
   "outputs": [
    {
     "name": "stdout",
     "output_type": "stream",
     "text": [
      " * postgresql://postgres:***@:5433/socialbuzz\n",
      "(psycopg2.errors.SyntaxError) syntax error at or near \"FROM\"\n",
      "LINE 2: FROM reactions;\n",
      "        ^\n",
      "\n",
      "[SQL: SELECT COUNT(DISTINCT user_id) AS user_count,\n",
      "FROM reactions;]\n",
      "(Background on this error at: https://sqlalche.me/e/20/f405)\n"
     ]
    }
   ],
   "source": [
    "%%sql\n",
    "\n",
    "SELECT COUNT(DISTINCT user_id) AS user_count,\n",
    "FROM reactions;"
   ]
  },
  {
   "cell_type": "code",
   "execution_count": 21,
   "id": "365cb14d-95f5-42b5-bbf6-0e8d5a69e2af",
   "metadata": {},
   "outputs": [
    {
     "name": "stdout",
     "output_type": "stream",
     "text": [
      " * postgresql://postgres:***@:5433/socialbuzz\n",
      "1 rows affected.\n"
     ]
    },
    {
     "data": {
      "text/html": [
       "<table>\n",
       "    <thead>\n",
       "        <tr>\n",
       "            <th>round</th>\n",
       "        </tr>\n",
       "    </thead>\n",
       "    <tbody>\n",
       "        <tr>\n",
       "            <td>49.05</td>\n",
       "        </tr>\n",
       "    </tbody>\n",
       "</table>"
      ],
      "text/plain": [
       "[(Decimal('49.05'),)]"
      ]
     },
     "execution_count": 21,
     "metadata": {},
     "output_type": "execute_result"
    }
   ],
   "source": [
    "%%sql \n",
    "SELECT ROUND(AVG(count),2)\n",
    "FROM (\n",
    "SELECT user_id,\n",
    "    COUNT(reaction_type) AS count\n",
    "FROM reactions\n",
    "GROUP BY user_id\n",
    "ORDER BY user_id);\n"
   ]
  },
  {
   "cell_type": "code",
   "execution_count": 22,
   "id": "db7e1a2f-1521-4c97-b305-a4f717ca78c8",
   "metadata": {
    "tags": []
   },
   "outputs": [
    {
     "name": "stdout",
     "output_type": "stream",
     "text": [
      " * postgresql://postgres:***@:5433/socialbuzz\n",
      "5 rows affected.\n"
     ]
    },
    {
     "data": {
      "text/html": [
       "<table>\n",
       "    <thead>\n",
       "        <tr>\n",
       "            <th>user_id</th>\n",
       "            <th>count</th>\n",
       "        </tr>\n",
       "    </thead>\n",
       "    <tbody>\n",
       "        <tr>\n",
       "            <td>68724f58-bc4d-4ab0-a4e1-60cdd5e95e7d</td>\n",
       "            <td>65</td>\n",
       "        </tr>\n",
       "        <tr>\n",
       "            <td>c76c3393-88e2-47b0-ac37-dc4f2053f5a5</td>\n",
       "            <td>65</td>\n",
       "        </tr>\n",
       "        <tr>\n",
       "            <td>0871bb31-3d6e-4e4c-ab19-95a262cac0d4</td>\n",
       "            <td>63</td>\n",
       "        </tr>\n",
       "        <tr>\n",
       "            <td>4fe1900d-5e78-41a3-88ed-18e6889c6c77</td>\n",
       "            <td>62</td>\n",
       "        </tr>\n",
       "        <tr>\n",
       "            <td>d1a89d23-7d17-4949-9e1a-637317141f3d</td>\n",
       "            <td>62</td>\n",
       "        </tr>\n",
       "    </tbody>\n",
       "</table>"
      ],
      "text/plain": [
       "[(UUID('68724f58-bc4d-4ab0-a4e1-60cdd5e95e7d'), 65),\n",
       " (UUID('c76c3393-88e2-47b0-ac37-dc4f2053f5a5'), 65),\n",
       " (UUID('0871bb31-3d6e-4e4c-ab19-95a262cac0d4'), 63),\n",
       " (UUID('4fe1900d-5e78-41a3-88ed-18e6889c6c77'), 62),\n",
       " (UUID('d1a89d23-7d17-4949-9e1a-637317141f3d'), 62)]"
      ]
     },
     "execution_count": 22,
     "metadata": {},
     "output_type": "execute_result"
    }
   ],
   "source": [
    "%%sql \n",
    "SELECT user_id, COUNT(reaction_type) \n",
    "FROM reactions \n",
    "WHERE user_id IS NOT NULL\n",
    "GROUP BY user_id\n",
    "ORDER BY count DESC\n",
    "LIMIT 5;"
   ]
  },
  {
   "cell_type": "markdown",
   "id": "e53d8b2b-ac6e-42d8-9ec7-bf83a7ee4486",
   "metadata": {},
   "source": [
    "#### Time-based Analysis\n",
    "\n",
    "- Analyze the popularity trends over time.\n",
    "- Break down the popularity scores and reactions by weeks or months to identify any patterns or trends.\n",
    "\n",
    "\n",
    "Both the Aggregated Popularity score and the reaction count reached their peak in May and hit their lowest point in February."
   ]
  },
  {
   "cell_type": "code",
   "execution_count": 23,
   "id": "3bede385-3207-4c1e-95e2-0cbbf7e3ef5d",
   "metadata": {},
   "outputs": [
    {
     "name": "stdout",
     "output_type": "stream",
     "text": [
      " * postgresql://postgres:***@:5433/socialbuzz\n",
      "12 rows affected.\n"
     ]
    },
    {
     "data": {
      "text/html": [
       "<table>\n",
       "    <thead>\n",
       "        <tr>\n",
       "            <th>month</th>\n",
       "            <th>popularity_score</th>\n",
       "            <th>normalized_score</th>\n",
       "            <th>reaction_count</th>\n",
       "            <th>normalized_count</th>\n",
       "        </tr>\n",
       "    </thead>\n",
       "    <tbody>\n",
       "        <tr>\n",
       "            <td>1</td>\n",
       "            <td>82938</td>\n",
       "            <td>0.661</td>\n",
       "            <td>2126</td>\n",
       "            <td>1.193</td>\n",
       "        </tr>\n",
       "        <tr>\n",
       "            <td>2</td>\n",
       "            <td>75509</td>\n",
       "            <td>-2.066</td>\n",
       "            <td>1914</td>\n",
       "            <td>-2.039</td>\n",
       "        </tr>\n",
       "        <tr>\n",
       "            <td>3</td>\n",
       "            <td>78915</td>\n",
       "            <td>-0.816</td>\n",
       "            <td>2012</td>\n",
       "            <td>-0.545</td>\n",
       "        </tr>\n",
       "        <tr>\n",
       "            <td>4</td>\n",
       "            <td>78598</td>\n",
       "            <td>-0.932</td>\n",
       "            <td>1974</td>\n",
       "            <td>-1.124</td>\n",
       "        </tr>\n",
       "        <tr>\n",
       "            <td>5</td>\n",
       "            <td>86293</td>\n",
       "            <td>1.892</td>\n",
       "            <td>2138</td>\n",
       "            <td>1.376</td>\n",
       "        </tr>\n",
       "        <tr>\n",
       "            <td>6</td>\n",
       "            <td>80369</td>\n",
       "            <td>-0.282</td>\n",
       "            <td>2021</td>\n",
       "            <td>-0.408</td>\n",
       "        </tr>\n",
       "        <tr>\n",
       "            <td>7</td>\n",
       "            <td>82464</td>\n",
       "            <td>0.487</td>\n",
       "            <td>2070</td>\n",
       "            <td>0.339</td>\n",
       "        </tr>\n",
       "        <tr>\n",
       "            <td>8</td>\n",
       "            <td>82176</td>\n",
       "            <td>0.381</td>\n",
       "            <td>2114</td>\n",
       "            <td>1.010</td>\n",
       "        </tr>\n",
       "        <tr>\n",
       "            <td>9</td>\n",
       "            <td>80077</td>\n",
       "            <td>-0.389</td>\n",
       "            <td>2022</td>\n",
       "            <td>-0.392</td>\n",
       "        </tr>\n",
       "        <tr>\n",
       "            <td>10</td>\n",
       "            <td>82810</td>\n",
       "            <td>0.614</td>\n",
       "            <td>2056</td>\n",
       "            <td>0.126</td>\n",
       "        </tr>\n",
       "        <tr>\n",
       "            <td>11</td>\n",
       "            <td>82333</td>\n",
       "            <td>0.439</td>\n",
       "            <td>2034</td>\n",
       "            <td>-0.210</td>\n",
       "        </tr>\n",
       "        <tr>\n",
       "            <td>12</td>\n",
       "            <td>81163</td>\n",
       "            <td>0.010</td>\n",
       "            <td>2092</td>\n",
       "            <td>0.674</td>\n",
       "        </tr>\n",
       "    </tbody>\n",
       "</table>"
      ],
      "text/plain": [
       "[(Decimal('1'), 82938, Decimal('0.661'), 2126, Decimal('1.193')),\n",
       " (Decimal('2'), 75509, Decimal('-2.066'), 1914, Decimal('-2.039')),\n",
       " (Decimal('3'), 78915, Decimal('-0.816'), 2012, Decimal('-0.545')),\n",
       " (Decimal('4'), 78598, Decimal('-0.932'), 1974, Decimal('-1.124')),\n",
       " (Decimal('5'), 86293, Decimal('1.892'), 2138, Decimal('1.376')),\n",
       " (Decimal('6'), 80369, Decimal('-0.282'), 2021, Decimal('-0.408')),\n",
       " (Decimal('7'), 82464, Decimal('0.487'), 2070, Decimal('0.339')),\n",
       " (Decimal('8'), 82176, Decimal('0.381'), 2114, Decimal('1.010')),\n",
       " (Decimal('9'), 80077, Decimal('-0.389'), 2022, Decimal('-0.392')),\n",
       " (Decimal('10'), 82810, Decimal('0.614'), 2056, Decimal('0.126')),\n",
       " (Decimal('11'), 82333, Decimal('0.439'), 2034, Decimal('-0.210')),\n",
       " (Decimal('12'), 81163, Decimal('0.010'), 2092, Decimal('0.674'))]"
      ]
     },
     "execution_count": 23,
     "metadata": {},
     "output_type": "execute_result"
    }
   ],
   "source": [
    "%%sql \n",
    "SELECT EXTRACT (MONTH FROM datetime) AS month,\n",
    "SUM(score) AS popularity_score,\n",
    "ROUND(\n",
    "((SUM(score)) - (\n",
    "SELECT AVG(popularity_score)\n",
    "FROM (\n",
    "SELECT EXTRACT(MONTH FROM datetime) AS month,\n",
    "    SUM(score) AS popularity_score\n",
    "FROM reactions\n",
    "JOIN reaction_types\n",
    "ON reactions.reaction_type = reaction_types.reaction_type\n",
    "GROUP BY month\n",
    "ORDER BY month)\n",
    ")) / (SELECT STDDEV(popularity_score)\n",
    "FROM (\n",
    "SELECT EXTRACT(MONTH FROM datetime) AS month,\n",
    "    SUM(score) AS popularity_score\n",
    "FROM reactions\n",
    "JOIN reaction_types\n",
    "ON reactions.reaction_type = reaction_types.reaction_type\n",
    "GROUP BY month\n",
    "ORDER BY month)),3) AS normalized_score,\n",
    "\n",
    "COUNT(*) AS reaction_count,\n",
    "\n",
    "ROUND(\n",
    "((COUNT(*)) - (\n",
    "SELECT AVG(reaction_count)\n",
    "FROM (\n",
    "SELECT EXTRACT(MONTH FROM datetime) AS month,\n",
    "    COUNT(*) AS reaction_count\n",
    "FROM reactions\n",
    "JOIN reaction_types\n",
    "ON reactions.reaction_type = reaction_types.reaction_type\n",
    "GROUP BY month\n",
    "ORDER BY month)\n",
    ")) / (SELECT STDDEV(reaction_count)\n",
    "FROM (\n",
    "SELECT EXTRACT(MONTH FROM datetime) AS month,\n",
    "    COUNT(*) AS reaction_count\n",
    "FROM reactions\n",
    "JOIN reaction_types\n",
    "ON reactions.reaction_type = reaction_types.reaction_type\n",
    "GROUP BY month\n",
    "ORDER BY month)),3) AS normalized_count\n",
    "\n",
    "\n",
    "\n",
    "FROM reactions\n",
    "JOIN reaction_types\n",
    "ON reactions.reaction_type = reaction_types.reaction_type\n",
    "GROUP BY month\n",
    "ORDER BY month;"
   ]
  }
 ],
 "metadata": {
  "kernelspec": {
   "display_name": "Python 3 (ipykernel)",
   "language": "python",
   "name": "python3"
  },
  "language_info": {
   "codemirror_mode": {
    "name": "ipython",
    "version": 3
   },
   "file_extension": ".py",
   "mimetype": "text/x-python",
   "name": "python",
   "nbconvert_exporter": "python",
   "pygments_lexer": "ipython3",
   "version": "3.9.13"
  }
 },
 "nbformat": 4,
 "nbformat_minor": 5
}
