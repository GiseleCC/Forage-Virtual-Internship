{
 "cells": [
  {
   "cell_type": "code",
   "execution_count": 1,
   "id": "14058f2f",
   "metadata": {},
   "outputs": [
    {
     "data": {
      "text/html": [
       "<link rel=\"preconnect\" href=\"https://fonts.googleapis.com\"><link rel=\"preconnect\" href=\"https://fonts.gstatic.com\" crossorigin><link href=\"https://fonts.googleapis.com/css2?family=Comfortaa:wght@300&display=swap\" rel=\"stylesheet\">"
      ],
      "text/plain": [
       "<IPython.core.display.HTML object>"
      ]
     },
     "metadata": {},
     "output_type": "display_data"
    }
   ],
   "source": [
    "from IPython.display import display, HTML\n",
    "display(HTML('<link rel=\"preconnect\" href=\"https://fonts.googleapis.com\">\\\n",
    "<link rel=\"preconnect\" href=\"https://fonts.gstatic.com\" crossorigin>\\\n",
    "<link href=\"https://fonts.googleapis.com/css2?family=Comfortaa:wght@300&display=swap\" rel=\"stylesheet\">'))"
   ]
  },
  {
   "cell_type": "markdown",
   "id": "3a3808b7",
   "metadata": {},
   "source": [
    "<font face=\"Comfortaa\"><h1> British Airways"
   ]
  },
  {
   "cell_type": "markdown",
   "id": "1044e59f",
   "metadata": {},
   "source": [
    "<font face=\"Comfortaa\"><h2> 1. Data Collection - Web Scraping"
   ]
  },
  {
   "cell_type": "code",
   "execution_count": 2,
   "id": "7ef5363e",
   "metadata": {},
   "outputs": [],
   "source": [
    "import requests\n",
    "from bs4 import BeautifulSoup\n",
    "import numpy as np\n",
    "import matplotlib.pyplot as plt\n",
    "import seaborn as sns"
   ]
  },
  {
   "cell_type": "code",
   "execution_count": 3,
   "id": "da7fbf5b",
   "metadata": {},
   "outputs": [],
   "source": [
    "sns.set(rc={'axes.facecolor':'black'})\n",
    "sns.set_palette(\"pastel\")"
   ]
  },
  {
   "cell_type": "code",
   "execution_count": 4,
   "id": "64d58d12",
   "metadata": {},
   "outputs": [],
   "source": [
    "url = \"https://www.airlinequality.com/airline-reviews/british-airways\"\n",
    "response = requests.get(url)\n",
    "\n",
    "if response.status_code == 200:\n",
    "    html_content = response.content\n",
    "else:\n",
    "    print(\"Failed to retrieve the page\")"
   ]
  },
  {
   "cell_type": "code",
   "execution_count": 5,
   "id": "37df2ca2",
   "metadata": {},
   "outputs": [],
   "source": [
    "soup = BeautifulSoup(html_content, 'html.parser')"
   ]
  },
  {
   "cell_type": "code",
   "execution_count": 6,
   "id": "9576c14d",
   "metadata": {},
   "outputs": [],
   "source": [
    "navigation_bar = soup.find_all('article', class_='comp comp_reviews-pagination querylist-pagination position-')\n",
    "if navigation_bar:\n",
    "    navigation_bar = navigation_bar[-1]\n",
    "    li_element = navigation_bar.find_all('li')\n",
    "    if li_element:\n",
    "        last_li = li_element[-1]\n",
    "        a_element = last_li.find('a')\n",
    "        link = a_element['href']"
   ]
  },
  {
   "cell_type": "code",
   "execution_count": 7,
   "id": "849db8c2",
   "metadata": {},
   "outputs": [],
   "source": [
    "import requests\n",
    "from bs4 import BeautifulSoup\n",
    "import pandas as pd\n",
    "\n",
    "def scrape_reviews(url):\n",
    "    reviews = []\n",
    "\n",
    "    while url:\n",
    "        response = requests.get(url)\n",
    "        \n",
    "        if response.status_code == 200:\n",
    "            html_content = response.content\n",
    "            soup = BeautifulSoup(html_content, 'html.parser')\n",
    "            \n",
    "            for article in soup.find_all('article'):\n",
    "                review = article.find('div', class_='body')\n",
    "                if review:\n",
    "                    review_id = review['id']\n",
    "                    review_header = review.find('h2', class_='text_header').text\n",
    "                    review_author_location_date = review.find('h3').text\n",
    "                    review_content = review.find('div', class_='tc_mobile')\n",
    "                    review_body = review_content.find('div', class_='text_content').text\n",
    "                    review_rating_table = review_content.find('table', class_='review-ratings')\n",
    "                    for tr in review_rating_table.find_all('tr'):\n",
    "                        td_elements = tr.find_all('td')\n",
    "                        if len(td_elements) >= 2:\n",
    "                            rating_name = td_elements[0].text\n",
    "                            rating_value_td = td_elements[1]\n",
    "                            rating_value = rating_value_td.text\n",
    "\n",
    "                            span_elements = rating_value_td.find_all('span', class_='star fill')\n",
    "                            count_fill_spans = len(span_elements)\n",
    "                            reviews.append({\n",
    "                            'review_id': review_id,\n",
    "                            'review_header': review_header,\n",
    "                            'review_author_location_date': review_author_location_date,\n",
    "                            'review_body': review_body,\n",
    "                            'rating_name': rating_name,\n",
    "                            'rating_value': count_fill_spans if span_elements else rating_value\n",
    "                            })\n",
    "\n",
    "            \n",
    "            navigation_bar = soup.find_all('article', class_='comp comp_reviews-pagination querylist-pagination position-')\n",
    "            if navigation_bar:\n",
    "                navigation_bar = navigation_bar[-1]\n",
    "                li_element = navigation_bar.find_all('li')\n",
    "                if li_element:\n",
    "                    last_li = li_element[-1]\n",
    "                    a_element = last_li.find('a')\n",
    "                    if a_element:\n",
    "                        url = a_element['href']\n",
    "                        url = \"https://www.airlinequality.com/\"+url\n",
    "                        print(url)\n",
    "                    else:\n",
    "                        url = None\n",
    "                else:\n",
    "                    url = None\n",
    "            else:\n",
    "                url = None\n",
    "                \n",
    "        else:\n",
    "            print(f\"Failed to retrieve the page: {url}\")\n",
    "            break\n",
    "    \n",
    "    return reviews"
   ]
  },
  {
   "cell_type": "code",
   "execution_count": 8,
   "id": "10b5b8f7",
   "metadata": {
    "scrolled": true
   },
   "outputs": [
    {
     "name": "stdout",
     "output_type": "stream",
     "text": [
      "https://www.airlinequality.com//airline-reviews/british-airways/page/2/\n",
      "https://www.airlinequality.com//airline-reviews/british-airways/page/3/\n",
      "https://www.airlinequality.com//airline-reviews/british-airways/page/4/\n",
      "https://www.airlinequality.com//airline-reviews/british-airways/page/5/\n",
      "https://www.airlinequality.com//airline-reviews/british-airways/page/6/\n",
      "https://www.airlinequality.com//airline-reviews/british-airways/page/7/\n",
      "https://www.airlinequality.com//airline-reviews/british-airways/page/8/\n",
      "https://www.airlinequality.com//airline-reviews/british-airways/page/9/\n",
      "https://www.airlinequality.com//airline-reviews/british-airways/page/10/\n",
      "https://www.airlinequality.com//airline-reviews/british-airways/page/11/\n",
      "https://www.airlinequality.com//airline-reviews/british-airways/page/12/\n",
      "https://www.airlinequality.com//airline-reviews/british-airways/page/13/\n",
      "https://www.airlinequality.com//airline-reviews/british-airways/page/14/\n",
      "https://www.airlinequality.com//airline-reviews/british-airways/page/15/\n",
      "https://www.airlinequality.com//airline-reviews/british-airways/page/16/\n",
      "https://www.airlinequality.com//airline-reviews/british-airways/page/17/\n",
      "https://www.airlinequality.com//airline-reviews/british-airways/page/18/\n",
      "https://www.airlinequality.com//airline-reviews/british-airways/page/19/\n",
      "https://www.airlinequality.com//airline-reviews/british-airways/page/20/\n",
      "https://www.airlinequality.com//airline-reviews/british-airways/page/21/\n",
      "https://www.airlinequality.com//airline-reviews/british-airways/page/22/\n",
      "https://www.airlinequality.com//airline-reviews/british-airways/page/23/\n",
      "https://www.airlinequality.com//airline-reviews/british-airways/page/24/\n",
      "https://www.airlinequality.com//airline-reviews/british-airways/page/25/\n",
      "https://www.airlinequality.com//airline-reviews/british-airways/page/26/\n",
      "https://www.airlinequality.com//airline-reviews/british-airways/page/27/\n",
      "https://www.airlinequality.com//airline-reviews/british-airways/page/28/\n",
      "https://www.airlinequality.com//airline-reviews/british-airways/page/29/\n",
      "https://www.airlinequality.com//airline-reviews/british-airways/page/30/\n",
      "https://www.airlinequality.com//airline-reviews/british-airways/page/31/\n",
      "https://www.airlinequality.com//airline-reviews/british-airways/page/32/\n",
      "https://www.airlinequality.com//airline-reviews/british-airways/page/33/\n",
      "https://www.airlinequality.com//airline-reviews/british-airways/page/34/\n",
      "https://www.airlinequality.com//airline-reviews/british-airways/page/35/\n",
      "https://www.airlinequality.com//airline-reviews/british-airways/page/36/\n",
      "https://www.airlinequality.com//airline-reviews/british-airways/page/37/\n",
      "https://www.airlinequality.com//airline-reviews/british-airways/page/38/\n",
      "https://www.airlinequality.com//airline-reviews/british-airways/page/39/\n",
      "https://www.airlinequality.com//airline-reviews/british-airways/page/40/\n",
      "https://www.airlinequality.com//airline-reviews/british-airways/page/41/\n",
      "https://www.airlinequality.com//airline-reviews/british-airways/page/42/\n",
      "https://www.airlinequality.com//airline-reviews/british-airways/page/43/\n",
      "https://www.airlinequality.com//airline-reviews/british-airways/page/44/\n",
      "https://www.airlinequality.com//airline-reviews/british-airways/page/45/\n",
      "https://www.airlinequality.com//airline-reviews/british-airways/page/46/\n",
      "https://www.airlinequality.com//airline-reviews/british-airways/page/47/\n",
      "https://www.airlinequality.com//airline-reviews/british-airways/page/48/\n",
      "https://www.airlinequality.com//airline-reviews/british-airways/page/49/\n",
      "https://www.airlinequality.com//airline-reviews/british-airways/page/50/\n",
      "https://www.airlinequality.com//airline-reviews/british-airways/page/51/\n",
      "https://www.airlinequality.com//airline-reviews/british-airways/page/52/\n",
      "https://www.airlinequality.com//airline-reviews/british-airways/page/53/\n",
      "https://www.airlinequality.com//airline-reviews/british-airways/page/54/\n",
      "https://www.airlinequality.com//airline-reviews/british-airways/page/55/\n",
      "https://www.airlinequality.com//airline-reviews/british-airways/page/56/\n",
      "https://www.airlinequality.com//airline-reviews/british-airways/page/57/\n",
      "https://www.airlinequality.com//airline-reviews/british-airways/page/58/\n",
      "https://www.airlinequality.com//airline-reviews/british-airways/page/59/\n",
      "https://www.airlinequality.com//airline-reviews/british-airways/page/60/\n",
      "https://www.airlinequality.com//airline-reviews/british-airways/page/61/\n",
      "https://www.airlinequality.com//airline-reviews/british-airways/page/62/\n",
      "https://www.airlinequality.com//airline-reviews/british-airways/page/63/\n",
      "https://www.airlinequality.com//airline-reviews/british-airways/page/64/\n",
      "https://www.airlinequality.com//airline-reviews/british-airways/page/65/\n",
      "https://www.airlinequality.com//airline-reviews/british-airways/page/66/\n",
      "https://www.airlinequality.com//airline-reviews/british-airways/page/67/\n",
      "https://www.airlinequality.com//airline-reviews/british-airways/page/68/\n",
      "https://www.airlinequality.com//airline-reviews/british-airways/page/69/\n",
      "https://www.airlinequality.com//airline-reviews/british-airways/page/70/\n",
      "https://www.airlinequality.com//airline-reviews/british-airways/page/71/\n",
      "https://www.airlinequality.com//airline-reviews/british-airways/page/72/\n",
      "https://www.airlinequality.com//airline-reviews/british-airways/page/73/\n",
      "https://www.airlinequality.com//airline-reviews/british-airways/page/74/\n",
      "https://www.airlinequality.com//airline-reviews/british-airways/page/75/\n",
      "https://www.airlinequality.com//airline-reviews/british-airways/page/76/\n",
      "https://www.airlinequality.com//airline-reviews/british-airways/page/77/\n",
      "https://www.airlinequality.com//airline-reviews/british-airways/page/78/\n",
      "https://www.airlinequality.com//airline-reviews/british-airways/page/79/\n",
      "https://www.airlinequality.com//airline-reviews/british-airways/page/80/\n",
      "https://www.airlinequality.com//airline-reviews/british-airways/page/81/\n",
      "https://www.airlinequality.com//airline-reviews/british-airways/page/82/\n",
      "https://www.airlinequality.com//airline-reviews/british-airways/page/83/\n",
      "https://www.airlinequality.com//airline-reviews/british-airways/page/84/\n",
      "https://www.airlinequality.com//airline-reviews/british-airways/page/85/\n",
      "https://www.airlinequality.com//airline-reviews/british-airways/page/86/\n",
      "https://www.airlinequality.com//airline-reviews/british-airways/page/87/\n",
      "https://www.airlinequality.com//airline-reviews/british-airways/page/88/\n",
      "https://www.airlinequality.com//airline-reviews/british-airways/page/89/\n",
      "https://www.airlinequality.com//airline-reviews/british-airways/page/90/\n",
      "https://www.airlinequality.com//airline-reviews/british-airways/page/91/\n",
      "https://www.airlinequality.com//airline-reviews/british-airways/page/92/\n",
      "https://www.airlinequality.com//airline-reviews/british-airways/page/93/\n",
      "https://www.airlinequality.com//airline-reviews/british-airways/page/94/\n",
      "https://www.airlinequality.com//airline-reviews/british-airways/page/95/\n",
      "https://www.airlinequality.com//airline-reviews/british-airways/page/96/\n",
      "https://www.airlinequality.com//airline-reviews/british-airways/page/97/\n",
      "https://www.airlinequality.com//airline-reviews/british-airways/page/98/\n",
      "https://www.airlinequality.com//airline-reviews/british-airways/page/99/\n",
      "https://www.airlinequality.com//airline-reviews/british-airways/page/100/\n",
      "https://www.airlinequality.com//airline-reviews/british-airways/page/101/\n",
      "https://www.airlinequality.com//airline-reviews/british-airways/page/102/\n",
      "https://www.airlinequality.com//airline-reviews/british-airways/page/103/\n",
      "https://www.airlinequality.com//airline-reviews/british-airways/page/104/\n",
      "https://www.airlinequality.com//airline-reviews/british-airways/page/105/\n",
      "https://www.airlinequality.com//airline-reviews/british-airways/page/106/\n",
      "https://www.airlinequality.com//airline-reviews/british-airways/page/107/\n",
      "https://www.airlinequality.com//airline-reviews/british-airways/page/108/\n",
      "https://www.airlinequality.com//airline-reviews/british-airways/page/109/\n",
      "https://www.airlinequality.com//airline-reviews/british-airways/page/110/\n",
      "https://www.airlinequality.com//airline-reviews/british-airways/page/111/\n",
      "https://www.airlinequality.com//airline-reviews/british-airways/page/112/\n",
      "https://www.airlinequality.com//airline-reviews/british-airways/page/113/\n",
      "https://www.airlinequality.com//airline-reviews/british-airways/page/114/\n"
     ]
    },
    {
     "name": "stdout",
     "output_type": "stream",
     "text": [
      "https://www.airlinequality.com//airline-reviews/british-airways/page/115/\n",
      "https://www.airlinequality.com//airline-reviews/british-airways/page/116/\n",
      "https://www.airlinequality.com//airline-reviews/british-airways/page/117/\n",
      "https://www.airlinequality.com//airline-reviews/british-airways/page/118/\n",
      "https://www.airlinequality.com//airline-reviews/british-airways/page/119/\n",
      "https://www.airlinequality.com//airline-reviews/british-airways/page/120/\n",
      "https://www.airlinequality.com//airline-reviews/british-airways/page/121/\n",
      "https://www.airlinequality.com//airline-reviews/british-airways/page/122/\n",
      "https://www.airlinequality.com//airline-reviews/british-airways/page/123/\n",
      "https://www.airlinequality.com//airline-reviews/british-airways/page/124/\n",
      "https://www.airlinequality.com//airline-reviews/british-airways/page/125/\n",
      "https://www.airlinequality.com//airline-reviews/british-airways/page/126/\n",
      "https://www.airlinequality.com//airline-reviews/british-airways/page/127/\n",
      "https://www.airlinequality.com//airline-reviews/british-airways/page/128/\n",
      "https://www.airlinequality.com//airline-reviews/british-airways/page/129/\n",
      "https://www.airlinequality.com//airline-reviews/british-airways/page/130/\n",
      "https://www.airlinequality.com//airline-reviews/british-airways/page/131/\n",
      "https://www.airlinequality.com//airline-reviews/british-airways/page/132/\n",
      "https://www.airlinequality.com//airline-reviews/british-airways/page/133/\n",
      "https://www.airlinequality.com//airline-reviews/british-airways/page/134/\n",
      "https://www.airlinequality.com//airline-reviews/british-airways/page/135/\n",
      "https://www.airlinequality.com//airline-reviews/british-airways/page/136/\n",
      "https://www.airlinequality.com//airline-reviews/british-airways/page/137/\n",
      "https://www.airlinequality.com//airline-reviews/british-airways/page/138/\n",
      "https://www.airlinequality.com//airline-reviews/british-airways/page/139/\n",
      "https://www.airlinequality.com//airline-reviews/british-airways/page/140/\n"
     ]
    },
    {
     "ename": "ConnectionError",
     "evalue": "('Connection aborted.', ConnectionResetError(10054, 'An existing connection was forcibly closed by the remote host', None, 10054, None))",
     "output_type": "error",
     "traceback": [
      "\u001b[1;31m---------------------------------------------------------------------------\u001b[0m",
      "\u001b[1;31mConnectionResetError\u001b[0m                      Traceback (most recent call last)",
      "\u001b[1;32m~\\anaconda3\\lib\\site-packages\\urllib3\\connectionpool.py\u001b[0m in \u001b[0;36murlopen\u001b[1;34m(self, method, url, body, headers, retries, redirect, assert_same_host, timeout, pool_timeout, release_conn, chunked, body_pos, **response_kw)\u001b[0m\n\u001b[0;32m    702\u001b[0m             \u001b[1;31m# Make the request on the httplib connection object.\u001b[0m\u001b[1;33m\u001b[0m\u001b[1;33m\u001b[0m\u001b[0m\n\u001b[1;32m--> 703\u001b[1;33m             httplib_response = self._make_request(\n\u001b[0m\u001b[0;32m    704\u001b[0m                 \u001b[0mconn\u001b[0m\u001b[1;33m,\u001b[0m\u001b[1;33m\u001b[0m\u001b[1;33m\u001b[0m\u001b[0m\n",
      "\u001b[1;32m~\\anaconda3\\lib\\site-packages\\urllib3\\connectionpool.py\u001b[0m in \u001b[0;36m_make_request\u001b[1;34m(self, conn, method, url, timeout, chunked, **httplib_request_kw)\u001b[0m\n\u001b[0;32m    385\u001b[0m         \u001b[1;32mtry\u001b[0m\u001b[1;33m:\u001b[0m\u001b[1;33m\u001b[0m\u001b[1;33m\u001b[0m\u001b[0m\n\u001b[1;32m--> 386\u001b[1;33m             \u001b[0mself\u001b[0m\u001b[1;33m.\u001b[0m\u001b[0m_validate_conn\u001b[0m\u001b[1;33m(\u001b[0m\u001b[0mconn\u001b[0m\u001b[1;33m)\u001b[0m\u001b[1;33m\u001b[0m\u001b[1;33m\u001b[0m\u001b[0m\n\u001b[0m\u001b[0;32m    387\u001b[0m         \u001b[1;32mexcept\u001b[0m \u001b[1;33m(\u001b[0m\u001b[0mSocketTimeout\u001b[0m\u001b[1;33m,\u001b[0m \u001b[0mBaseSSLError\u001b[0m\u001b[1;33m)\u001b[0m \u001b[1;32mas\u001b[0m \u001b[0me\u001b[0m\u001b[1;33m:\u001b[0m\u001b[1;33m\u001b[0m\u001b[1;33m\u001b[0m\u001b[0m\n",
      "\u001b[1;32m~\\anaconda3\\lib\\site-packages\\urllib3\\connectionpool.py\u001b[0m in \u001b[0;36m_validate_conn\u001b[1;34m(self, conn)\u001b[0m\n\u001b[0;32m   1041\u001b[0m         \u001b[1;32mif\u001b[0m \u001b[1;32mnot\u001b[0m \u001b[0mgetattr\u001b[0m\u001b[1;33m(\u001b[0m\u001b[0mconn\u001b[0m\u001b[1;33m,\u001b[0m \u001b[1;34m\"sock\"\u001b[0m\u001b[1;33m,\u001b[0m \u001b[1;32mNone\u001b[0m\u001b[1;33m)\u001b[0m\u001b[1;33m:\u001b[0m  \u001b[1;31m# AppEngine might not have  `.sock`\u001b[0m\u001b[1;33m\u001b[0m\u001b[1;33m\u001b[0m\u001b[0m\n\u001b[1;32m-> 1042\u001b[1;33m             \u001b[0mconn\u001b[0m\u001b[1;33m.\u001b[0m\u001b[0mconnect\u001b[0m\u001b[1;33m(\u001b[0m\u001b[1;33m)\u001b[0m\u001b[1;33m\u001b[0m\u001b[1;33m\u001b[0m\u001b[0m\n\u001b[0m\u001b[0;32m   1043\u001b[0m \u001b[1;33m\u001b[0m\u001b[0m\n",
      "\u001b[1;32m~\\anaconda3\\lib\\site-packages\\urllib3\\connection.py\u001b[0m in \u001b[0;36mconnect\u001b[1;34m(self)\u001b[0m\n\u001b[0;32m    413\u001b[0m \u001b[1;33m\u001b[0m\u001b[0m\n\u001b[1;32m--> 414\u001b[1;33m         self.sock = ssl_wrap_socket(\n\u001b[0m\u001b[0;32m    415\u001b[0m             \u001b[0msock\u001b[0m\u001b[1;33m=\u001b[0m\u001b[0mconn\u001b[0m\u001b[1;33m,\u001b[0m\u001b[1;33m\u001b[0m\u001b[1;33m\u001b[0m\u001b[0m\n",
      "\u001b[1;32m~\\anaconda3\\lib\\site-packages\\urllib3\\util\\ssl_.py\u001b[0m in \u001b[0;36mssl_wrap_socket\u001b[1;34m(sock, keyfile, certfile, cert_reqs, ca_certs, server_hostname, ssl_version, ciphers, ssl_context, ca_cert_dir, key_password, ca_cert_data, tls_in_tls)\u001b[0m\n\u001b[0;32m    448\u001b[0m     \u001b[1;32mif\u001b[0m \u001b[0msend_sni\u001b[0m\u001b[1;33m:\u001b[0m\u001b[1;33m\u001b[0m\u001b[1;33m\u001b[0m\u001b[0m\n\u001b[1;32m--> 449\u001b[1;33m         ssl_sock = _ssl_wrap_socket_impl(\n\u001b[0m\u001b[0;32m    450\u001b[0m             \u001b[0msock\u001b[0m\u001b[1;33m,\u001b[0m \u001b[0mcontext\u001b[0m\u001b[1;33m,\u001b[0m \u001b[0mtls_in_tls\u001b[0m\u001b[1;33m,\u001b[0m \u001b[0mserver_hostname\u001b[0m\u001b[1;33m=\u001b[0m\u001b[0mserver_hostname\u001b[0m\u001b[1;33m\u001b[0m\u001b[1;33m\u001b[0m\u001b[0m\n",
      "\u001b[1;32m~\\anaconda3\\lib\\site-packages\\urllib3\\util\\ssl_.py\u001b[0m in \u001b[0;36m_ssl_wrap_socket_impl\u001b[1;34m(sock, ssl_context, tls_in_tls, server_hostname)\u001b[0m\n\u001b[0;32m    492\u001b[0m     \u001b[1;32mif\u001b[0m \u001b[0mserver_hostname\u001b[0m\u001b[1;33m:\u001b[0m\u001b[1;33m\u001b[0m\u001b[1;33m\u001b[0m\u001b[0m\n\u001b[1;32m--> 493\u001b[1;33m         \u001b[1;32mreturn\u001b[0m \u001b[0mssl_context\u001b[0m\u001b[1;33m.\u001b[0m\u001b[0mwrap_socket\u001b[0m\u001b[1;33m(\u001b[0m\u001b[0msock\u001b[0m\u001b[1;33m,\u001b[0m \u001b[0mserver_hostname\u001b[0m\u001b[1;33m=\u001b[0m\u001b[0mserver_hostname\u001b[0m\u001b[1;33m)\u001b[0m\u001b[1;33m\u001b[0m\u001b[1;33m\u001b[0m\u001b[0m\n\u001b[0m\u001b[0;32m    494\u001b[0m     \u001b[1;32melse\u001b[0m\u001b[1;33m:\u001b[0m\u001b[1;33m\u001b[0m\u001b[1;33m\u001b[0m\u001b[0m\n",
      "\u001b[1;32m~\\anaconda3\\lib\\ssl.py\u001b[0m in \u001b[0;36mwrap_socket\u001b[1;34m(self, sock, server_side, do_handshake_on_connect, suppress_ragged_eofs, server_hostname, session)\u001b[0m\n\u001b[0;32m    500\u001b[0m         \u001b[1;31m# ctx._wrap_socket()\u001b[0m\u001b[1;33m\u001b[0m\u001b[1;33m\u001b[0m\u001b[0m\n\u001b[1;32m--> 501\u001b[1;33m         return self.sslsocket_class._create(\n\u001b[0m\u001b[0;32m    502\u001b[0m             \u001b[0msock\u001b[0m\u001b[1;33m=\u001b[0m\u001b[0msock\u001b[0m\u001b[1;33m,\u001b[0m\u001b[1;33m\u001b[0m\u001b[1;33m\u001b[0m\u001b[0m\n",
      "\u001b[1;32m~\\anaconda3\\lib\\ssl.py\u001b[0m in \u001b[0;36m_create\u001b[1;34m(cls, sock, server_side, do_handshake_on_connect, suppress_ragged_eofs, server_hostname, context, session)\u001b[0m\n\u001b[0;32m   1040\u001b[0m                         \u001b[1;32mraise\u001b[0m \u001b[0mValueError\u001b[0m\u001b[1;33m(\u001b[0m\u001b[1;34m\"do_handshake_on_connect should not be specified for non-blocking sockets\"\u001b[0m\u001b[1;33m)\u001b[0m\u001b[1;33m\u001b[0m\u001b[1;33m\u001b[0m\u001b[0m\n\u001b[1;32m-> 1041\u001b[1;33m                     \u001b[0mself\u001b[0m\u001b[1;33m.\u001b[0m\u001b[0mdo_handshake\u001b[0m\u001b[1;33m(\u001b[0m\u001b[1;33m)\u001b[0m\u001b[1;33m\u001b[0m\u001b[1;33m\u001b[0m\u001b[0m\n\u001b[0m\u001b[0;32m   1042\u001b[0m             \u001b[1;32mexcept\u001b[0m \u001b[1;33m(\u001b[0m\u001b[0mOSError\u001b[0m\u001b[1;33m,\u001b[0m \u001b[0mValueError\u001b[0m\u001b[1;33m)\u001b[0m\u001b[1;33m:\u001b[0m\u001b[1;33m\u001b[0m\u001b[1;33m\u001b[0m\u001b[0m\n",
      "\u001b[1;32m~\\anaconda3\\lib\\ssl.py\u001b[0m in \u001b[0;36mdo_handshake\u001b[1;34m(self, block)\u001b[0m\n\u001b[0;32m   1309\u001b[0m                 \u001b[0mself\u001b[0m\u001b[1;33m.\u001b[0m\u001b[0msettimeout\u001b[0m\u001b[1;33m(\u001b[0m\u001b[1;32mNone\u001b[0m\u001b[1;33m)\u001b[0m\u001b[1;33m\u001b[0m\u001b[1;33m\u001b[0m\u001b[0m\n\u001b[1;32m-> 1310\u001b[1;33m             \u001b[0mself\u001b[0m\u001b[1;33m.\u001b[0m\u001b[0m_sslobj\u001b[0m\u001b[1;33m.\u001b[0m\u001b[0mdo_handshake\u001b[0m\u001b[1;33m(\u001b[0m\u001b[1;33m)\u001b[0m\u001b[1;33m\u001b[0m\u001b[1;33m\u001b[0m\u001b[0m\n\u001b[0m\u001b[0;32m   1311\u001b[0m         \u001b[1;32mfinally\u001b[0m\u001b[1;33m:\u001b[0m\u001b[1;33m\u001b[0m\u001b[1;33m\u001b[0m\u001b[0m\n",
      "\u001b[1;31mConnectionResetError\u001b[0m: [WinError 10054] An existing connection was forcibly closed by the remote host",
      "\nDuring handling of the above exception, another exception occurred:\n",
      "\u001b[1;31mProtocolError\u001b[0m                             Traceback (most recent call last)",
      "\u001b[1;32m~\\anaconda3\\lib\\site-packages\\requests\\adapters.py\u001b[0m in \u001b[0;36msend\u001b[1;34m(self, request, stream, timeout, verify, cert, proxies)\u001b[0m\n\u001b[0;32m    488\u001b[0m             \u001b[1;32mif\u001b[0m \u001b[1;32mnot\u001b[0m \u001b[0mchunked\u001b[0m\u001b[1;33m:\u001b[0m\u001b[1;33m\u001b[0m\u001b[1;33m\u001b[0m\u001b[0m\n\u001b[1;32m--> 489\u001b[1;33m                 resp = conn.urlopen(\n\u001b[0m\u001b[0;32m    490\u001b[0m                     \u001b[0mmethod\u001b[0m\u001b[1;33m=\u001b[0m\u001b[0mrequest\u001b[0m\u001b[1;33m.\u001b[0m\u001b[0mmethod\u001b[0m\u001b[1;33m,\u001b[0m\u001b[1;33m\u001b[0m\u001b[1;33m\u001b[0m\u001b[0m\n",
      "\u001b[1;32m~\\anaconda3\\lib\\site-packages\\urllib3\\connectionpool.py\u001b[0m in \u001b[0;36murlopen\u001b[1;34m(self, method, url, body, headers, retries, redirect, assert_same_host, timeout, pool_timeout, release_conn, chunked, body_pos, **response_kw)\u001b[0m\n\u001b[0;32m    786\u001b[0m \u001b[1;33m\u001b[0m\u001b[0m\n\u001b[1;32m--> 787\u001b[1;33m             retries = retries.increment(\n\u001b[0m\u001b[0;32m    788\u001b[0m                 \u001b[0mmethod\u001b[0m\u001b[1;33m,\u001b[0m \u001b[0murl\u001b[0m\u001b[1;33m,\u001b[0m \u001b[0merror\u001b[0m\u001b[1;33m=\u001b[0m\u001b[0me\u001b[0m\u001b[1;33m,\u001b[0m \u001b[0m_pool\u001b[0m\u001b[1;33m=\u001b[0m\u001b[0mself\u001b[0m\u001b[1;33m,\u001b[0m \u001b[0m_stacktrace\u001b[0m\u001b[1;33m=\u001b[0m\u001b[0msys\u001b[0m\u001b[1;33m.\u001b[0m\u001b[0mexc_info\u001b[0m\u001b[1;33m(\u001b[0m\u001b[1;33m)\u001b[0m\u001b[1;33m[\u001b[0m\u001b[1;36m2\u001b[0m\u001b[1;33m]\u001b[0m\u001b[1;33m\u001b[0m\u001b[1;33m\u001b[0m\u001b[0m\n",
      "\u001b[1;32m~\\anaconda3\\lib\\site-packages\\urllib3\\util\\retry.py\u001b[0m in \u001b[0;36mincrement\u001b[1;34m(self, method, url, response, error, _pool, _stacktrace)\u001b[0m\n\u001b[0;32m    549\u001b[0m             \u001b[1;32mif\u001b[0m \u001b[0mread\u001b[0m \u001b[1;32mis\u001b[0m \u001b[1;32mFalse\u001b[0m \u001b[1;32mor\u001b[0m \u001b[1;32mnot\u001b[0m \u001b[0mself\u001b[0m\u001b[1;33m.\u001b[0m\u001b[0m_is_method_retryable\u001b[0m\u001b[1;33m(\u001b[0m\u001b[0mmethod\u001b[0m\u001b[1;33m)\u001b[0m\u001b[1;33m:\u001b[0m\u001b[1;33m\u001b[0m\u001b[1;33m\u001b[0m\u001b[0m\n\u001b[1;32m--> 550\u001b[1;33m                 \u001b[1;32mraise\u001b[0m \u001b[0msix\u001b[0m\u001b[1;33m.\u001b[0m\u001b[0mreraise\u001b[0m\u001b[1;33m(\u001b[0m\u001b[0mtype\u001b[0m\u001b[1;33m(\u001b[0m\u001b[0merror\u001b[0m\u001b[1;33m)\u001b[0m\u001b[1;33m,\u001b[0m \u001b[0merror\u001b[0m\u001b[1;33m,\u001b[0m \u001b[0m_stacktrace\u001b[0m\u001b[1;33m)\u001b[0m\u001b[1;33m\u001b[0m\u001b[1;33m\u001b[0m\u001b[0m\n\u001b[0m\u001b[0;32m    551\u001b[0m             \u001b[1;32melif\u001b[0m \u001b[0mread\u001b[0m \u001b[1;32mis\u001b[0m \u001b[1;32mnot\u001b[0m \u001b[1;32mNone\u001b[0m\u001b[1;33m:\u001b[0m\u001b[1;33m\u001b[0m\u001b[1;33m\u001b[0m\u001b[0m\n",
      "\u001b[1;32m~\\anaconda3\\lib\\site-packages\\urllib3\\packages\\six.py\u001b[0m in \u001b[0;36mreraise\u001b[1;34m(tp, value, tb)\u001b[0m\n\u001b[0;32m    768\u001b[0m             \u001b[1;32mif\u001b[0m \u001b[0mvalue\u001b[0m\u001b[1;33m.\u001b[0m\u001b[0m__traceback__\u001b[0m \u001b[1;32mis\u001b[0m \u001b[1;32mnot\u001b[0m \u001b[0mtb\u001b[0m\u001b[1;33m:\u001b[0m\u001b[1;33m\u001b[0m\u001b[1;33m\u001b[0m\u001b[0m\n\u001b[1;32m--> 769\u001b[1;33m                 \u001b[1;32mraise\u001b[0m \u001b[0mvalue\u001b[0m\u001b[1;33m.\u001b[0m\u001b[0mwith_traceback\u001b[0m\u001b[1;33m(\u001b[0m\u001b[0mtb\u001b[0m\u001b[1;33m)\u001b[0m\u001b[1;33m\u001b[0m\u001b[1;33m\u001b[0m\u001b[0m\n\u001b[0m\u001b[0;32m    770\u001b[0m             \u001b[1;32mraise\u001b[0m \u001b[0mvalue\u001b[0m\u001b[1;33m\u001b[0m\u001b[1;33m\u001b[0m\u001b[0m\n",
      "\u001b[1;32m~\\anaconda3\\lib\\site-packages\\urllib3\\connectionpool.py\u001b[0m in \u001b[0;36murlopen\u001b[1;34m(self, method, url, body, headers, retries, redirect, assert_same_host, timeout, pool_timeout, release_conn, chunked, body_pos, **response_kw)\u001b[0m\n\u001b[0;32m    702\u001b[0m             \u001b[1;31m# Make the request on the httplib connection object.\u001b[0m\u001b[1;33m\u001b[0m\u001b[1;33m\u001b[0m\u001b[0m\n\u001b[1;32m--> 703\u001b[1;33m             httplib_response = self._make_request(\n\u001b[0m\u001b[0;32m    704\u001b[0m                 \u001b[0mconn\u001b[0m\u001b[1;33m,\u001b[0m\u001b[1;33m\u001b[0m\u001b[1;33m\u001b[0m\u001b[0m\n",
      "\u001b[1;32m~\\anaconda3\\lib\\site-packages\\urllib3\\connectionpool.py\u001b[0m in \u001b[0;36m_make_request\u001b[1;34m(self, conn, method, url, timeout, chunked, **httplib_request_kw)\u001b[0m\n\u001b[0;32m    385\u001b[0m         \u001b[1;32mtry\u001b[0m\u001b[1;33m:\u001b[0m\u001b[1;33m\u001b[0m\u001b[1;33m\u001b[0m\u001b[0m\n\u001b[1;32m--> 386\u001b[1;33m             \u001b[0mself\u001b[0m\u001b[1;33m.\u001b[0m\u001b[0m_validate_conn\u001b[0m\u001b[1;33m(\u001b[0m\u001b[0mconn\u001b[0m\u001b[1;33m)\u001b[0m\u001b[1;33m\u001b[0m\u001b[1;33m\u001b[0m\u001b[0m\n\u001b[0m\u001b[0;32m    387\u001b[0m         \u001b[1;32mexcept\u001b[0m \u001b[1;33m(\u001b[0m\u001b[0mSocketTimeout\u001b[0m\u001b[1;33m,\u001b[0m \u001b[0mBaseSSLError\u001b[0m\u001b[1;33m)\u001b[0m \u001b[1;32mas\u001b[0m \u001b[0me\u001b[0m\u001b[1;33m:\u001b[0m\u001b[1;33m\u001b[0m\u001b[1;33m\u001b[0m\u001b[0m\n",
      "\u001b[1;32m~\\anaconda3\\lib\\site-packages\\urllib3\\connectionpool.py\u001b[0m in \u001b[0;36m_validate_conn\u001b[1;34m(self, conn)\u001b[0m\n\u001b[0;32m   1041\u001b[0m         \u001b[1;32mif\u001b[0m \u001b[1;32mnot\u001b[0m \u001b[0mgetattr\u001b[0m\u001b[1;33m(\u001b[0m\u001b[0mconn\u001b[0m\u001b[1;33m,\u001b[0m \u001b[1;34m\"sock\"\u001b[0m\u001b[1;33m,\u001b[0m \u001b[1;32mNone\u001b[0m\u001b[1;33m)\u001b[0m\u001b[1;33m:\u001b[0m  \u001b[1;31m# AppEngine might not have  `.sock`\u001b[0m\u001b[1;33m\u001b[0m\u001b[1;33m\u001b[0m\u001b[0m\n\u001b[1;32m-> 1042\u001b[1;33m             \u001b[0mconn\u001b[0m\u001b[1;33m.\u001b[0m\u001b[0mconnect\u001b[0m\u001b[1;33m(\u001b[0m\u001b[1;33m)\u001b[0m\u001b[1;33m\u001b[0m\u001b[1;33m\u001b[0m\u001b[0m\n\u001b[0m\u001b[0;32m   1043\u001b[0m \u001b[1;33m\u001b[0m\u001b[0m\n",
      "\u001b[1;32m~\\anaconda3\\lib\\site-packages\\urllib3\\connection.py\u001b[0m in \u001b[0;36mconnect\u001b[1;34m(self)\u001b[0m\n\u001b[0;32m    413\u001b[0m \u001b[1;33m\u001b[0m\u001b[0m\n\u001b[1;32m--> 414\u001b[1;33m         self.sock = ssl_wrap_socket(\n\u001b[0m\u001b[0;32m    415\u001b[0m             \u001b[0msock\u001b[0m\u001b[1;33m=\u001b[0m\u001b[0mconn\u001b[0m\u001b[1;33m,\u001b[0m\u001b[1;33m\u001b[0m\u001b[1;33m\u001b[0m\u001b[0m\n",
      "\u001b[1;32m~\\anaconda3\\lib\\site-packages\\urllib3\\util\\ssl_.py\u001b[0m in \u001b[0;36mssl_wrap_socket\u001b[1;34m(sock, keyfile, certfile, cert_reqs, ca_certs, server_hostname, ssl_version, ciphers, ssl_context, ca_cert_dir, key_password, ca_cert_data, tls_in_tls)\u001b[0m\n\u001b[0;32m    448\u001b[0m     \u001b[1;32mif\u001b[0m \u001b[0msend_sni\u001b[0m\u001b[1;33m:\u001b[0m\u001b[1;33m\u001b[0m\u001b[1;33m\u001b[0m\u001b[0m\n\u001b[1;32m--> 449\u001b[1;33m         ssl_sock = _ssl_wrap_socket_impl(\n\u001b[0m\u001b[0;32m    450\u001b[0m             \u001b[0msock\u001b[0m\u001b[1;33m,\u001b[0m \u001b[0mcontext\u001b[0m\u001b[1;33m,\u001b[0m \u001b[0mtls_in_tls\u001b[0m\u001b[1;33m,\u001b[0m \u001b[0mserver_hostname\u001b[0m\u001b[1;33m=\u001b[0m\u001b[0mserver_hostname\u001b[0m\u001b[1;33m\u001b[0m\u001b[1;33m\u001b[0m\u001b[0m\n",
      "\u001b[1;32m~\\anaconda3\\lib\\site-packages\\urllib3\\util\\ssl_.py\u001b[0m in \u001b[0;36m_ssl_wrap_socket_impl\u001b[1;34m(sock, ssl_context, tls_in_tls, server_hostname)\u001b[0m\n\u001b[0;32m    492\u001b[0m     \u001b[1;32mif\u001b[0m \u001b[0mserver_hostname\u001b[0m\u001b[1;33m:\u001b[0m\u001b[1;33m\u001b[0m\u001b[1;33m\u001b[0m\u001b[0m\n\u001b[1;32m--> 493\u001b[1;33m         \u001b[1;32mreturn\u001b[0m \u001b[0mssl_context\u001b[0m\u001b[1;33m.\u001b[0m\u001b[0mwrap_socket\u001b[0m\u001b[1;33m(\u001b[0m\u001b[0msock\u001b[0m\u001b[1;33m,\u001b[0m \u001b[0mserver_hostname\u001b[0m\u001b[1;33m=\u001b[0m\u001b[0mserver_hostname\u001b[0m\u001b[1;33m)\u001b[0m\u001b[1;33m\u001b[0m\u001b[1;33m\u001b[0m\u001b[0m\n\u001b[0m\u001b[0;32m    494\u001b[0m     \u001b[1;32melse\u001b[0m\u001b[1;33m:\u001b[0m\u001b[1;33m\u001b[0m\u001b[1;33m\u001b[0m\u001b[0m\n",
      "\u001b[1;32m~\\anaconda3\\lib\\ssl.py\u001b[0m in \u001b[0;36mwrap_socket\u001b[1;34m(self, sock, server_side, do_handshake_on_connect, suppress_ragged_eofs, server_hostname, session)\u001b[0m\n\u001b[0;32m    500\u001b[0m         \u001b[1;31m# ctx._wrap_socket()\u001b[0m\u001b[1;33m\u001b[0m\u001b[1;33m\u001b[0m\u001b[0m\n\u001b[1;32m--> 501\u001b[1;33m         return self.sslsocket_class._create(\n\u001b[0m\u001b[0;32m    502\u001b[0m             \u001b[0msock\u001b[0m\u001b[1;33m=\u001b[0m\u001b[0msock\u001b[0m\u001b[1;33m,\u001b[0m\u001b[1;33m\u001b[0m\u001b[1;33m\u001b[0m\u001b[0m\n",
      "\u001b[1;32m~\\anaconda3\\lib\\ssl.py\u001b[0m in \u001b[0;36m_create\u001b[1;34m(cls, sock, server_side, do_handshake_on_connect, suppress_ragged_eofs, server_hostname, context, session)\u001b[0m\n\u001b[0;32m   1040\u001b[0m                         \u001b[1;32mraise\u001b[0m \u001b[0mValueError\u001b[0m\u001b[1;33m(\u001b[0m\u001b[1;34m\"do_handshake_on_connect should not be specified for non-blocking sockets\"\u001b[0m\u001b[1;33m)\u001b[0m\u001b[1;33m\u001b[0m\u001b[1;33m\u001b[0m\u001b[0m\n\u001b[1;32m-> 1041\u001b[1;33m                     \u001b[0mself\u001b[0m\u001b[1;33m.\u001b[0m\u001b[0mdo_handshake\u001b[0m\u001b[1;33m(\u001b[0m\u001b[1;33m)\u001b[0m\u001b[1;33m\u001b[0m\u001b[1;33m\u001b[0m\u001b[0m\n\u001b[0m\u001b[0;32m   1042\u001b[0m             \u001b[1;32mexcept\u001b[0m \u001b[1;33m(\u001b[0m\u001b[0mOSError\u001b[0m\u001b[1;33m,\u001b[0m \u001b[0mValueError\u001b[0m\u001b[1;33m)\u001b[0m\u001b[1;33m:\u001b[0m\u001b[1;33m\u001b[0m\u001b[1;33m\u001b[0m\u001b[0m\n",
      "\u001b[1;32m~\\anaconda3\\lib\\ssl.py\u001b[0m in \u001b[0;36mdo_handshake\u001b[1;34m(self, block)\u001b[0m\n\u001b[0;32m   1309\u001b[0m                 \u001b[0mself\u001b[0m\u001b[1;33m.\u001b[0m\u001b[0msettimeout\u001b[0m\u001b[1;33m(\u001b[0m\u001b[1;32mNone\u001b[0m\u001b[1;33m)\u001b[0m\u001b[1;33m\u001b[0m\u001b[1;33m\u001b[0m\u001b[0m\n\u001b[1;32m-> 1310\u001b[1;33m             \u001b[0mself\u001b[0m\u001b[1;33m.\u001b[0m\u001b[0m_sslobj\u001b[0m\u001b[1;33m.\u001b[0m\u001b[0mdo_handshake\u001b[0m\u001b[1;33m(\u001b[0m\u001b[1;33m)\u001b[0m\u001b[1;33m\u001b[0m\u001b[1;33m\u001b[0m\u001b[0m\n\u001b[0m\u001b[0;32m   1311\u001b[0m         \u001b[1;32mfinally\u001b[0m\u001b[1;33m:\u001b[0m\u001b[1;33m\u001b[0m\u001b[1;33m\u001b[0m\u001b[0m\n",
      "\u001b[1;31mProtocolError\u001b[0m: ('Connection aborted.', ConnectionResetError(10054, 'An existing connection was forcibly closed by the remote host', None, 10054, None))",
      "\nDuring handling of the above exception, another exception occurred:\n",
      "\u001b[1;31mConnectionError\u001b[0m                           Traceback (most recent call last)",
      "\u001b[1;32m~\\AppData\\Local\\Temp\\ipykernel_18084\\3065775464.py\u001b[0m in \u001b[0;36m<module>\u001b[1;34m\u001b[0m\n\u001b[0;32m      1\u001b[0m \u001b[0mstart_url\u001b[0m \u001b[1;33m=\u001b[0m \u001b[1;34m\"https://www.airlinequality.com/airline-reviews/british-airways\"\u001b[0m\u001b[1;33m\u001b[0m\u001b[1;33m\u001b[0m\u001b[0m\n\u001b[1;32m----> 2\u001b[1;33m \u001b[0mall_reviews\u001b[0m \u001b[1;33m=\u001b[0m \u001b[0mscrape_reviews\u001b[0m\u001b[1;33m(\u001b[0m\u001b[0mstart_url\u001b[0m\u001b[1;33m)\u001b[0m\u001b[1;33m\u001b[0m\u001b[1;33m\u001b[0m\u001b[0m\n\u001b[0m",
      "\u001b[1;32m~\\AppData\\Local\\Temp\\ipykernel_18084\\186060477.py\u001b[0m in \u001b[0;36mscrape_reviews\u001b[1;34m(url)\u001b[0m\n\u001b[0;32m      7\u001b[0m \u001b[1;33m\u001b[0m\u001b[0m\n\u001b[0;32m      8\u001b[0m     \u001b[1;32mwhile\u001b[0m \u001b[0murl\u001b[0m\u001b[1;33m:\u001b[0m\u001b[1;33m\u001b[0m\u001b[1;33m\u001b[0m\u001b[0m\n\u001b[1;32m----> 9\u001b[1;33m         \u001b[0mresponse\u001b[0m \u001b[1;33m=\u001b[0m \u001b[0mrequests\u001b[0m\u001b[1;33m.\u001b[0m\u001b[0mget\u001b[0m\u001b[1;33m(\u001b[0m\u001b[0murl\u001b[0m\u001b[1;33m)\u001b[0m\u001b[1;33m\u001b[0m\u001b[1;33m\u001b[0m\u001b[0m\n\u001b[0m\u001b[0;32m     10\u001b[0m \u001b[1;33m\u001b[0m\u001b[0m\n\u001b[0;32m     11\u001b[0m         \u001b[1;32mif\u001b[0m \u001b[0mresponse\u001b[0m\u001b[1;33m.\u001b[0m\u001b[0mstatus_code\u001b[0m \u001b[1;33m==\u001b[0m \u001b[1;36m200\u001b[0m\u001b[1;33m:\u001b[0m\u001b[1;33m\u001b[0m\u001b[1;33m\u001b[0m\u001b[0m\n",
      "\u001b[1;32m~\\anaconda3\\lib\\site-packages\\requests\\api.py\u001b[0m in \u001b[0;36mget\u001b[1;34m(url, params, **kwargs)\u001b[0m\n\u001b[0;32m     71\u001b[0m     \"\"\"\n\u001b[0;32m     72\u001b[0m \u001b[1;33m\u001b[0m\u001b[0m\n\u001b[1;32m---> 73\u001b[1;33m     \u001b[1;32mreturn\u001b[0m \u001b[0mrequest\u001b[0m\u001b[1;33m(\u001b[0m\u001b[1;34m\"get\"\u001b[0m\u001b[1;33m,\u001b[0m \u001b[0murl\u001b[0m\u001b[1;33m,\u001b[0m \u001b[0mparams\u001b[0m\u001b[1;33m=\u001b[0m\u001b[0mparams\u001b[0m\u001b[1;33m,\u001b[0m \u001b[1;33m**\u001b[0m\u001b[0mkwargs\u001b[0m\u001b[1;33m)\u001b[0m\u001b[1;33m\u001b[0m\u001b[1;33m\u001b[0m\u001b[0m\n\u001b[0m\u001b[0;32m     74\u001b[0m \u001b[1;33m\u001b[0m\u001b[0m\n\u001b[0;32m     75\u001b[0m \u001b[1;33m\u001b[0m\u001b[0m\n",
      "\u001b[1;32m~\\anaconda3\\lib\\site-packages\\requests\\api.py\u001b[0m in \u001b[0;36mrequest\u001b[1;34m(method, url, **kwargs)\u001b[0m\n\u001b[0;32m     57\u001b[0m     \u001b[1;31m# cases, and look like a memory leak in others.\u001b[0m\u001b[1;33m\u001b[0m\u001b[1;33m\u001b[0m\u001b[0m\n\u001b[0;32m     58\u001b[0m     \u001b[1;32mwith\u001b[0m \u001b[0msessions\u001b[0m\u001b[1;33m.\u001b[0m\u001b[0mSession\u001b[0m\u001b[1;33m(\u001b[0m\u001b[1;33m)\u001b[0m \u001b[1;32mas\u001b[0m \u001b[0msession\u001b[0m\u001b[1;33m:\u001b[0m\u001b[1;33m\u001b[0m\u001b[1;33m\u001b[0m\u001b[0m\n\u001b[1;32m---> 59\u001b[1;33m         \u001b[1;32mreturn\u001b[0m \u001b[0msession\u001b[0m\u001b[1;33m.\u001b[0m\u001b[0mrequest\u001b[0m\u001b[1;33m(\u001b[0m\u001b[0mmethod\u001b[0m\u001b[1;33m=\u001b[0m\u001b[0mmethod\u001b[0m\u001b[1;33m,\u001b[0m \u001b[0murl\u001b[0m\u001b[1;33m=\u001b[0m\u001b[0murl\u001b[0m\u001b[1;33m,\u001b[0m \u001b[1;33m**\u001b[0m\u001b[0mkwargs\u001b[0m\u001b[1;33m)\u001b[0m\u001b[1;33m\u001b[0m\u001b[1;33m\u001b[0m\u001b[0m\n\u001b[0m\u001b[0;32m     60\u001b[0m \u001b[1;33m\u001b[0m\u001b[0m\n\u001b[0;32m     61\u001b[0m \u001b[1;33m\u001b[0m\u001b[0m\n",
      "\u001b[1;32m~\\anaconda3\\lib\\site-packages\\requests\\sessions.py\u001b[0m in \u001b[0;36mrequest\u001b[1;34m(self, method, url, params, data, headers, cookies, files, auth, timeout, allow_redirects, proxies, hooks, stream, verify, cert, json)\u001b[0m\n\u001b[0;32m    585\u001b[0m         }\n\u001b[0;32m    586\u001b[0m         \u001b[0msend_kwargs\u001b[0m\u001b[1;33m.\u001b[0m\u001b[0mupdate\u001b[0m\u001b[1;33m(\u001b[0m\u001b[0msettings\u001b[0m\u001b[1;33m)\u001b[0m\u001b[1;33m\u001b[0m\u001b[1;33m\u001b[0m\u001b[0m\n\u001b[1;32m--> 587\u001b[1;33m         \u001b[0mresp\u001b[0m \u001b[1;33m=\u001b[0m \u001b[0mself\u001b[0m\u001b[1;33m.\u001b[0m\u001b[0msend\u001b[0m\u001b[1;33m(\u001b[0m\u001b[0mprep\u001b[0m\u001b[1;33m,\u001b[0m \u001b[1;33m**\u001b[0m\u001b[0msend_kwargs\u001b[0m\u001b[1;33m)\u001b[0m\u001b[1;33m\u001b[0m\u001b[1;33m\u001b[0m\u001b[0m\n\u001b[0m\u001b[0;32m    588\u001b[0m \u001b[1;33m\u001b[0m\u001b[0m\n\u001b[0;32m    589\u001b[0m         \u001b[1;32mreturn\u001b[0m \u001b[0mresp\u001b[0m\u001b[1;33m\u001b[0m\u001b[1;33m\u001b[0m\u001b[0m\n",
      "\u001b[1;32m~\\anaconda3\\lib\\site-packages\\requests\\sessions.py\u001b[0m in \u001b[0;36msend\u001b[1;34m(self, request, **kwargs)\u001b[0m\n\u001b[0;32m    699\u001b[0m \u001b[1;33m\u001b[0m\u001b[0m\n\u001b[0;32m    700\u001b[0m         \u001b[1;31m# Send the request\u001b[0m\u001b[1;33m\u001b[0m\u001b[1;33m\u001b[0m\u001b[0m\n\u001b[1;32m--> 701\u001b[1;33m         \u001b[0mr\u001b[0m \u001b[1;33m=\u001b[0m \u001b[0madapter\u001b[0m\u001b[1;33m.\u001b[0m\u001b[0msend\u001b[0m\u001b[1;33m(\u001b[0m\u001b[0mrequest\u001b[0m\u001b[1;33m,\u001b[0m \u001b[1;33m**\u001b[0m\u001b[0mkwargs\u001b[0m\u001b[1;33m)\u001b[0m\u001b[1;33m\u001b[0m\u001b[1;33m\u001b[0m\u001b[0m\n\u001b[0m\u001b[0;32m    702\u001b[0m \u001b[1;33m\u001b[0m\u001b[0m\n\u001b[0;32m    703\u001b[0m         \u001b[1;31m# Total elapsed time of the request (approximately)\u001b[0m\u001b[1;33m\u001b[0m\u001b[1;33m\u001b[0m\u001b[0m\n",
      "\u001b[1;32m~\\anaconda3\\lib\\site-packages\\requests\\adapters.py\u001b[0m in \u001b[0;36msend\u001b[1;34m(self, request, stream, timeout, verify, cert, proxies)\u001b[0m\n\u001b[0;32m    545\u001b[0m \u001b[1;33m\u001b[0m\u001b[0m\n\u001b[0;32m    546\u001b[0m         \u001b[1;32mexcept\u001b[0m \u001b[1;33m(\u001b[0m\u001b[0mProtocolError\u001b[0m\u001b[1;33m,\u001b[0m \u001b[0mOSError\u001b[0m\u001b[1;33m)\u001b[0m \u001b[1;32mas\u001b[0m \u001b[0merr\u001b[0m\u001b[1;33m:\u001b[0m\u001b[1;33m\u001b[0m\u001b[1;33m\u001b[0m\u001b[0m\n\u001b[1;32m--> 547\u001b[1;33m             \u001b[1;32mraise\u001b[0m \u001b[0mConnectionError\u001b[0m\u001b[1;33m(\u001b[0m\u001b[0merr\u001b[0m\u001b[1;33m,\u001b[0m \u001b[0mrequest\u001b[0m\u001b[1;33m=\u001b[0m\u001b[0mrequest\u001b[0m\u001b[1;33m)\u001b[0m\u001b[1;33m\u001b[0m\u001b[1;33m\u001b[0m\u001b[0m\n\u001b[0m\u001b[0;32m    548\u001b[0m \u001b[1;33m\u001b[0m\u001b[0m\n\u001b[0;32m    549\u001b[0m         \u001b[1;32mexcept\u001b[0m \u001b[0mMaxRetryError\u001b[0m \u001b[1;32mas\u001b[0m \u001b[0me\u001b[0m\u001b[1;33m:\u001b[0m\u001b[1;33m\u001b[0m\u001b[1;33m\u001b[0m\u001b[0m\n",
      "\u001b[1;31mConnectionError\u001b[0m: ('Connection aborted.', ConnectionResetError(10054, 'An existing connection was forcibly closed by the remote host', None, 10054, None))"
     ]
    }
   ],
   "source": [
    "start_url = \"https://www.airlinequality.com/airline-reviews/british-airways\"\n",
    "all_reviews = scrape_reviews(start_url)\n"
   ]
  },
  {
   "cell_type": "markdown",
   "id": "c8e337e4",
   "metadata": {},
   "source": [
    "<font face=\"Comfortaa\"><h2>2. Store Data into Dataframe"
   ]
  },
  {
   "cell_type": "code",
   "execution_count": null,
   "id": "697da85c",
   "metadata": {},
   "outputs": [],
   "source": [
    "reviews_df = pd.DataFrame(all_reviews)\n",
    "# reviews_df.to_csv('airline_reviews.csv', index=False)"
   ]
  },
  {
   "cell_type": "code",
   "execution_count": null,
   "id": "ff862a49",
   "metadata": {},
   "outputs": [],
   "source": [
    "reviews_df = reviews_df.drop_duplicates()"
   ]
  },
  {
   "cell_type": "code",
   "execution_count": null,
   "id": "93e0dfd9",
   "metadata": {},
   "outputs": [],
   "source": [
    "reviews_df.head()"
   ]
  },
  {
   "cell_type": "markdown",
   "id": "43cffe06",
   "metadata": {},
   "source": [
    "<font face=\"Comfortaa\"><h2>3. Data Cleaning"
   ]
  },
  {
   "cell_type": "code",
   "execution_count": null,
   "id": "abaf6eee",
   "metadata": {},
   "outputs": [],
   "source": [
    "reviews_df = reviews_df.pivot(index=['review_id', 'review_header', 'review_author_location_date', 'review_body'], columns='rating_name', values='rating_value').reset_index()"
   ]
  },
  {
   "cell_type": "code",
   "execution_count": null,
   "id": "85acea05",
   "metadata": {},
   "outputs": [],
   "source": [
    "reviews_df.info()"
   ]
  },
  {
   "cell_type": "code",
   "execution_count": null,
   "id": "253995d1",
   "metadata": {},
   "outputs": [],
   "source": [
    "reviews_df.head()"
   ]
  },
  {
   "cell_type": "code",
   "execution_count": null,
   "id": "2e7efe48",
   "metadata": {},
   "outputs": [],
   "source": [
    "reviews_df['review_author_location_date'] = reviews_df['review_author_location_date'].str.replace('\\n\\n', '')\n",
    "split_cols = reviews_df['review_author_location_date'].str.split(r'\\(|\\)', expand = True)"
   ]
  },
  {
   "cell_type": "code",
   "execution_count": null,
   "id": "504818a3",
   "metadata": {},
   "outputs": [],
   "source": [
    "reviews_df['author'] = split_cols[0]\n",
    "reviews_df['location'] = split_cols[1]\n",
    "reviews_df['date'] = split_cols[2]"
   ]
  },
  {
   "cell_type": "code",
   "execution_count": null,
   "id": "dde49267",
   "metadata": {},
   "outputs": [],
   "source": [
    "reviews_df.head()"
   ]
  },
  {
   "cell_type": "code",
   "execution_count": null,
   "id": "36058751",
   "metadata": {},
   "outputs": [],
   "source": [
    "reviews_df.describe(include='all')"
   ]
  },
  {
   "cell_type": "code",
   "execution_count": null,
   "id": "6031c07e",
   "metadata": {},
   "outputs": [],
   "source": [
    "reviews_df = reviews_df.drop(axis=1, columns=['review_author_location_date'])"
   ]
  },
  {
   "cell_type": "code",
   "execution_count": null,
   "id": "d145e7dc",
   "metadata": {},
   "outputs": [],
   "source": [
    "reviews_df.info()"
   ]
  },
  {
   "cell_type": "code",
   "execution_count": null,
   "id": "566a8b75",
   "metadata": {},
   "outputs": [],
   "source": [
    "reviews_df.columns = ['id', 'header', 'body', 'aircraft', 'cabin_staff_service', 'flown_date', 'fnb',\\\n",
    "                       'ground_service', 'inflight_entertainment', 'recommended', 'route', 'seat_comfort', \\\n",
    "                       'seat_type', 'traveller_type', 'value_for_money', 'wifi', 'author', 'location', 'review_date']"
   ]
  },
  {
   "cell_type": "code",
   "execution_count": null,
   "id": "1b8fceb8",
   "metadata": {},
   "outputs": [],
   "source": [
    "reviews_df.head()"
   ]
  },
  {
   "cell_type": "code",
   "execution_count": null,
   "id": "6b81b942",
   "metadata": {},
   "outputs": [],
   "source": [
    "reviews_df['fnb'] = reviews_df['fnb'].replace('N/A', np.nan)\n",
    "reviews_df['inflight_entertainment'] = reviews_df['inflight_entertainment'].replace('N/A', np.nan)\n",
    "reviews_df['seat_comfort'] = reviews_df['seat_comfort'].replace('N/A', np.nan)\n",
    "reviews_df['value_for_money'] = reviews_df['value_for_money'].replace('N/A', np.nan)"
   ]
  },
  {
   "cell_type": "code",
   "execution_count": null,
   "id": "8003b505",
   "metadata": {},
   "outputs": [],
   "source": [
    "#float\n",
    "reviews_df['cabin_staff_service'] = reviews_df['cabin_staff_service'].astype('float')\n",
    "reviews_df['ground_service'] = reviews_df['ground_service'].astype('float')\n",
    "reviews_df['fnb'] = reviews_df['fnb'].astype('float')\n",
    "reviews_df['inflight_entertainment'] = reviews_df['inflight_entertainment'].astype('float')\n",
    "reviews_df['seat_comfort'] = reviews_df['seat_comfort'].astype('float')\n",
    "reviews_df['value_for_money'] = reviews_df['value_for_money'].astype('float')\n",
    "reviews_df['wifi'] = reviews_df['wifi'].astype('float')\n",
    "\n",
    "#date\n",
    "reviews_df['flown_date'] = pd.to_datetime(reviews_df['flown_date'], errors='coerce')\n",
    "reviews_df['review_date'] = pd.to_datetime(reviews_df['review_date'], errors='coerce')\n"
   ]
  },
  {
   "cell_type": "code",
   "execution_count": null,
   "id": "5bc87bd5",
   "metadata": {},
   "outputs": [],
   "source": [
    "reviews_df.head()"
   ]
  },
  {
   "cell_type": "markdown",
   "id": "72552a06",
   "metadata": {},
   "source": [
    "<font face=\"Comfortaa\"><h2>4. Exploratory Data Analysis"
   ]
  },
  {
   "cell_type": "markdown",
   "id": "3f6e0542",
   "metadata": {},
   "source": [
    "<font face=\"Comfortaa\"><h3>4.1 Statistical Analysis"
   ]
  },
  {
   "cell_type": "code",
   "execution_count": null,
   "id": "87d65c86",
   "metadata": {},
   "outputs": [],
   "source": [
    "reviews_df.describe()"
   ]
  },
  {
   "cell_type": "code",
   "execution_count": null,
   "id": "051fa99a",
   "metadata": {},
   "outputs": [],
   "source": [
    "reviews_df['cabin_staff_service'].value_counts(normalize=True)"
   ]
  },
  {
   "cell_type": "code",
   "execution_count": null,
   "id": "90028ad1",
   "metadata": {},
   "outputs": [],
   "source": [
    "numerical_variables = reviews_df.describe().columns.to_list()\n",
    "title_names = ['Cabin Staff Service', 'Food & Beverage', 'Ground Service', 'Inflight Entertainment', 'Seat Comfort', 'Value of Money', 'WIFI & Connectivity']\n",
    "\n",
    "fig, ax = plt.subplots(ncols=2, nrows=4, figsize=(10, 15))\n",
    "\n",
    "for n, var in enumerate(numerical_variables):\n",
    "    i = n // 2\n",
    "    j = n % 2\n",
    "    sns.histplot(data=reviews_df, x=var, ax=ax[i, j])\n",
    "    ax[i, j].set(xlabel='Frequency', ylabel='', title=title_names[n])\n",
    "    ax[i, j].grid(False)\n",
    "\n",
    "    plt.tight_layout()\n",
    "plt.show()"
   ]
  },
  {
   "cell_type": "markdown",
   "id": "b5633176",
   "metadata": {},
   "source": [
    "<font face=\"Comfortaa\">\n",
    "    <h4><b> Statistical Summary: <b></h4> \n",
    "    <b>WIFI & Connectivity </b> received the highest percentage of 1-star reviews  & lowest median at 1.93.<br> \n",
    "    <b>Cabin Staff Service </b> received the highest percentage of 5-star reviews & highest median at 3.24.<br>\n",
    "    <b>Seat Comfort</b> received relatively equal numbers of reviews throughout 1 to 5 stars & second highest median at 2.87. <br>\n",
    "        All of the other review type including <b>Food & Beverage</b>, <b>Ground Service</b>, <b>Inflight Entertainment</b>, <b>Value of Money</b> although receieved more 1 star review but the medians range between 2.65 to 2.80.  \n",
    " </font>"
   ]
  },
  {
   "cell_type": "markdown",
   "id": "1f9c634b",
   "metadata": {},
   "source": [
    "<font face=\"Comfortaa\"><h3>4.2 Sentimental Analysis"
   ]
  },
  {
   "cell_type": "code",
   "execution_count": null,
   "id": "43cb3999",
   "metadata": {},
   "outputs": [],
   "source": [
    "import nltk\n",
    "from nltk.sentiment.vader import SentimentIntensityAnalyzer\n",
    "nltk.download('vader_lexicon')"
   ]
  },
  {
   "cell_type": "code",
   "execution_count": null,
   "id": "09790ad6",
   "metadata": {},
   "outputs": [],
   "source": [
    "analyzer = SentimentIntensityAnalyzer()"
   ]
  },
  {
   "cell_type": "code",
   "execution_count": null,
   "id": "050f68ff",
   "metadata": {},
   "outputs": [],
   "source": [
    "def get_sentiment(text):\n",
    "    sentiment = analyzer.polarity_scores(text)\n",
    "    compound_score = sentiment['compound']\n",
    "    \n",
    "    if compound_score >= 0.05:\n",
    "        return 'Positive'\n",
    "    elif compound_score <= -0.05:\n",
    "        return 'Negative'\n",
    "    else:\n",
    "        return 'Neutral'"
   ]
  },
  {
   "cell_type": "code",
   "execution_count": null,
   "id": "6bdbfa32",
   "metadata": {},
   "outputs": [],
   "source": [
    "reviews_df['sentiment'] = reviews_df['body'].apply(get_sentiment)"
   ]
  },
  {
   "cell_type": "code",
   "execution_count": null,
   "id": "c311460b",
   "metadata": {},
   "outputs": [],
   "source": [
    "reviews_df['sentiment'] = reviews_df['sentiment'].astype('category')\n",
    "reviews_df['sentiment'] = reviews_df['sentiment'].cat.set_categories(['Positive', 'Negative', 'Neutral'])"
   ]
  },
  {
   "cell_type": "code",
   "execution_count": null,
   "id": "153af3f9",
   "metadata": {},
   "outputs": [],
   "source": [
    "sns.countplot(data = reviews_df,\\\n",
    "            x = 'sentiment')\n",
    "plt.show()"
   ]
  },
  {
   "cell_type": "code",
   "execution_count": null,
   "id": "7854063b",
   "metadata": {},
   "outputs": [],
   "source": [
    "reviews_df['recommended'].value_counts()"
   ]
  },
  {
   "cell_type": "code",
   "execution_count": null,
   "id": "fbc3734b",
   "metadata": {},
   "outputs": [],
   "source": [
    "reviews_df.groupby(['recommended','sentiment'])['id'].count()"
   ]
  },
  {
   "cell_type": "markdown",
   "id": "45a6059c",
   "metadata": {},
   "source": [
    "<font face=\"Comfortaa\">\n",
    "    <h4><b> Sentimental Summary: </b></h4> \n",
    "    In conducting sentiment analysis using VADER, the majority of the reviews were found to be <b>Positive</b>,\" followed by <b>\"Negative\"</b> with a relatively small number categorized as <b>\"Neutral\" </b>. <br> However, this sentiment analysis appears to contradict the data in the <b>recommended</b> column, where a significant portion of reviewers did not recommend booking with the airline.<b>British Airways</b>. By looking closer to these columns, most of the sentiment were aligned with recommended column.\n",
    " </font>"
   ]
  },
  {
   "cell_type": "markdown",
   "id": "73c602f0",
   "metadata": {},
   "source": [
    "<font face=\"Comfortaa\"><h3>4.3 Time Series Analysis"
   ]
  },
  {
   "cell_type": "code",
   "execution_count": null,
   "id": "2d2b25ee",
   "metadata": {},
   "outputs": [],
   "source": [
    "reviews_df['date_diff'] = reviews_df['review_date'] - reviews_df['flown_date']"
   ]
  },
  {
   "cell_type": "code",
   "execution_count": null,
   "id": "37715b99",
   "metadata": {},
   "outputs": [],
   "source": [
    "reviews_df['review_month'] = reviews_df['review_date'].dt.month\n",
    "reviews_df['flown_month'] = reviews_df['flown_date'].dt.month"
   ]
  },
  {
   "cell_type": "code",
   "execution_count": null,
   "id": "0314d369",
   "metadata": {},
   "outputs": [],
   "source": [
    "reviews_df['recommended'] = reviews_df['recommended'].astype('category')\n",
    "reviews_df['recommended'] = reviews_df['recommended'].cat.set_categories(['yes','no'])"
   ]
  },
  {
   "cell_type": "code",
   "execution_count": null,
   "id": "4b28d480",
   "metadata": {},
   "outputs": [],
   "source": [
    "date_cols = ['review_month', 'flown_month']\n",
    "title_name = ['Review by Month', 'Flown by Month']\n",
    "fig, ax = plt.subplots(ncols=2, nrows=1, figsize=(10, 3), sharey=True)\n",
    "\n",
    "for n, var in enumerate(date_cols):\n",
    "    sns.countplot(data=reviews_df, x=var, ax=ax[n], hue = 'recommended')\n",
    "    ax[n].set(xlabel='Frequency', ylabel='', title=title_name[n])\n",
    "    ax[n].grid(False)\n",
    "    ax[n].legend(loc='center left', bbox_to_anchor=(1, 0.5), facecolor='k', labelcolor='w')\n",
    "plt.tight_layout()\n",
    "plt.show()"
   ]
  },
  {
   "cell_type": "code",
   "execution_count": null,
   "id": "bbf7a749",
   "metadata": {},
   "outputs": [],
   "source": [
    "reviews_df['review_month'].value_counts()"
   ]
  },
  {
   "cell_type": "markdown",
   "id": "936db88a",
   "metadata": {},
   "source": [
    "<font face='Comfortaa'>\n",
    "    <b>Time Series Summary:</b><br>\n",
    "    In the course of the time series analysis conducted on review dates and flown dates within the dataset, it was observed that not all reviews were paired with corresponding flown dates, indicating potential data gaps.<br>\n",
    "\n",
    "The distribution of reviews across months revealed that June had the highest number of reviews, totaling 354, followed closely by October with 339 reviews. These two months stood out as periods of increased customer feedback.<br>\n",
    "\n",
    "A noteworthy trend that emerged across all months was that a significant proportion of reviewers chose not to recommend the airline. This consistent sentiment of dissatisfaction suggests that a substantial segment of customers had reservations about recommending the airline during this period.<br>\n",
    "    \n",
    "</font>"
   ]
  },
  {
   "cell_type": "markdown",
   "id": "5070f7fb",
   "metadata": {},
   "source": [
    "<font face=\"Comfortaa\"><h3>4.4 Word Cloud"
   ]
  },
  {
   "cell_type": "code",
   "execution_count": null,
   "id": "4f19c7ea",
   "metadata": {},
   "outputs": [],
   "source": [
    "from wordcloud import WordCloud\n",
    "text_data = reviews_df['body'].str.cat(sep=' ')\n",
    "wordcloud = WordCloud(width=800, height=400, background_color='white', max_words=100).generate(text_data)"
   ]
  },
  {
   "cell_type": "code",
   "execution_count": null,
   "id": "3bd677db",
   "metadata": {},
   "outputs": [],
   "source": [
    "plt.figure(figsize=(10, 5))\n",
    "plt.imshow(wordcloud, interpolation='bilinear')\n",
    "plt.axis(\"off\")\n",
    "plt.show()"
   ]
  },
  {
   "cell_type": "markdown",
   "id": "734cb1f7",
   "metadata": {},
   "source": [
    "<font face='Comfortaa'>\n",
    "    <b>WordCloud Summary:</b><br>\n",
    "    It appears to cover a range of aspects, including airport experiences, cabin service, delays, and more.\n",
    "    \n",
    "</font>"
   ]
  }
 ],
 "metadata": {
  "kernelspec": {
   "display_name": "Python 3 (ipykernel)",
   "language": "python",
   "name": "python3"
  },
  "language_info": {
   "codemirror_mode": {
    "name": "ipython",
    "version": 3
   },
   "file_extension": ".py",
   "mimetype": "text/x-python",
   "name": "python",
   "nbconvert_exporter": "python",
   "pygments_lexer": "ipython3",
   "version": "3.9.13"
  }
 },
 "nbformat": 4,
 "nbformat_minor": 5
}
