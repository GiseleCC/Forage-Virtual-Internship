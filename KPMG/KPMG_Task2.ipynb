{
 "cells": [
  {
   "cell_type": "markdown",
   "id": "e2b4e1d8-887e-4552-bf6a-afee3991b7ec",
   "metadata": {},
   "source": [
    "# KPMG AU Virtual Internship"
   ]
  },
  {
   "cell_type": "markdown",
   "id": "883373d9-c82b-4bc5-96c8-986a1a3022db",
   "metadata": {},
   "source": [
    "## Background Information\n",
    "\n",
    "Sprocket Central Pty Ltd, a medium-sized company specializing in bicycles and cycling accessories, has reached out to Tony Smith, a Partner in KPMG's Lighthouse & Innovation Team. Sprocket Central Pty Ltd is eager to explore KPMG's capabilities within its Analytics, Information & Modeling team.\n",
    "\n",
    "During their conversation, Smith elaborates on KPMG's proficiency in this domain (additional details are available here). Specifically, he emphasizes how the team can adeptly analyze data sets to facilitate the growth of Sprocket Central Pty Ltd.\n",
    "\n",
    "Sprocket Central Pty Ltd's primary requirement is assistance with their customer and transaction data. They possess an extensive dataset related to their customers, but their team is uncertain about how to effectively analyze it to enhance their marketing strategy.\n",
    "\n",
    "However, to support this analysis, you consult with the Associate Director for some insights, and she advises, \"The significance of optimizing the quality of customer datasets should not be underestimated. The higher the quality of the dataset, the greater the potential to leverage it for driving company growth.\"\n",
    "\n",
    "The client provided KPMG with 3 datasets:\n",
    "- Customer Demographic \n",
    "- Customer Addresses\n",
    "- Transactions data in the past 3 months"
   ]
  },
  {
   "cell_type": "markdown",
   "id": "f28da135-7781-4061-b616-08e1ff9e590d",
   "metadata": {},
   "source": [
    "## Task 2\n",
    "For context, Sprocket Central Pty Ltd is a long-standing KPMG client whom specialises in high-quality bikes and accessible cycling accessories to riders. Their marketing team is looking to boost business by analysing their existing customer dataset to determine customer trends and behaviour. \n",
    "\n",
    "Using the existing 3 datasets (**Customer demographic**, **customer address** and **transactions**) as a labelled dataset, suggestions have been provided regarding the selection of new customers from this group of 1000, with the aim of maximizing value for the organization."
   ]
  },
  {
   "cell_type": "markdown",
   "id": "025ad48d-98c2-43cd-bf77-afb20e650e27",
   "metadata": {},
   "source": [
    "Steps taken:\n",
    "1. RFM analysis were conducted on the customers with the **Transaction** dataset. Details on RFM analysis can be found [here](https://ploiitubsamon.medium.com/rfm-analysis-for-customer-segmentation-with-power-bi-5d2f5bd62038)\n",
    "2. The customer was categorized into the segment based on their RFM scores.\n",
    "3. Only \"Champions\", \"Loyal\" and \"Potential Loyalist\" are categorised as the targetted customers. \"Potential Loyalist\" customers was included as they might show behaviors that indicate a propensity to become long-term customers.\n",
    "4. A binary variable was introduced and it assigned a value of 1 to customers categorized as \"Champions\", \"Loyal\" or \"Potential Loyal,\" while assigning a value of 0 to those falling under other segments.\n",
    "5. Classificatin Model Development "
   ]
  },
  {
   "cell_type": "code",
   "execution_count": 1,
   "id": "e395c640",
   "metadata": {},
   "outputs": [],
   "source": [
    "import pandas as pd\n",
    "from datetime import datetime, timedelta\n",
    "import matplotlib.pyplot as plt\n",
    "import seaborn as sns\n",
    "import numpy as np"
   ]
  },
  {
   "cell_type": "markdown",
   "id": "e9521515",
   "metadata": {},
   "source": [
    "## 1 Load Dataset"
   ]
  },
  {
   "cell_type": "code",
   "execution_count": 2,
   "id": "af4d8ab3-f5c4-4ce6-a8df-9daf46be5fca",
   "metadata": {},
   "outputs": [],
   "source": [
    "Transactions = pd.read_csv('assets/Transactions.csv', parse_dates = ['transaction_date'])\n",
    "CustomerAddresses = pd.read_csv('assets/CustomerAddresses.csv')\n",
    "CustomerDemographics = pd.read_csv('assets/CustomerDemographics.csv')"
   ]
  },
  {
   "cell_type": "markdown",
   "id": "3bc1df47",
   "metadata": {},
   "source": [
    "## 2 RFM Analysis"
   ]
  },
  {
   "cell_type": "code",
   "execution_count": 3,
   "id": "59f596d4",
   "metadata": {},
   "outputs": [
    {
     "data": {
      "text/plain": [
       "Timestamp('2017-12-30 00:00:00')"
      ]
     },
     "execution_count": 3,
     "metadata": {},
     "output_type": "execute_result"
    }
   ],
   "source": [
    "last_transaction_date = Transactions['transaction_date'].max()\n",
    "last_transaction_date"
   ]
  },
  {
   "cell_type": "markdown",
   "id": "863e176d-ca65-4e3f-b101-a8a425094e4c",
   "metadata": {},
   "source": [
    "### 2-1 Calculate Customer's RFM score"
   ]
  },
  {
   "cell_type": "code",
   "execution_count": 4,
   "id": "f26014a1",
   "metadata": {},
   "outputs": [
    {
     "data": {
      "text/html": [
       "<div>\n",
       "<style scoped>\n",
       "    .dataframe tbody tr th:only-of-type {\n",
       "        vertical-align: middle;\n",
       "    }\n",
       "\n",
       "    .dataframe tbody tr th {\n",
       "        vertical-align: top;\n",
       "    }\n",
       "\n",
       "    .dataframe thead th {\n",
       "        text-align: right;\n",
       "    }\n",
       "</style>\n",
       "<table border=\"1\" class=\"dataframe\">\n",
       "  <thead>\n",
       "    <tr style=\"text-align: right;\">\n",
       "      <th></th>\n",
       "      <th>customer_id</th>\n",
       "      <th>last_transaction_date</th>\n",
       "      <th>frequency</th>\n",
       "      <th>monetary</th>\n",
       "    </tr>\n",
       "  </thead>\n",
       "  <tbody>\n",
       "    <tr>\n",
       "      <th>0</th>\n",
       "      <td>1</td>\n",
       "      <td>2017-12-23</td>\n",
       "      <td>11</td>\n",
       "      <td>9084.45</td>\n",
       "    </tr>\n",
       "    <tr>\n",
       "      <th>1</th>\n",
       "      <td>2</td>\n",
       "      <td>2017-08-24</td>\n",
       "      <td>3</td>\n",
       "      <td>4149.07</td>\n",
       "    </tr>\n",
       "    <tr>\n",
       "      <th>2</th>\n",
       "      <td>3</td>\n",
       "      <td>2017-09-19</td>\n",
       "      <td>8</td>\n",
       "      <td>9888.23</td>\n",
       "    </tr>\n",
       "    <tr>\n",
       "      <th>3</th>\n",
       "      <td>4</td>\n",
       "      <td>2017-06-18</td>\n",
       "      <td>2</td>\n",
       "      <td>1047.72</td>\n",
       "    </tr>\n",
       "    <tr>\n",
       "      <th>4</th>\n",
       "      <td>5</td>\n",
       "      <td>2017-12-14</td>\n",
       "      <td>6</td>\n",
       "      <td>5903.20</td>\n",
       "    </tr>\n",
       "  </tbody>\n",
       "</table>\n",
       "</div>"
      ],
      "text/plain": [
       "   customer_id last_transaction_date  frequency  monetary\n",
       "0            1            2017-12-23         11   9084.45\n",
       "1            2            2017-08-24          3   4149.07\n",
       "2            3            2017-09-19          8   9888.23\n",
       "3            4            2017-06-18          2   1047.72\n",
       "4            5            2017-12-14          6   5903.20"
      ]
     },
     "execution_count": 4,
     "metadata": {},
     "output_type": "execute_result"
    }
   ],
   "source": [
    "customer_by_rfm_score = Transactions.groupby('customer_id').agg(\n",
    "    last_transaction_date=('transaction_date', 'max'),\n",
    "    frequency=('transaction_id', 'count'),\n",
    "    monetary=('list_price', 'sum')).reset_index()\n",
    "customer_by_rfm_score.head()"
   ]
  },
  {
   "cell_type": "code",
   "execution_count": 5,
   "id": "ef910de5",
   "metadata": {},
   "outputs": [
    {
     "name": "stdout",
     "output_type": "stream",
     "text": [
      "<class 'pandas.core.frame.DataFrame'>\n",
      "RangeIndex: 3493 entries, 0 to 3492\n",
      "Data columns (total 4 columns):\n",
      " #   Column                 Non-Null Count  Dtype         \n",
      "---  ------                 --------------  -----         \n",
      " 0   customer_id            3493 non-null   int64         \n",
      " 1   last_transaction_date  3493 non-null   datetime64[ns]\n",
      " 2   frequency              3493 non-null   int64         \n",
      " 3   monetary               3493 non-null   float64       \n",
      "dtypes: datetime64[ns](1), float64(1), int64(2)\n",
      "memory usage: 109.3 KB\n"
     ]
    }
   ],
   "source": [
    "customer_by_rfm_score.info()"
   ]
  },
  {
   "cell_type": "code",
   "execution_count": 6,
   "id": "c0cf4fd2",
   "metadata": {},
   "outputs": [],
   "source": [
    "customer_by_rfm_score['recency'] = last_transaction_date - customer_by_rfm_score['last_transaction_date']"
   ]
  },
  {
   "cell_type": "code",
   "execution_count": 7,
   "id": "af528e98",
   "metadata": {},
   "outputs": [],
   "source": [
    "def calculate_score(value):\n",
    "    percentile_20 = np.percentile(value, 20)\n",
    "    percentile_40 = np.percentile(value, 40)\n",
    "    percentile_60 = np.percentile(value, 60)\n",
    "    percentile_80 = np.percentile(value, 80)\n",
    "\n",
    "    val_scores = []\n",
    "    for val in value:\n",
    "        if val <= percentile_20:\n",
    "            val_scores.append(\"1\")\n",
    "        elif val <= percentile_40:\n",
    "            val_scores.append(\"2\")\n",
    "        elif val <= percentile_60:\n",
    "            val_scores.append(\"3\")\n",
    "        elif val <= percentile_80:\n",
    "            val_scores.append(\"4\")\n",
    "        else:\n",
    "            val_scores.append(\"5\")\n",
    "    \n",
    "    return val_scores"
   ]
  },
  {
   "cell_type": "code",
   "execution_count": 8,
   "id": "3a493105",
   "metadata": {},
   "outputs": [],
   "source": [
    "def calculate_r_score(value):\n",
    "    percentile_20 = np.percentile(value, 20)\n",
    "    percentile_40 = np.percentile(value, 40)\n",
    "    percentile_60 = np.percentile(value, 60)\n",
    "    percentile_80 = np.percentile(value, 80)\n",
    "\n",
    "    val_scores = []\n",
    "    for val in value:\n",
    "        if val <= percentile_20:\n",
    "            val_scores.append(\"5\")\n",
    "        elif val <= percentile_40:\n",
    "            val_scores.append(\"4\")\n",
    "        elif val <= percentile_60:\n",
    "            val_scores.append(\"3\")\n",
    "        elif val <= percentile_80:\n",
    "            val_scores.append(\"2\")\n",
    "        else:\n",
    "            val_scores.append(\"1\")\n",
    "    \n",
    "    return val_scores"
   ]
  },
  {
   "cell_type": "code",
   "execution_count": 9,
   "id": "c58ae806",
   "metadata": {},
   "outputs": [],
   "source": [
    "customer_by_rfm_score['R Score'] = calculate_r_score(customer_by_rfm_score['recency'])\n",
    "customer_by_rfm_score['F Score'] = calculate_score(customer_by_rfm_score['frequency'])\n",
    "customer_by_rfm_score['M Score'] = calculate_score(customer_by_rfm_score['monetary'])"
   ]
  },
  {
   "cell_type": "code",
   "execution_count": 10,
   "id": "7a3fc7c8",
   "metadata": {},
   "outputs": [],
   "source": [
    "customer_by_rfm_score['RFM Score'] = customer_by_rfm_score['R Score'].astype('str')+\\\n",
    "customer_by_rfm_score['F Score'].astype('str')+\\\n",
    "customer_by_rfm_score['M Score'].astype('str')"
   ]
  },
  {
   "cell_type": "code",
   "execution_count": 11,
   "id": "fc30eb2b-ab46-4f12-8827-4d3b11c3aabe",
   "metadata": {},
   "outputs": [
    {
     "data": {
      "text/html": [
       "<div>\n",
       "<style scoped>\n",
       "    .dataframe tbody tr th:only-of-type {\n",
       "        vertical-align: middle;\n",
       "    }\n",
       "\n",
       "    .dataframe tbody tr th {\n",
       "        vertical-align: top;\n",
       "    }\n",
       "\n",
       "    .dataframe thead th {\n",
       "        text-align: right;\n",
       "    }\n",
       "</style>\n",
       "<table border=\"1\" class=\"dataframe\">\n",
       "  <thead>\n",
       "    <tr style=\"text-align: right;\">\n",
       "      <th></th>\n",
       "      <th>customer_id</th>\n",
       "      <th>last_transaction_date</th>\n",
       "      <th>frequency</th>\n",
       "      <th>monetary</th>\n",
       "      <th>recency</th>\n",
       "      <th>R Score</th>\n",
       "      <th>F Score</th>\n",
       "      <th>M Score</th>\n",
       "      <th>RFM Score</th>\n",
       "    </tr>\n",
       "  </thead>\n",
       "  <tbody>\n",
       "    <tr>\n",
       "      <th>0</th>\n",
       "      <td>1</td>\n",
       "      <td>2017-12-23</td>\n",
       "      <td>11</td>\n",
       "      <td>9084.45</td>\n",
       "      <td>7 days</td>\n",
       "      <td>5</td>\n",
       "      <td>5</td>\n",
       "      <td>5</td>\n",
       "      <td>555</td>\n",
       "    </tr>\n",
       "    <tr>\n",
       "      <th>1</th>\n",
       "      <td>2</td>\n",
       "      <td>2017-08-24</td>\n",
       "      <td>3</td>\n",
       "      <td>4149.07</td>\n",
       "      <td>128 days</td>\n",
       "      <td>1</td>\n",
       "      <td>1</td>\n",
       "      <td>2</td>\n",
       "      <td>112</td>\n",
       "    </tr>\n",
       "    <tr>\n",
       "      <th>2</th>\n",
       "      <td>3</td>\n",
       "      <td>2017-09-19</td>\n",
       "      <td>8</td>\n",
       "      <td>9888.23</td>\n",
       "      <td>102 days</td>\n",
       "      <td>1</td>\n",
       "      <td>4</td>\n",
       "      <td>5</td>\n",
       "      <td>145</td>\n",
       "    </tr>\n",
       "    <tr>\n",
       "      <th>3</th>\n",
       "      <td>4</td>\n",
       "      <td>2017-06-18</td>\n",
       "      <td>2</td>\n",
       "      <td>1047.72</td>\n",
       "      <td>195 days</td>\n",
       "      <td>1</td>\n",
       "      <td>1</td>\n",
       "      <td>1</td>\n",
       "      <td>111</td>\n",
       "    </tr>\n",
       "    <tr>\n",
       "      <th>4</th>\n",
       "      <td>5</td>\n",
       "      <td>2017-12-14</td>\n",
       "      <td>6</td>\n",
       "      <td>5903.20</td>\n",
       "      <td>16 days</td>\n",
       "      <td>4</td>\n",
       "      <td>3</td>\n",
       "      <td>3</td>\n",
       "      <td>433</td>\n",
       "    </tr>\n",
       "  </tbody>\n",
       "</table>\n",
       "</div>"
      ],
      "text/plain": [
       "   customer_id last_transaction_date  frequency  monetary  recency R Score  \\\n",
       "0            1            2017-12-23         11   9084.45   7 days       5   \n",
       "1            2            2017-08-24          3   4149.07 128 days       1   \n",
       "2            3            2017-09-19          8   9888.23 102 days       1   \n",
       "3            4            2017-06-18          2   1047.72 195 days       1   \n",
       "4            5            2017-12-14          6   5903.20  16 days       4   \n",
       "\n",
       "  F Score M Score RFM Score  \n",
       "0       5       5       555  \n",
       "1       1       2       112  \n",
       "2       4       5       145  \n",
       "3       1       1       111  \n",
       "4       3       3       433  "
      ]
     },
     "execution_count": 11,
     "metadata": {},
     "output_type": "execute_result"
    }
   ],
   "source": [
    "customer_by_rfm_score.head()"
   ]
  },
  {
   "cell_type": "markdown",
   "id": "74d9b83c",
   "metadata": {},
   "source": [
    "### 2-2 Load RFM score"
   ]
  },
  {
   "cell_type": "markdown",
   "id": "16ec8d38-bfa8-4af5-a76f-4dc6d0eda0ce",
   "metadata": {},
   "source": [
    "The customer was categorized into the segment based on their RFM scores."
   ]
  },
  {
   "attachments": {
    "3b75a4e8-5c0f-4dc0-a302-6cd1c675bd16.png": {
     "image/png": "[encoded data removed]"
    }
   },
   "cell_type": "markdown",
   "id": "ab5f3d53-e459-4958-8896-ff47a2a37832",
   "metadata": {},
   "source": [
    "![image.png](attachment:3b75a4e8-5c0f-4dc0-a302-6cd1c675bd16.png)"
   ]
  },
  {
   "cell_type": "code",
   "execution_count": 12,
   "id": "ddd677d2",
   "metadata": {},
   "outputs": [],
   "source": [
    "rfm_score = pd.read_excel('assets/RFM scores.xlsx')"
   ]
  },
  {
   "cell_type": "code",
   "execution_count": 13,
   "id": "6dee14ca-1037-4984-90d8-62656da6ed4b",
   "metadata": {},
   "outputs": [
    {
     "data": {
      "text/plain": [
       "array(['Champions', 'Loyal', 'Potential Loyalist', 'New Customers',\n",
       "       'Promising', 'Need Attention', 'About To Sleep', 'At Risk',\n",
       "       'Cannot Lose Them', 'Hibernating customers', 'Lost customers'],\n",
       "      dtype=object)"
      ]
     },
     "execution_count": 13,
     "metadata": {},
     "output_type": "execute_result"
    }
   ],
   "source": [
    "rfm_score['Segment'].unique()"
   ]
  },
  {
   "cell_type": "code",
   "execution_count": 14,
   "id": "0e025332",
   "metadata": {},
   "outputs": [
    {
     "data": {
      "text/html": [
       "<div>\n",
       "<style scoped>\n",
       "    .dataframe tbody tr th:only-of-type {\n",
       "        vertical-align: middle;\n",
       "    }\n",
       "\n",
       "    .dataframe tbody tr th {\n",
       "        vertical-align: top;\n",
       "    }\n",
       "\n",
       "    .dataframe thead th {\n",
       "        text-align: right;\n",
       "    }\n",
       "</style>\n",
       "<table border=\"1\" class=\"dataframe\">\n",
       "  <thead>\n",
       "    <tr style=\"text-align: right;\">\n",
       "      <th></th>\n",
       "      <th>Segment</th>\n",
       "      <th>Scores</th>\n",
       "    </tr>\n",
       "  </thead>\n",
       "  <tbody>\n",
       "    <tr>\n",
       "      <th>0</th>\n",
       "      <td>Champions</td>\n",
       "      <td>555, 554, 544, 545, 454, 455, 445</td>\n",
       "    </tr>\n",
       "    <tr>\n",
       "      <th>1</th>\n",
       "      <td>Loyal</td>\n",
       "      <td>543, 444, 435, 355, 354, 345, 344, 335</td>\n",
       "    </tr>\n",
       "    <tr>\n",
       "      <th>2</th>\n",
       "      <td>Potential Loyalist</td>\n",
       "      <td>553, 551, 552, 541, 542, 533, 532, 531, 452, 4...</td>\n",
       "    </tr>\n",
       "    <tr>\n",
       "      <th>3</th>\n",
       "      <td>New Customers</td>\n",
       "      <td>512, 511, 422, 421 412, 411, 311</td>\n",
       "    </tr>\n",
       "    <tr>\n",
       "      <th>4</th>\n",
       "      <td>Promising</td>\n",
       "      <td>525, 524, 523, 522, 521, 515, 514, 513, 425,42...</td>\n",
       "    </tr>\n",
       "    <tr>\n",
       "      <th>5</th>\n",
       "      <td>Need Attention</td>\n",
       "      <td>535, 534, 443, 434, 343, 334, 325, 324</td>\n",
       "    </tr>\n",
       "    <tr>\n",
       "      <th>6</th>\n",
       "      <td>About To Sleep</td>\n",
       "      <td>331, 321, 312, 221, 213, 231, 241, 251</td>\n",
       "    </tr>\n",
       "    <tr>\n",
       "      <th>7</th>\n",
       "      <td>At Risk</td>\n",
       "      <td>255, 254, 245, 244, 253, 252, 243, 242, 235, 2...</td>\n",
       "    </tr>\n",
       "    <tr>\n",
       "      <th>8</th>\n",
       "      <td>Cannot Lose Them</td>\n",
       "      <td>155, 154, 144, 214,215,115, 114, 113</td>\n",
       "    </tr>\n",
       "    <tr>\n",
       "      <th>9</th>\n",
       "      <td>Hibernating customers</td>\n",
       "      <td>332, 322, 231, 241, 251, 233, 232, 223, 222, 1...</td>\n",
       "    </tr>\n",
       "    <tr>\n",
       "      <th>10</th>\n",
       "      <td>Lost customers</td>\n",
       "      <td>111, 112, 121, 131,141,151</td>\n",
       "    </tr>\n",
       "  </tbody>\n",
       "</table>\n",
       "</div>"
      ],
      "text/plain": [
       "                  Segment                                             Scores\n",
       "0               Champions                  555, 554, 544, 545, 454, 455, 445\n",
       "1                   Loyal             543, 444, 435, 355, 354, 345, 344, 335\n",
       "2      Potential Loyalist  553, 551, 552, 541, 542, 533, 532, 531, 452, 4...\n",
       "3           New Customers                   512, 511, 422, 421 412, 411, 311\n",
       "4               Promising  525, 524, 523, 522, 521, 515, 514, 513, 425,42...\n",
       "5          Need Attention             535, 534, 443, 434, 343, 334, 325, 324\n",
       "6          About To Sleep             331, 321, 312, 221, 213, 231, 241, 251\n",
       "7                 At Risk  255, 254, 245, 244, 253, 252, 243, 242, 235, 2...\n",
       "8        Cannot Lose Them               155, 154, 144, 214,215,115, 114, 113\n",
       "9   Hibernating customers  332, 322, 231, 241, 251, 233, 232, 223, 222, 1...\n",
       "10         Lost customers                         111, 112, 121, 131,141,151"
      ]
     },
     "execution_count": 14,
     "metadata": {},
     "output_type": "execute_result"
    }
   ],
   "source": [
    "rfm_score"
   ]
  },
  {
   "cell_type": "code",
   "execution_count": 15,
   "id": "374e73c7",
   "metadata": {},
   "outputs": [],
   "source": [
    "rfm_score = rfm_score['Scores'].str.split(',').explode().str.split(' ').explode().reset_index()\\\n",
    ".merge(rfm_score.reset_index()[['index','Segment']], on = 'index')"
   ]
  },
  {
   "cell_type": "code",
   "execution_count": 16,
   "id": "edc86e01",
   "metadata": {},
   "outputs": [],
   "source": [
    "rfm_score = rfm_score[rfm_score['Scores'] !='']"
   ]
  },
  {
   "cell_type": "code",
   "execution_count": 17,
   "id": "a78d2b3e",
   "metadata": {},
   "outputs": [],
   "source": [
    "rfm_score = rfm_score.drop_duplicates(subset='Scores')"
   ]
  },
  {
   "cell_type": "code",
   "execution_count": 18,
   "id": "0d74bec9",
   "metadata": {},
   "outputs": [
    {
     "data": {
      "text/html": [
       "<div>\n",
       "<style scoped>\n",
       "    .dataframe tbody tr th:only-of-type {\n",
       "        vertical-align: middle;\n",
       "    }\n",
       "\n",
       "    .dataframe tbody tr th {\n",
       "        vertical-align: top;\n",
       "    }\n",
       "\n",
       "    .dataframe thead th {\n",
       "        text-align: right;\n",
       "    }\n",
       "</style>\n",
       "<table border=\"1\" class=\"dataframe\">\n",
       "  <thead>\n",
       "    <tr style=\"text-align: right;\">\n",
       "      <th></th>\n",
       "      <th>index</th>\n",
       "      <th>Scores</th>\n",
       "      <th>Segment</th>\n",
       "    </tr>\n",
       "  </thead>\n",
       "  <tbody>\n",
       "    <tr>\n",
       "      <th>0</th>\n",
       "      <td>0</td>\n",
       "      <td>555</td>\n",
       "      <td>Champions</td>\n",
       "    </tr>\n",
       "    <tr>\n",
       "      <th>2</th>\n",
       "      <td>0</td>\n",
       "      <td>554</td>\n",
       "      <td>Champions</td>\n",
       "    </tr>\n",
       "    <tr>\n",
       "      <th>4</th>\n",
       "      <td>0</td>\n",
       "      <td>544</td>\n",
       "      <td>Champions</td>\n",
       "    </tr>\n",
       "    <tr>\n",
       "      <th>6</th>\n",
       "      <td>0</td>\n",
       "      <td>545</td>\n",
       "      <td>Champions</td>\n",
       "    </tr>\n",
       "    <tr>\n",
       "      <th>8</th>\n",
       "      <td>0</td>\n",
       "      <td>454</td>\n",
       "      <td>Champions</td>\n",
       "    </tr>\n",
       "  </tbody>\n",
       "</table>\n",
       "</div>"
      ],
      "text/plain": [
       "   index Scores    Segment\n",
       "0      0    555  Champions\n",
       "2      0    554  Champions\n",
       "4      0    544  Champions\n",
       "6      0    545  Champions\n",
       "8      0    454  Champions"
      ]
     },
     "execution_count": 18,
     "metadata": {},
     "output_type": "execute_result"
    }
   ],
   "source": [
    "rfm_score.head()"
   ]
  },
  {
   "cell_type": "markdown",
   "id": "8e881184",
   "metadata": {},
   "source": [
    "### 2-3 Customer Segmentation"
   ]
  },
  {
   "cell_type": "code",
   "execution_count": 19,
   "id": "34307c34",
   "metadata": {},
   "outputs": [],
   "source": [
    "RFM = customer_by_rfm_score.merge(rfm_score, left_on = 'RFM Score', right_on='Scores')"
   ]
  },
  {
   "cell_type": "code",
   "execution_count": 20,
   "id": "f4d9bf33",
   "metadata": {},
   "outputs": [
    {
     "data": {
      "text/html": [
       "<div>\n",
       "<style scoped>\n",
       "    .dataframe tbody tr th:only-of-type {\n",
       "        vertical-align: middle;\n",
       "    }\n",
       "\n",
       "    .dataframe tbody tr th {\n",
       "        vertical-align: top;\n",
       "    }\n",
       "\n",
       "    .dataframe thead th {\n",
       "        text-align: right;\n",
       "    }\n",
       "</style>\n",
       "<table border=\"1\" class=\"dataframe\">\n",
       "  <thead>\n",
       "    <tr style=\"text-align: right;\">\n",
       "      <th></th>\n",
       "      <th>customer_id</th>\n",
       "      <th>last_transaction_date</th>\n",
       "      <th>frequency</th>\n",
       "      <th>monetary</th>\n",
       "      <th>recency</th>\n",
       "      <th>R Score</th>\n",
       "      <th>F Score</th>\n",
       "      <th>M Score</th>\n",
       "      <th>RFM Score</th>\n",
       "      <th>index</th>\n",
       "      <th>Scores</th>\n",
       "      <th>Segment</th>\n",
       "    </tr>\n",
       "  </thead>\n",
       "  <tbody>\n",
       "    <tr>\n",
       "      <th>0</th>\n",
       "      <td>1</td>\n",
       "      <td>2017-12-23</td>\n",
       "      <td>11</td>\n",
       "      <td>9084.45</td>\n",
       "      <td>7 days</td>\n",
       "      <td>5</td>\n",
       "      <td>5</td>\n",
       "      <td>5</td>\n",
       "      <td>555</td>\n",
       "      <td>0</td>\n",
       "      <td>555</td>\n",
       "      <td>Champions</td>\n",
       "    </tr>\n",
       "    <tr>\n",
       "      <th>1</th>\n",
       "      <td>25</td>\n",
       "      <td>2017-12-25</td>\n",
       "      <td>12</td>\n",
       "      <td>9996.33</td>\n",
       "      <td>5 days</td>\n",
       "      <td>5</td>\n",
       "      <td>5</td>\n",
       "      <td>5</td>\n",
       "      <td>555</td>\n",
       "      <td>0</td>\n",
       "      <td>555</td>\n",
       "      <td>Champions</td>\n",
       "    </tr>\n",
       "    <tr>\n",
       "      <th>2</th>\n",
       "      <td>37</td>\n",
       "      <td>2017-12-23</td>\n",
       "      <td>9</td>\n",
       "      <td>11291.71</td>\n",
       "      <td>7 days</td>\n",
       "      <td>5</td>\n",
       "      <td>5</td>\n",
       "      <td>5</td>\n",
       "      <td>555</td>\n",
       "      <td>0</td>\n",
       "      <td>555</td>\n",
       "      <td>Champions</td>\n",
       "    </tr>\n",
       "    <tr>\n",
       "      <th>3</th>\n",
       "      <td>89</td>\n",
       "      <td>2017-12-26</td>\n",
       "      <td>9</td>\n",
       "      <td>12741.44</td>\n",
       "      <td>4 days</td>\n",
       "      <td>5</td>\n",
       "      <td>5</td>\n",
       "      <td>5</td>\n",
       "      <td>555</td>\n",
       "      <td>0</td>\n",
       "      <td>555</td>\n",
       "      <td>Champions</td>\n",
       "    </tr>\n",
       "    <tr>\n",
       "      <th>4</th>\n",
       "      <td>109</td>\n",
       "      <td>2017-12-22</td>\n",
       "      <td>10</td>\n",
       "      <td>10661.51</td>\n",
       "      <td>8 days</td>\n",
       "      <td>5</td>\n",
       "      <td>5</td>\n",
       "      <td>5</td>\n",
       "      <td>555</td>\n",
       "      <td>0</td>\n",
       "      <td>555</td>\n",
       "      <td>Champions</td>\n",
       "    </tr>\n",
       "  </tbody>\n",
       "</table>\n",
       "</div>"
      ],
      "text/plain": [
       "   customer_id last_transaction_date  frequency  monetary recency R Score  \\\n",
       "0            1            2017-12-23         11   9084.45  7 days       5   \n",
       "1           25            2017-12-25         12   9996.33  5 days       5   \n",
       "2           37            2017-12-23          9  11291.71  7 days       5   \n",
       "3           89            2017-12-26          9  12741.44  4 days       5   \n",
       "4          109            2017-12-22         10  10661.51  8 days       5   \n",
       "\n",
       "  F Score M Score RFM Score  index Scores    Segment  \n",
       "0       5       5       555      0    555  Champions  \n",
       "1       5       5       555      0    555  Champions  \n",
       "2       5       5       555      0    555  Champions  \n",
       "3       5       5       555      0    555  Champions  \n",
       "4       5       5       555      0    555  Champions  "
      ]
     },
     "execution_count": 20,
     "metadata": {},
     "output_type": "execute_result"
    }
   ],
   "source": [
    "RFM.head()"
   ]
  },
  {
   "cell_type": "code",
   "execution_count": 21,
   "id": "a7686621",
   "metadata": {},
   "outputs": [
    {
     "data": {
      "text/plain": [
       "Hibernating customers    563\n",
       "Champions                463\n",
       "New Customers            426\n",
       "At Risk                  411\n",
       "Loyal                    377\n",
       "Lost customers           365\n",
       "Potential Loyalist       277\n",
       "Need Attention           216\n",
       "Promising                195\n",
       "About To Sleep           114\n",
       "Cannot Lose Them          86\n",
       "Name: Segment, dtype: int64"
      ]
     },
     "execution_count": 21,
     "metadata": {},
     "output_type": "execute_result"
    }
   ],
   "source": [
    "RFM['Segment'].value_counts()"
   ]
  },
  {
   "cell_type": "markdown",
   "id": "da43b780",
   "metadata": {},
   "source": [
    "### 2-4 Customer Demographics"
   ]
  },
  {
   "cell_type": "code",
   "execution_count": 22,
   "id": "a38e7943",
   "metadata": {},
   "outputs": [],
   "source": [
    "demographic = CustomerDemographics.merge(CustomerAddresses, on=[\"customer_id\"])"
   ]
  },
  {
   "cell_type": "code",
   "execution_count": 23,
   "id": "aa68c9d2",
   "metadata": {},
   "outputs": [
    {
     "data": {
      "text/html": [
       "<div>\n",
       "<style scoped>\n",
       "    .dataframe tbody tr th:only-of-type {\n",
       "        vertical-align: middle;\n",
       "    }\n",
       "\n",
       "    .dataframe tbody tr th {\n",
       "        vertical-align: top;\n",
       "    }\n",
       "\n",
       "    .dataframe thead th {\n",
       "        text-align: right;\n",
       "    }\n",
       "</style>\n",
       "<table border=\"1\" class=\"dataframe\">\n",
       "  <thead>\n",
       "    <tr style=\"text-align: right;\">\n",
       "      <th></th>\n",
       "      <th>Unnamed: 0_x</th>\n",
       "      <th>customer_id</th>\n",
       "      <th>gender</th>\n",
       "      <th>past_3_years_bike_related_purchases</th>\n",
       "      <th>DOB</th>\n",
       "      <th>job_title</th>\n",
       "      <th>job_industry_category</th>\n",
       "      <th>wealth_segment</th>\n",
       "      <th>deceased_indicator</th>\n",
       "      <th>owns_car</th>\n",
       "      <th>tenure</th>\n",
       "      <th>age</th>\n",
       "      <th>Unnamed: 0_y</th>\n",
       "      <th>address</th>\n",
       "      <th>postcode</th>\n",
       "      <th>state</th>\n",
       "      <th>country</th>\n",
       "      <th>property_valuation</th>\n",
       "    </tr>\n",
       "  </thead>\n",
       "  <tbody>\n",
       "    <tr>\n",
       "      <th>0</th>\n",
       "      <td>0</td>\n",
       "      <td>1</td>\n",
       "      <td>Female</td>\n",
       "      <td>93</td>\n",
       "      <td>1953-10-12</td>\n",
       "      <td>Executive Secretary</td>\n",
       "      <td>Health</td>\n",
       "      <td>Mass Customer</td>\n",
       "      <td>N</td>\n",
       "      <td>Yes</td>\n",
       "      <td>11</td>\n",
       "      <td>64</td>\n",
       "      <td>0</td>\n",
       "      <td>060 Morning Avenue</td>\n",
       "      <td>2016</td>\n",
       "      <td>NSW</td>\n",
       "      <td>Australia</td>\n",
       "      <td>10</td>\n",
       "    </tr>\n",
       "    <tr>\n",
       "      <th>1</th>\n",
       "      <td>1</td>\n",
       "      <td>2</td>\n",
       "      <td>Male</td>\n",
       "      <td>81</td>\n",
       "      <td>1980-12-16</td>\n",
       "      <td>Administrative Officer</td>\n",
       "      <td>Financial Services</td>\n",
       "      <td>Mass Customer</td>\n",
       "      <td>N</td>\n",
       "      <td>Yes</td>\n",
       "      <td>16</td>\n",
       "      <td>37</td>\n",
       "      <td>1</td>\n",
       "      <td>6 Meadow Vale Court</td>\n",
       "      <td>2153</td>\n",
       "      <td>NSW</td>\n",
       "      <td>Australia</td>\n",
       "      <td>10</td>\n",
       "    </tr>\n",
       "    <tr>\n",
       "      <th>2</th>\n",
       "      <td>3</td>\n",
       "      <td>4</td>\n",
       "      <td>Male</td>\n",
       "      <td>33</td>\n",
       "      <td>1961-10-03</td>\n",
       "      <td>NaN</td>\n",
       "      <td>IT</td>\n",
       "      <td>Mass Customer</td>\n",
       "      <td>N</td>\n",
       "      <td>No</td>\n",
       "      <td>7</td>\n",
       "      <td>56</td>\n",
       "      <td>2</td>\n",
       "      <td>0 Holy Cross Court</td>\n",
       "      <td>4211</td>\n",
       "      <td>QLD</td>\n",
       "      <td>Australia</td>\n",
       "      <td>9</td>\n",
       "    </tr>\n",
       "    <tr>\n",
       "      <th>3</th>\n",
       "      <td>4</td>\n",
       "      <td>5</td>\n",
       "      <td>Female</td>\n",
       "      <td>56</td>\n",
       "      <td>1977-05-13</td>\n",
       "      <td>Senior Editor</td>\n",
       "      <td>NaN</td>\n",
       "      <td>Affluent Customer</td>\n",
       "      <td>N</td>\n",
       "      <td>Yes</td>\n",
       "      <td>8</td>\n",
       "      <td>40</td>\n",
       "      <td>3</td>\n",
       "      <td>17979 Del Mar Point</td>\n",
       "      <td>2448</td>\n",
       "      <td>NSW</td>\n",
       "      <td>Australia</td>\n",
       "      <td>4</td>\n",
       "    </tr>\n",
       "    <tr>\n",
       "      <th>4</th>\n",
       "      <td>5</td>\n",
       "      <td>6</td>\n",
       "      <td>Male</td>\n",
       "      <td>35</td>\n",
       "      <td>1966-09-16</td>\n",
       "      <td>NaN</td>\n",
       "      <td>Retail</td>\n",
       "      <td>High Net Worth</td>\n",
       "      <td>N</td>\n",
       "      <td>Yes</td>\n",
       "      <td>13</td>\n",
       "      <td>51</td>\n",
       "      <td>4</td>\n",
       "      <td>9 Oakridge Court</td>\n",
       "      <td>3216</td>\n",
       "      <td>VIC</td>\n",
       "      <td>Australia</td>\n",
       "      <td>9</td>\n",
       "    </tr>\n",
       "  </tbody>\n",
       "</table>\n",
       "</div>"
      ],
      "text/plain": [
       "   Unnamed: 0_x  customer_id  gender  past_3_years_bike_related_purchases  \\\n",
       "0             0            1  Female                                   93   \n",
       "1             1            2    Male                                   81   \n",
       "2             3            4    Male                                   33   \n",
       "3             4            5  Female                                   56   \n",
       "4             5            6    Male                                   35   \n",
       "\n",
       "          DOB               job_title job_industry_category  \\\n",
       "0  1953-10-12     Executive Secretary                Health   \n",
       "1  1980-12-16  Administrative Officer    Financial Services   \n",
       "2  1961-10-03                     NaN                    IT   \n",
       "3  1977-05-13           Senior Editor                   NaN   \n",
       "4  1966-09-16                     NaN                Retail   \n",
       "\n",
       "      wealth_segment deceased_indicator owns_car  tenure  age  Unnamed: 0_y  \\\n",
       "0      Mass Customer                  N      Yes      11   64             0   \n",
       "1      Mass Customer                  N      Yes      16   37             1   \n",
       "2      Mass Customer                  N       No       7   56             2   \n",
       "3  Affluent Customer                  N      Yes       8   40             3   \n",
       "4     High Net Worth                  N      Yes      13   51             4   \n",
       "\n",
       "               address  postcode state    country  property_valuation  \n",
       "0   060 Morning Avenue      2016   NSW  Australia                  10  \n",
       "1  6 Meadow Vale Court      2153   NSW  Australia                  10  \n",
       "2   0 Holy Cross Court      4211   QLD  Australia                   9  \n",
       "3  17979 Del Mar Point      2448   NSW  Australia                   4  \n",
       "4     9 Oakridge Court      3216   VIC  Australia                   9  "
      ]
     },
     "execution_count": 23,
     "metadata": {},
     "output_type": "execute_result"
    }
   ],
   "source": [
    "demographic.head()"
   ]
  },
  {
   "cell_type": "markdown",
   "id": "d4835931-eb3f-4a68-be7c-8ecfd9dc1bd3",
   "metadata": {},
   "source": [
    "### 2-5 High value lead"
   ]
  },
  {
   "cell_type": "code",
   "execution_count": 24,
   "id": "7403eb5b",
   "metadata": {},
   "outputs": [],
   "source": [
    "high_lead_val = [\"Champions\",\"Loyal\", \"Potential Loyalist\"]\n",
    "\n",
    "RFM['high_val_lead'] = RFM['Segment'].apply(lambda x: 1 if x in high_lead_val else 0)"
   ]
  },
  {
   "cell_type": "code",
   "execution_count": 25,
   "id": "f5e1bfd8",
   "metadata": {},
   "outputs": [
    {
     "data": {
      "text/html": [
       "<div>\n",
       "<style scoped>\n",
       "    .dataframe tbody tr th:only-of-type {\n",
       "        vertical-align: middle;\n",
       "    }\n",
       "\n",
       "    .dataframe tbody tr th {\n",
       "        vertical-align: top;\n",
       "    }\n",
       "\n",
       "    .dataframe thead th {\n",
       "        text-align: right;\n",
       "    }\n",
       "</style>\n",
       "<table border=\"1\" class=\"dataframe\">\n",
       "  <thead>\n",
       "    <tr style=\"text-align: right;\">\n",
       "      <th></th>\n",
       "      <th>customer_id</th>\n",
       "      <th>last_transaction_date</th>\n",
       "      <th>frequency</th>\n",
       "      <th>monetary</th>\n",
       "      <th>recency</th>\n",
       "      <th>R Score</th>\n",
       "      <th>F Score</th>\n",
       "      <th>M Score</th>\n",
       "      <th>RFM Score</th>\n",
       "      <th>index</th>\n",
       "      <th>Scores</th>\n",
       "      <th>Segment</th>\n",
       "      <th>high_val_lead</th>\n",
       "    </tr>\n",
       "  </thead>\n",
       "  <tbody>\n",
       "    <tr>\n",
       "      <th>0</th>\n",
       "      <td>1</td>\n",
       "      <td>2017-12-23</td>\n",
       "      <td>11</td>\n",
       "      <td>9084.45</td>\n",
       "      <td>7 days</td>\n",
       "      <td>5</td>\n",
       "      <td>5</td>\n",
       "      <td>5</td>\n",
       "      <td>555</td>\n",
       "      <td>0</td>\n",
       "      <td>555</td>\n",
       "      <td>Champions</td>\n",
       "      <td>1</td>\n",
       "    </tr>\n",
       "    <tr>\n",
       "      <th>1</th>\n",
       "      <td>25</td>\n",
       "      <td>2017-12-25</td>\n",
       "      <td>12</td>\n",
       "      <td>9996.33</td>\n",
       "      <td>5 days</td>\n",
       "      <td>5</td>\n",
       "      <td>5</td>\n",
       "      <td>5</td>\n",
       "      <td>555</td>\n",
       "      <td>0</td>\n",
       "      <td>555</td>\n",
       "      <td>Champions</td>\n",
       "      <td>1</td>\n",
       "    </tr>\n",
       "    <tr>\n",
       "      <th>2</th>\n",
       "      <td>37</td>\n",
       "      <td>2017-12-23</td>\n",
       "      <td>9</td>\n",
       "      <td>11291.71</td>\n",
       "      <td>7 days</td>\n",
       "      <td>5</td>\n",
       "      <td>5</td>\n",
       "      <td>5</td>\n",
       "      <td>555</td>\n",
       "      <td>0</td>\n",
       "      <td>555</td>\n",
       "      <td>Champions</td>\n",
       "      <td>1</td>\n",
       "    </tr>\n",
       "    <tr>\n",
       "      <th>3</th>\n",
       "      <td>89</td>\n",
       "      <td>2017-12-26</td>\n",
       "      <td>9</td>\n",
       "      <td>12741.44</td>\n",
       "      <td>4 days</td>\n",
       "      <td>5</td>\n",
       "      <td>5</td>\n",
       "      <td>5</td>\n",
       "      <td>555</td>\n",
       "      <td>0</td>\n",
       "      <td>555</td>\n",
       "      <td>Champions</td>\n",
       "      <td>1</td>\n",
       "    </tr>\n",
       "    <tr>\n",
       "      <th>4</th>\n",
       "      <td>109</td>\n",
       "      <td>2017-12-22</td>\n",
       "      <td>10</td>\n",
       "      <td>10661.51</td>\n",
       "      <td>8 days</td>\n",
       "      <td>5</td>\n",
       "      <td>5</td>\n",
       "      <td>5</td>\n",
       "      <td>555</td>\n",
       "      <td>0</td>\n",
       "      <td>555</td>\n",
       "      <td>Champions</td>\n",
       "      <td>1</td>\n",
       "    </tr>\n",
       "  </tbody>\n",
       "</table>\n",
       "</div>"
      ],
      "text/plain": [
       "   customer_id last_transaction_date  frequency  monetary recency R Score  \\\n",
       "0            1            2017-12-23         11   9084.45  7 days       5   \n",
       "1           25            2017-12-25         12   9996.33  5 days       5   \n",
       "2           37            2017-12-23          9  11291.71  7 days       5   \n",
       "3           89            2017-12-26          9  12741.44  4 days       5   \n",
       "4          109            2017-12-22         10  10661.51  8 days       5   \n",
       "\n",
       "  F Score M Score RFM Score  index Scores    Segment  high_val_lead  \n",
       "0       5       5       555      0    555  Champions              1  \n",
       "1       5       5       555      0    555  Champions              1  \n",
       "2       5       5       555      0    555  Champions              1  \n",
       "3       5       5       555      0    555  Champions              1  \n",
       "4       5       5       555      0    555  Champions              1  "
      ]
     },
     "execution_count": 25,
     "metadata": {},
     "output_type": "execute_result"
    }
   ],
   "source": [
    "RFM.head()"
   ]
  },
  {
   "cell_type": "code",
   "execution_count": 26,
   "id": "134f19b7-5450-4b5e-822b-4b1026edb520",
   "metadata": {},
   "outputs": [
    {
     "data": {
      "text/plain": [
       "0    2376\n",
       "1    1117\n",
       "Name: high_val_lead, dtype: int64"
      ]
     },
     "execution_count": 26,
     "metadata": {},
     "output_type": "execute_result"
    }
   ],
   "source": [
    "RFM['high_val_lead'].value_counts()"
   ]
  },
  {
   "cell_type": "markdown",
   "id": "b9688288-4468-4bf4-b7f7-d0337bdf4a31",
   "metadata": {
    "tags": []
   },
   "source": [
    "### 2-6 Merge Customer Demographics with Segment"
   ]
  },
  {
   "cell_type": "code",
   "execution_count": 27,
   "id": "0e3a8181",
   "metadata": {},
   "outputs": [],
   "source": [
    "RFM = RFM[['customer_id', 'high_val_lead']]"
   ]
  },
  {
   "cell_type": "code",
   "execution_count": 28,
   "id": "f47a1829-49ff-48b3-98d3-5df5381fbd8a",
   "metadata": {},
   "outputs": [],
   "source": [
    "RFM_demographic = RFM.merge(demographic, on = [\"customer_id\"])"
   ]
  },
  {
   "cell_type": "code",
   "execution_count": 29,
   "id": "54dea744",
   "metadata": {},
   "outputs": [
    {
     "name": "stdout",
     "output_type": "stream",
     "text": [
      "<class 'pandas.core.frame.DataFrame'>\n",
      "Int64Index: 3412 entries, 0 to 3411\n",
      "Data columns (total 19 columns):\n",
      " #   Column                               Non-Null Count  Dtype \n",
      "---  ------                               --------------  ----- \n",
      " 0   customer_id                          3412 non-null   int64 \n",
      " 1   high_val_lead                        3412 non-null   int64 \n",
      " 2   Unnamed: 0_x                         3412 non-null   int64 \n",
      " 3   gender                               3412 non-null   object\n",
      " 4   past_3_years_bike_related_purchases  3412 non-null   int64 \n",
      " 5   DOB                                  3412 non-null   object\n",
      " 6   job_title                            2997 non-null   object\n",
      " 7   job_industry_category                2852 non-null   object\n",
      " 8   wealth_segment                       3412 non-null   object\n",
      " 9   deceased_indicator                   3412 non-null   object\n",
      " 10  owns_car                             3412 non-null   object\n",
      " 11  tenure                               3412 non-null   int64 \n",
      " 12  age                                  3412 non-null   int64 \n",
      " 13  Unnamed: 0_y                         3412 non-null   int64 \n",
      " 14  address                              3412 non-null   object\n",
      " 15  postcode                             3412 non-null   int64 \n",
      " 16  state                                3412 non-null   object\n",
      " 17  country                              3412 non-null   object\n",
      " 18  property_valuation                   3412 non-null   int64 \n",
      "dtypes: int64(9), object(10)\n",
      "memory usage: 533.1+ KB\n"
     ]
    }
   ],
   "source": [
    "RFM_demographic.info()"
   ]
  },
  {
   "cell_type": "markdown",
   "id": "e8b66ef1-4d96-494f-b56c-5a8618d06a6b",
   "metadata": {},
   "source": [
    "### 2-7 Data Preparation "
   ]
  },
  {
   "cell_type": "code",
   "execution_count": 30,
   "id": "28e11ea7",
   "metadata": {},
   "outputs": [],
   "source": [
    "RFM_demographic = RFM_demographic[['past_3_years_bike_related_purchases', 'tenure', 'property_valuation' , 'age', \\\n",
    "                                   'gender', 'wealth_segment', 'owns_car', 'state', 'high_val_lead']]"
   ]
  },
  {
   "cell_type": "code",
   "execution_count": 31,
   "id": "e22ef1d7",
   "metadata": {},
   "outputs": [
    {
     "data": {
      "text/html": [
       "<div>\n",
       "<style scoped>\n",
       "    .dataframe tbody tr th:only-of-type {\n",
       "        vertical-align: middle;\n",
       "    }\n",
       "\n",
       "    .dataframe tbody tr th {\n",
       "        vertical-align: top;\n",
       "    }\n",
       "\n",
       "    .dataframe thead th {\n",
       "        text-align: right;\n",
       "    }\n",
       "</style>\n",
       "<table border=\"1\" class=\"dataframe\">\n",
       "  <thead>\n",
       "    <tr style=\"text-align: right;\">\n",
       "      <th></th>\n",
       "      <th>past_3_years_bike_related_purchases</th>\n",
       "      <th>tenure</th>\n",
       "      <th>property_valuation</th>\n",
       "      <th>age</th>\n",
       "      <th>gender</th>\n",
       "      <th>wealth_segment</th>\n",
       "      <th>owns_car</th>\n",
       "      <th>state</th>\n",
       "      <th>high_val_lead</th>\n",
       "    </tr>\n",
       "  </thead>\n",
       "  <tbody>\n",
       "    <tr>\n",
       "      <th>0</th>\n",
       "      <td>93</td>\n",
       "      <td>11</td>\n",
       "      <td>10</td>\n",
       "      <td>64</td>\n",
       "      <td>Female</td>\n",
       "      <td>Mass Customer</td>\n",
       "      <td>Yes</td>\n",
       "      <td>NSW</td>\n",
       "      <td>1</td>\n",
       "    </tr>\n",
       "    <tr>\n",
       "      <th>1</th>\n",
       "      <td>72</td>\n",
       "      <td>21</td>\n",
       "      <td>3</td>\n",
       "      <td>41</td>\n",
       "      <td>Male</td>\n",
       "      <td>Mass Customer</td>\n",
       "      <td>Yes</td>\n",
       "      <td>QLD</td>\n",
       "      <td>1</td>\n",
       "    </tr>\n",
       "    <tr>\n",
       "      <th>2</th>\n",
       "      <td>46</td>\n",
       "      <td>16</td>\n",
       "      <td>1</td>\n",
       "      <td>32</td>\n",
       "      <td>Female</td>\n",
       "      <td>High Net Worth</td>\n",
       "      <td>No</td>\n",
       "      <td>QLD</td>\n",
       "      <td>1</td>\n",
       "    </tr>\n",
       "    <tr>\n",
       "      <th>3</th>\n",
       "      <td>74</td>\n",
       "      <td>14</td>\n",
       "      <td>11</td>\n",
       "      <td>50</td>\n",
       "      <td>Male</td>\n",
       "      <td>Mass Customer</td>\n",
       "      <td>Yes</td>\n",
       "      <td>NSW</td>\n",
       "      <td>1</td>\n",
       "    </tr>\n",
       "    <tr>\n",
       "      <th>4</th>\n",
       "      <td>16</td>\n",
       "      <td>4</td>\n",
       "      <td>11</td>\n",
       "      <td>39</td>\n",
       "      <td>Male</td>\n",
       "      <td>Affluent Customer</td>\n",
       "      <td>Yes</td>\n",
       "      <td>NSW</td>\n",
       "      <td>1</td>\n",
       "    </tr>\n",
       "  </tbody>\n",
       "</table>\n",
       "</div>"
      ],
      "text/plain": [
       "   past_3_years_bike_related_purchases  tenure  property_valuation  age  \\\n",
       "0                                   93      11                  10   64   \n",
       "1                                   72      21                   3   41   \n",
       "2                                   46      16                   1   32   \n",
       "3                                   74      14                  11   50   \n",
       "4                                   16       4                  11   39   \n",
       "\n",
       "   gender     wealth_segment owns_car state  high_val_lead  \n",
       "0  Female      Mass Customer      Yes   NSW              1  \n",
       "1    Male      Mass Customer      Yes   QLD              1  \n",
       "2  Female     High Net Worth       No   QLD              1  \n",
       "3    Male      Mass Customer      Yes   NSW              1  \n",
       "4    Male  Affluent Customer      Yes   NSW              1  "
      ]
     },
     "execution_count": 31,
     "metadata": {},
     "output_type": "execute_result"
    }
   ],
   "source": [
    "RFM_demographic.head()"
   ]
  },
  {
   "cell_type": "code",
   "execution_count": 32,
   "id": "98ac9910-b1af-43ff-bad5-619bca013ab6",
   "metadata": {},
   "outputs": [],
   "source": [
    "features = RFM_demographic.drop(axis=1, columns=['high_val_lead'])\n",
    "y = RFM_demographic['high_val_lead']"
   ]
  },
  {
   "cell_type": "code",
   "execution_count": 33,
   "id": "d83d3330-0318-466a-adc2-60bb2889b731",
   "metadata": {},
   "outputs": [
    {
     "data": {
      "text/html": [
       "<div>\n",
       "<style scoped>\n",
       "    .dataframe tbody tr th:only-of-type {\n",
       "        vertical-align: middle;\n",
       "    }\n",
       "\n",
       "    .dataframe tbody tr th {\n",
       "        vertical-align: top;\n",
       "    }\n",
       "\n",
       "    .dataframe thead th {\n",
       "        text-align: right;\n",
       "    }\n",
       "</style>\n",
       "<table border=\"1\" class=\"dataframe\">\n",
       "  <thead>\n",
       "    <tr style=\"text-align: right;\">\n",
       "      <th></th>\n",
       "      <th>past_3_years_bike_related_purchases</th>\n",
       "      <th>tenure</th>\n",
       "      <th>property_valuation</th>\n",
       "      <th>age</th>\n",
       "      <th>gender_Male</th>\n",
       "      <th>gender_U</th>\n",
       "      <th>wealth_segment_High Net Worth</th>\n",
       "      <th>wealth_segment_Mass Customer</th>\n",
       "      <th>owns_car_Yes</th>\n",
       "      <th>state_QLD</th>\n",
       "      <th>state_VIC</th>\n",
       "    </tr>\n",
       "  </thead>\n",
       "  <tbody>\n",
       "    <tr>\n",
       "      <th>0</th>\n",
       "      <td>93</td>\n",
       "      <td>11</td>\n",
       "      <td>10</td>\n",
       "      <td>64</td>\n",
       "      <td>0</td>\n",
       "      <td>0</td>\n",
       "      <td>0</td>\n",
       "      <td>1</td>\n",
       "      <td>1</td>\n",
       "      <td>0</td>\n",
       "      <td>0</td>\n",
       "    </tr>\n",
       "    <tr>\n",
       "      <th>1</th>\n",
       "      <td>72</td>\n",
       "      <td>21</td>\n",
       "      <td>3</td>\n",
       "      <td>41</td>\n",
       "      <td>1</td>\n",
       "      <td>0</td>\n",
       "      <td>0</td>\n",
       "      <td>1</td>\n",
       "      <td>1</td>\n",
       "      <td>1</td>\n",
       "      <td>0</td>\n",
       "    </tr>\n",
       "    <tr>\n",
       "      <th>2</th>\n",
       "      <td>46</td>\n",
       "      <td>16</td>\n",
       "      <td>1</td>\n",
       "      <td>32</td>\n",
       "      <td>0</td>\n",
       "      <td>0</td>\n",
       "      <td>1</td>\n",
       "      <td>0</td>\n",
       "      <td>0</td>\n",
       "      <td>1</td>\n",
       "      <td>0</td>\n",
       "    </tr>\n",
       "    <tr>\n",
       "      <th>3</th>\n",
       "      <td>74</td>\n",
       "      <td>14</td>\n",
       "      <td>11</td>\n",
       "      <td>50</td>\n",
       "      <td>1</td>\n",
       "      <td>0</td>\n",
       "      <td>0</td>\n",
       "      <td>1</td>\n",
       "      <td>1</td>\n",
       "      <td>0</td>\n",
       "      <td>0</td>\n",
       "    </tr>\n",
       "    <tr>\n",
       "      <th>4</th>\n",
       "      <td>16</td>\n",
       "      <td>4</td>\n",
       "      <td>11</td>\n",
       "      <td>39</td>\n",
       "      <td>1</td>\n",
       "      <td>0</td>\n",
       "      <td>0</td>\n",
       "      <td>0</td>\n",
       "      <td>1</td>\n",
       "      <td>0</td>\n",
       "      <td>0</td>\n",
       "    </tr>\n",
       "  </tbody>\n",
       "</table>\n",
       "</div>"
      ],
      "text/plain": [
       "   past_3_years_bike_related_purchases  tenure  property_valuation  age  \\\n",
       "0                                   93      11                  10   64   \n",
       "1                                   72      21                   3   41   \n",
       "2                                   46      16                   1   32   \n",
       "3                                   74      14                  11   50   \n",
       "4                                   16       4                  11   39   \n",
       "\n",
       "   gender_Male  gender_U  wealth_segment_High Net Worth  \\\n",
       "0            0         0                              0   \n",
       "1            1         0                              0   \n",
       "2            0         0                              1   \n",
       "3            1         0                              0   \n",
       "4            1         0                              0   \n",
       "\n",
       "   wealth_segment_Mass Customer  owns_car_Yes  state_QLD  state_VIC  \n",
       "0                             1             1          0          0  \n",
       "1                             1             1          1          0  \n",
       "2                             0             0          1          0  \n",
       "3                             1             1          0          0  \n",
       "4                             0             1          0          0  "
      ]
     },
     "execution_count": 33,
     "metadata": {},
     "output_type": "execute_result"
    }
   ],
   "source": [
    "features = pd.get_dummies(features, drop_first=True)\n",
    "features.head()"
   ]
  },
  {
   "cell_type": "code",
   "execution_count": 34,
   "id": "6d618b93-f7c6-4743-be52-4557ae7084ff",
   "metadata": {},
   "outputs": [],
   "source": [
    "features_name = features.columns.to_list()"
   ]
  },
  {
   "cell_type": "code",
   "execution_count": 35,
   "id": "0d9e48e7-914e-476b-b23f-f2ea6ad8a1e7",
   "metadata": {},
   "outputs": [],
   "source": [
    "features_cat = features.iloc[:,4:]\n",
    "features_num = features.iloc[:,:4]"
   ]
  },
  {
   "cell_type": "code",
   "execution_count": 36,
   "id": "eeac0d15-19b8-4af9-8e47-318e7dcaa3f7",
   "metadata": {},
   "outputs": [],
   "source": [
    "X_num = features_num.values\n",
    "X_cat = features_cat.values"
   ]
  },
  {
   "cell_type": "code",
   "execution_count": 37,
   "id": "62db397b-69a0-4780-bef4-6ed64783e696",
   "metadata": {},
   "outputs": [],
   "source": [
    "from sklearn.preprocessing import StandardScaler\n",
    "scaler = StandardScaler()"
   ]
  },
  {
   "cell_type": "code",
   "execution_count": 38,
   "id": "9173499a-5aa8-4b80-afbf-595148c33855",
   "metadata": {},
   "outputs": [],
   "source": [
    "X_num = scaler.fit_transform(X_num)\n",
    "X = np.concatenate((X_cat, X_num), axis=1)"
   ]
  },
  {
   "cell_type": "markdown",
   "id": "6192bae2-d1b3-48a1-ac07-54d420889428",
   "metadata": {
    "tags": []
   },
   "source": [
    "## 3 Model Development\n",
    "### 3-1 Train Validation Test Split"
   ]
  },
  {
   "cell_type": "code",
   "execution_count": 39,
   "id": "508ef4cf-1192-4903-9ed1-74ce25862b28",
   "metadata": {},
   "outputs": [],
   "source": [
    "from sklearn.model_selection import train_test_split\n",
    "\n",
    "X_train, X_test, y_train, y_test = train_test_split(X, y, test_size=0.2, random_state=28)\n",
    "\n",
    "X_train, X_val, y_train, y_val = train_test_split(X_train, y_train, test_size=0.25, random_state=28)"
   ]
  },
  {
   "cell_type": "markdown",
   "id": "d53a1954",
   "metadata": {},
   "source": [
    "### 3-2 Define Functions"
   ]
  },
  {
   "cell_type": "code",
   "execution_count": 40,
   "id": "fbca12a3",
   "metadata": {},
   "outputs": [],
   "source": [
    "from sklearn.metrics import confusion_matrix, accuracy_score, precision_score, recall_score, f1_score\n",
    "\n",
    "def scores(y_val, y_pred):\n",
    "    cm = confusion_matrix(y_val, y_pred)\n",
    "    tn, fp, fn, tp = cm.ravel()\n",
    "    accuracy = accuracy_score(y_val, y_pred)\n",
    "    precision = precision_score(y_val, y_pred)\n",
    "    recall = recall_score(y_val, y_pred)\n",
    "    specificity = tn / (tn + fp) if (tn + fp) != 0 else 0  # Avoid division by zero\n",
    "    f1 = f1_score(y_val, y_pred)\n",
    "\n",
    "    # Print the calculated metrics\n",
    "    print(\"Accuracy:\", accuracy)\n",
    "    print(\"Precision:\", precision)\n",
    "    print(\"Recall (Sensitivity):\", recall)\n",
    "    print(\"Specificity:\", specificity)\n",
    "    print(\"F1-Score:\", f1)"
   ]
  },
  {
   "cell_type": "code",
   "execution_count": 41,
   "id": "7bf5fbc1",
   "metadata": {},
   "outputs": [],
   "source": [
    "from sklearn.metrics import classification_report, confusion_matrix,ConfusionMatrixDisplay\n",
    "\n",
    "def confusion_matrix_(y_val,y_pred):\n",
    "    confusion_matrix_ = confusion_matrix(y_val,y_pred)\n",
    "    cm_display = ConfusionMatrixDisplay(confusion_matrix = confusion_matrix_, display_labels = [False, True])\n",
    "    cm_display.plot()\n",
    "    plt.show()"
   ]
  },
  {
   "cell_type": "markdown",
   "id": "68c1c063-c0e5-487e-9f2b-45e2a7c40f43",
   "metadata": {},
   "source": [
    "### 3-3 Model Selection"
   ]
  },
  {
   "cell_type": "code",
   "execution_count": 42,
   "id": "482bc10f-87b9-418d-84e7-cbac49befcd0",
   "metadata": {},
   "outputs": [],
   "source": [
    "from sklearn.linear_model import LogisticRegression\n",
    "from sklearn.naive_bayes import GaussianNB\n",
    "from sklearn.tree import DecisionTreeClassifier\n",
    "from sklearn.neighbors import KNeighborsClassifier\n",
    "from sklearn.svm import SVC\n",
    "from sklearn.ensemble import RandomForestClassifier, GradientBoostingClassifier\n",
    "from xgboost import XGBClassifier\n",
    "from sklearn.model_selection import train_test_split"
   ]
  },
  {
   "cell_type": "code",
   "execution_count": 43,
   "id": "65f9089c-6097-49a4-be17-d0fabd8e4022",
   "metadata": {},
   "outputs": [],
   "source": [
    "# Initialize the models\n",
    "models = {\n",
    "    'LogisticRegression': LogisticRegression(max_iter=1000,random_state=28),\n",
    "    'GaussianNB': GaussianNB(),\n",
    "    'DecisionTreeClassifier': DecisionTreeClassifier(random_state=28),\n",
    "    'KNeighborsClassifier': KNeighborsClassifier(),\n",
    "    'SVC': SVC(random_state=28),\n",
    "    'RandomForestClassifier': RandomForestClassifier(random_state=28),\n",
    "    'GradientBoostingClassifier': GradientBoostingClassifier(random_state=28),\n",
    "    'XGBClassifier': XGBClassifier(random_state=28)\n",
    "}"
   ]
  },
  {
   "cell_type": "code",
   "execution_count": 44,
   "id": "ea346dec-50e5-499a-9302-a92c874e3ec9",
   "metadata": {},
   "outputs": [],
   "source": [
    "# Dictionary to store results\n",
    "results = {\n",
    "    'Model': [],\n",
    "    'Accuracy': [],\n",
    "    'Precision': [],\n",
    "    'Recall': [],\n",
    "    'Specificity': [],\n",
    "    'F1 Score': [],\n",
    "    'fp':[],\n",
    "    'tp':[],\n",
    "    'tn':[],\n",
    "    'fn':[],\n",
    "}"
   ]
  },
  {
   "cell_type": "code",
   "execution_count": 45,
   "id": "a762c5b8-b7d6-475b-a137-5e441a3fa76f",
   "metadata": {
    "tags": []
   },
   "outputs": [
    {
     "name": "stderr",
     "output_type": "stream",
     "text": [
      "C:\\Users\\Chieng Bao Qing\\anaconda3\\lib\\site-packages\\sklearn\\metrics\\_classification.py:1318: UndefinedMetricWarning: Precision is ill-defined and being set to 0.0 due to no predicted samples. Use `zero_division` parameter to control this behavior.\n",
      "  _warn_prf(average, modifier, msg_start, len(result))\n",
      "C:\\Users\\Chieng Bao Qing\\anaconda3\\lib\\site-packages\\sklearn\\neighbors\\_classification.py:228: FutureWarning: Unlike other reduction functions (e.g. `skew`, `kurtosis`), the default behavior of `mode` typically preserves the axis it acts along. In SciPy 1.11.0, this behavior will change: the default value of `keepdims` will become False, the `axis` over which the statistic is taken will be eliminated, and the value None will no longer be accepted. Set `keepdims` to True or False to avoid this warning.\n",
      "  mode, _ = stats.mode(_y[neigh_ind, k], axis=1)\n",
      "C:\\Users\\Chieng Bao Qing\\anaconda3\\lib\\site-packages\\sklearn\\metrics\\_classification.py:1318: UndefinedMetricWarning: Precision is ill-defined and being set to 0.0 due to no predicted samples. Use `zero_division` parameter to control this behavior.\n",
      "  _warn_prf(average, modifier, msg_start, len(result))\n"
     ]
    }
   ],
   "source": [
    "for model_name, model in models.items():\n",
    "        X_train, X_test, y_train, y_test = train_test_split(X, y, test_size=0.2, random_state=28)\n",
    "        X_train, X_val, y_train, y_val = train_test_split(X_train, y_train, test_size=0.25, random_state=28)\n",
    "        model.fit(X_train, y_train)\n",
    "        y_pred = model.predict(X_val)\n",
    "            \n",
    "        cm = confusion_matrix(y_val, y_pred)\n",
    "        tn, fp, fn, tp = cm.ravel()\n",
    "        accuracy = accuracy_score(y_val, y_pred)\n",
    "        precision = precision_score(y_val, y_pred)\n",
    "        recall = recall_score(y_val, y_pred)\n",
    "        specificity = tn / (tn + fp) if (tn + fp) != 0 else 0\n",
    "        f1 = f1_score(y_val, y_pred)\n",
    "            \n",
    "        results['Model'].append(model_name)\n",
    "        results['Accuracy'].append(accuracy)\n",
    "        results['Precision'].append(precision)\n",
    "        results['Recall'].append(recall)\n",
    "        results['Specificity'].append(specificity)\n",
    "        results['F1 Score'].append(f1)\n",
    "        results['fp'].append(fp)\n",
    "        results['tp'].append(tp)\n",
    "        results['tn'].append(tn)\n",
    "        results['fn'].append(fn)\n",
    "\n",
    "\n",
    "# Create a DataFrame from the results dictionary\n",
    "results_df = pd.DataFrame(results)"
   ]
  },
  {
   "cell_type": "code",
   "execution_count": 46,
   "id": "099bbc7f-071e-41c4-bad1-0e932ebec931",
   "metadata": {},
   "outputs": [
    {
     "data": {
      "text/html": [
       "<style type=\"text/css\">\n",
       "#T_f6a3a th {\n",
       "  background-color: darkblue;\n",
       "  color: white;\n",
       "}\n",
       "#T_f6a3a_row0_col8, #T_f6a3a_row0_col9, #T_f6a3a_row6_col6, #T_f6a3a_row6_col7, #T_f6a3a_row7_col6, #T_f6a3a_row7_col7 {\n",
       "  background-color: red;\n",
       "}\n",
       "</style>\n",
       "<table id=\"T_f6a3a\">\n",
       "  <thead>\n",
       "    <tr>\n",
       "      <th class=\"blank level0\" >&nbsp;</th>\n",
       "      <th id=\"T_f6a3a_level0_col0\" class=\"col_heading level0 col0\" >Model</th>\n",
       "      <th id=\"T_f6a3a_level0_col1\" class=\"col_heading level0 col1\" >Accuracy</th>\n",
       "      <th id=\"T_f6a3a_level0_col2\" class=\"col_heading level0 col2\" >Precision</th>\n",
       "      <th id=\"T_f6a3a_level0_col3\" class=\"col_heading level0 col3\" >Recall</th>\n",
       "      <th id=\"T_f6a3a_level0_col4\" class=\"col_heading level0 col4\" >Specificity</th>\n",
       "      <th id=\"T_f6a3a_level0_col5\" class=\"col_heading level0 col5\" >F1 Score</th>\n",
       "      <th id=\"T_f6a3a_level0_col6\" class=\"col_heading level0 col6\" >fp</th>\n",
       "      <th id=\"T_f6a3a_level0_col7\" class=\"col_heading level0 col7\" >tp</th>\n",
       "      <th id=\"T_f6a3a_level0_col8\" class=\"col_heading level0 col8\" >tn</th>\n",
       "      <th id=\"T_f6a3a_level0_col9\" class=\"col_heading level0 col9\" >fn</th>\n",
       "    </tr>\n",
       "  </thead>\n",
       "  <tbody>\n",
       "    <tr>\n",
       "      <th id=\"T_f6a3a_level0_row0\" class=\"row_heading level0 row0\" >1</th>\n",
       "      <td id=\"T_f6a3a_row0_col0\" class=\"data row0 col0\" >GaussianNB</td>\n",
       "      <td id=\"T_f6a3a_row0_col1\" class=\"data row0 col1\" >0.303075</td>\n",
       "      <td id=\"T_f6a3a_row0_col2\" class=\"data row0 col2\" >0.303075</td>\n",
       "      <td id=\"T_f6a3a_row0_col3\" class=\"data row0 col3\" >1.000000</td>\n",
       "      <td id=\"T_f6a3a_row0_col4\" class=\"data row0 col4\" >0.000000</td>\n",
       "      <td id=\"T_f6a3a_row0_col5\" class=\"data row0 col5\" >0.465169</td>\n",
       "      <td id=\"T_f6a3a_row0_col6\" class=\"data row0 col6\" >476</td>\n",
       "      <td id=\"T_f6a3a_row0_col7\" class=\"data row0 col7\" >207</td>\n",
       "      <td id=\"T_f6a3a_row0_col8\" class=\"data row0 col8\" >0</td>\n",
       "      <td id=\"T_f6a3a_row0_col9\" class=\"data row0 col9\" >0</td>\n",
       "    </tr>\n",
       "    <tr>\n",
       "      <th id=\"T_f6a3a_level0_row1\" class=\"row_heading level0 row1\" >2</th>\n",
       "      <td id=\"T_f6a3a_row1_col0\" class=\"data row1 col0\" >DecisionTreeClassifier</td>\n",
       "      <td id=\"T_f6a3a_row1_col1\" class=\"data row1 col1\" >0.576867</td>\n",
       "      <td id=\"T_f6a3a_row1_col2\" class=\"data row1 col2\" >0.333333</td>\n",
       "      <td id=\"T_f6a3a_row1_col3\" class=\"data row1 col3\" >0.396135</td>\n",
       "      <td id=\"T_f6a3a_row1_col4\" class=\"data row1 col4\" >0.655462</td>\n",
       "      <td id=\"T_f6a3a_row1_col5\" class=\"data row1 col5\" >0.362031</td>\n",
       "      <td id=\"T_f6a3a_row1_col6\" class=\"data row1 col6\" >164</td>\n",
       "      <td id=\"T_f6a3a_row1_col7\" class=\"data row1 col7\" >82</td>\n",
       "      <td id=\"T_f6a3a_row1_col8\" class=\"data row1 col8\" >312</td>\n",
       "      <td id=\"T_f6a3a_row1_col9\" class=\"data row1 col9\" >125</td>\n",
       "    </tr>\n",
       "    <tr>\n",
       "      <th id=\"T_f6a3a_level0_row2\" class=\"row_heading level0 row2\" >3</th>\n",
       "      <td id=\"T_f6a3a_row2_col0\" class=\"data row2 col0\" >KNeighborsClassifier</td>\n",
       "      <td id=\"T_f6a3a_row2_col1\" class=\"data row2 col1\" >0.617862</td>\n",
       "      <td id=\"T_f6a3a_row2_col2\" class=\"data row2 col2\" >0.309859</td>\n",
       "      <td id=\"T_f6a3a_row2_col3\" class=\"data row2 col3\" >0.212560</td>\n",
       "      <td id=\"T_f6a3a_row2_col4\" class=\"data row2 col4\" >0.794118</td>\n",
       "      <td id=\"T_f6a3a_row2_col5\" class=\"data row2 col5\" >0.252149</td>\n",
       "      <td id=\"T_f6a3a_row2_col6\" class=\"data row2 col6\" >98</td>\n",
       "      <td id=\"T_f6a3a_row2_col7\" class=\"data row2 col7\" >44</td>\n",
       "      <td id=\"T_f6a3a_row2_col8\" class=\"data row2 col8\" >378</td>\n",
       "      <td id=\"T_f6a3a_row2_col9\" class=\"data row2 col9\" >163</td>\n",
       "    </tr>\n",
       "    <tr>\n",
       "      <th id=\"T_f6a3a_level0_row3\" class=\"row_heading level0 row3\" >7</th>\n",
       "      <td id=\"T_f6a3a_row3_col0\" class=\"data row3 col0\" >XGBClassifier</td>\n",
       "      <td id=\"T_f6a3a_row3_col1\" class=\"data row3 col1\" >0.617862</td>\n",
       "      <td id=\"T_f6a3a_row3_col2\" class=\"data row3 col2\" >0.278689</td>\n",
       "      <td id=\"T_f6a3a_row3_col3\" class=\"data row3 col3\" >0.164251</td>\n",
       "      <td id=\"T_f6a3a_row3_col4\" class=\"data row3 col4\" >0.815126</td>\n",
       "      <td id=\"T_f6a3a_row3_col5\" class=\"data row3 col5\" >0.206687</td>\n",
       "      <td id=\"T_f6a3a_row3_col6\" class=\"data row3 col6\" >88</td>\n",
       "      <td id=\"T_f6a3a_row3_col7\" class=\"data row3 col7\" >34</td>\n",
       "      <td id=\"T_f6a3a_row3_col8\" class=\"data row3 col8\" >388</td>\n",
       "      <td id=\"T_f6a3a_row3_col9\" class=\"data row3 col9\" >173</td>\n",
       "    </tr>\n",
       "    <tr>\n",
       "      <th id=\"T_f6a3a_level0_row4\" class=\"row_heading level0 row4\" >5</th>\n",
       "      <td id=\"T_f6a3a_row4_col0\" class=\"data row4 col0\" >RandomForestClassifier</td>\n",
       "      <td id=\"T_f6a3a_row4_col1\" class=\"data row4 col1\" >0.658858</td>\n",
       "      <td id=\"T_f6a3a_row4_col2\" class=\"data row4 col2\" >0.303030</td>\n",
       "      <td id=\"T_f6a3a_row4_col3\" class=\"data row4 col3\" >0.096618</td>\n",
       "      <td id=\"T_f6a3a_row4_col4\" class=\"data row4 col4\" >0.903361</td>\n",
       "      <td id=\"T_f6a3a_row4_col5\" class=\"data row4 col5\" >0.146520</td>\n",
       "      <td id=\"T_f6a3a_row4_col6\" class=\"data row4 col6\" >46</td>\n",
       "      <td id=\"T_f6a3a_row4_col7\" class=\"data row4 col7\" >20</td>\n",
       "      <td id=\"T_f6a3a_row4_col8\" class=\"data row4 col8\" >430</td>\n",
       "      <td id=\"T_f6a3a_row4_col9\" class=\"data row4 col9\" >187</td>\n",
       "    </tr>\n",
       "    <tr>\n",
       "      <th id=\"T_f6a3a_level0_row5\" class=\"row_heading level0 row5\" >6</th>\n",
       "      <td id=\"T_f6a3a_row5_col0\" class=\"data row5 col0\" >GradientBoostingClassifier</td>\n",
       "      <td id=\"T_f6a3a_row5_col1\" class=\"data row5 col1\" >0.679356</td>\n",
       "      <td id=\"T_f6a3a_row5_col2\" class=\"data row5 col2\" >0.312500</td>\n",
       "      <td id=\"T_f6a3a_row5_col3\" class=\"data row5 col3\" >0.048309</td>\n",
       "      <td id=\"T_f6a3a_row5_col4\" class=\"data row5 col4\" >0.953782</td>\n",
       "      <td id=\"T_f6a3a_row5_col5\" class=\"data row5 col5\" >0.083682</td>\n",
       "      <td id=\"T_f6a3a_row5_col6\" class=\"data row5 col6\" >22</td>\n",
       "      <td id=\"T_f6a3a_row5_col7\" class=\"data row5 col7\" >10</td>\n",
       "      <td id=\"T_f6a3a_row5_col8\" class=\"data row5 col8\" >454</td>\n",
       "      <td id=\"T_f6a3a_row5_col9\" class=\"data row5 col9\" >197</td>\n",
       "    </tr>\n",
       "    <tr>\n",
       "      <th id=\"T_f6a3a_level0_row6\" class=\"row_heading level0 row6\" >0</th>\n",
       "      <td id=\"T_f6a3a_row6_col0\" class=\"data row6 col0\" >LogisticRegression</td>\n",
       "      <td id=\"T_f6a3a_row6_col1\" class=\"data row6 col1\" >0.696925</td>\n",
       "      <td id=\"T_f6a3a_row6_col2\" class=\"data row6 col2\" >0.000000</td>\n",
       "      <td id=\"T_f6a3a_row6_col3\" class=\"data row6 col3\" >0.000000</td>\n",
       "      <td id=\"T_f6a3a_row6_col4\" class=\"data row6 col4\" >1.000000</td>\n",
       "      <td id=\"T_f6a3a_row6_col5\" class=\"data row6 col5\" >0.000000</td>\n",
       "      <td id=\"T_f6a3a_row6_col6\" class=\"data row6 col6\" >0</td>\n",
       "      <td id=\"T_f6a3a_row6_col7\" class=\"data row6 col7\" >0</td>\n",
       "      <td id=\"T_f6a3a_row6_col8\" class=\"data row6 col8\" >476</td>\n",
       "      <td id=\"T_f6a3a_row6_col9\" class=\"data row6 col9\" >207</td>\n",
       "    </tr>\n",
       "    <tr>\n",
       "      <th id=\"T_f6a3a_level0_row7\" class=\"row_heading level0 row7\" >4</th>\n",
       "      <td id=\"T_f6a3a_row7_col0\" class=\"data row7 col0\" >SVC</td>\n",
       "      <td id=\"T_f6a3a_row7_col1\" class=\"data row7 col1\" >0.696925</td>\n",
       "      <td id=\"T_f6a3a_row7_col2\" class=\"data row7 col2\" >0.000000</td>\n",
       "      <td id=\"T_f6a3a_row7_col3\" class=\"data row7 col3\" >0.000000</td>\n",
       "      <td id=\"T_f6a3a_row7_col4\" class=\"data row7 col4\" >1.000000</td>\n",
       "      <td id=\"T_f6a3a_row7_col5\" class=\"data row7 col5\" >0.000000</td>\n",
       "      <td id=\"T_f6a3a_row7_col6\" class=\"data row7 col6\" >0</td>\n",
       "      <td id=\"T_f6a3a_row7_col7\" class=\"data row7 col7\" >0</td>\n",
       "      <td id=\"T_f6a3a_row7_col8\" class=\"data row7 col8\" >476</td>\n",
       "      <td id=\"T_f6a3a_row7_col9\" class=\"data row7 col9\" >207</td>\n",
       "    </tr>\n",
       "  </tbody>\n",
       "</table>\n"
      ],
      "text/plain": [
       "<pandas.io.formats.style.Styler at 0x1ffc2cd3d90>"
      ]
     },
     "execution_count": 46,
     "metadata": {},
     "output_type": "execute_result"
    }
   ],
   "source": [
    "# Define a custom function to set the header background color\n",
    "def header_colors(s):\n",
    "    return [f'background-color: {your_color}' for val in s]\n",
    "\n",
    "\n",
    "# Define a custom styling function to highlight 0 values\n",
    "def highlight_zero(value):\n",
    "    if value == 0:\n",
    "        return 'background-color: red'\n",
    "    else:\n",
    "        return ''\n",
    "\n",
    "# Apply the styling function to the specified columns\n",
    "styled_df = results_df.sort_values(by=['F1 Score'], ascending  = False).style.set_table_styles([{'selector': 'th',\n",
    "                                        'props': [('background-color', 'darkblue'), ('color', 'white')]}]).applymap(highlight_zero, subset=['fp', 'tp', 'tn', 'fn'])\n",
    "\n",
    "# Display the styled DataFrame\n",
    "styled_df"
   ]
  },
  {
   "cell_type": "markdown",
   "id": "2bbf2b5a-b36d-4acf-966c-11328e76f9da",
   "metadata": {},
   "source": [
    "With the primary goal of identifying valuable leads, the key performance metric to evaluate the current model is the **F1 score** along with the count of false positives. Although the Gaussian Naive Bayes model achieves a higher F1 score, it exhibits a relatively high number of false positives. In contrast, the **DecisionTreeClassifier** yields an F1 score of 0.36 with 125 false positives, is deemed acceptable at this stage. Thus, DecisionTreeClassifier is used to predict the New Customer List provided. "
   ]
  },
  {
   "cell_type": "code",
   "execution_count": 47,
   "id": "7c35f540-217c-4322-9986-4c0d2704906b",
   "metadata": {},
   "outputs": [],
   "source": [
    "dt_classifier = DecisionTreeClassifier(random_state=28)\n",
    "dt_classifier.fit(X_train, y_train)\n",
    "y_pred = dt_classifier.predict(X_test)"
   ]
  },
  {
   "cell_type": "code",
   "execution_count": 48,
   "id": "8e681cae-afdd-4a16-aa72-05a4cbee745c",
   "metadata": {},
   "outputs": [
    {
     "name": "stdout",
     "output_type": "stream",
     "text": [
      "Accuracy: 0.5300146412884333\n",
      "Precision: 0.28888888888888886\n",
      "Recall (Sensitivity): 0.37681159420289856\n",
      "Specificity: 0.5966386554621849\n",
      "F1-Score: 0.3270440251572327\n"
     ]
    }
   ],
   "source": [
    "scores(y_val, y_pred)"
   ]
  },
  {
   "cell_type": "code",
   "execution_count": 49,
   "id": "6452e1ac-fae1-4722-9d56-dbe64581b750",
   "metadata": {},
   "outputs": [
    {
     "data": {
      "image/png": "[encoded data removed]",
      "text/plain": [
       "<Figure size 640x480 with 2 Axes>"
      ]
     },
     "metadata": {},
     "output_type": "display_data"
    }
   ],
   "source": [
    "confusion_matrix_(y_val,y_pred)"
   ]
  },
  {
   "cell_type": "markdown",
   "id": "15fb5e32",
   "metadata": {},
   "source": [
    "<font face='Comfortaa'><h2> 8 Predict New Customer List"
   ]
  },
  {
   "cell_type": "code",
   "execution_count": 50,
   "id": "4f25045a",
   "metadata": {},
   "outputs": [
    {
     "name": "stderr",
     "output_type": "stream",
     "text": [
      "C:\\Users\\Chieng Bao Qing\\AppData\\Local\\Temp\\ipykernel_19168\\2884894275.py:2: FutureWarning: Inferring datetime64[ns] from data containing strings is deprecated and will be removed in a future version. To retain the old behavior explicitly pass Series(data, dtype=datetime64[ns])\n",
      "  NewCustomerList = pd.read_excel(kpmg, sheet_name = 'NewCustomerList', header = 1)\n"
     ]
    },
    {
     "data": {
      "text/html": [
       "<div>\n",
       "<style scoped>\n",
       "    .dataframe tbody tr th:only-of-type {\n",
       "        vertical-align: middle;\n",
       "    }\n",
       "\n",
       "    .dataframe tbody tr th {\n",
       "        vertical-align: top;\n",
       "    }\n",
       "\n",
       "    .dataframe thead th {\n",
       "        text-align: right;\n",
       "    }\n",
       "</style>\n",
       "<table border=\"1\" class=\"dataframe\">\n",
       "  <thead>\n",
       "    <tr style=\"text-align: right;\">\n",
       "      <th></th>\n",
       "      <th>first_name</th>\n",
       "      <th>last_name</th>\n",
       "      <th>gender</th>\n",
       "      <th>past_3_years_bike_related_purchases</th>\n",
       "      <th>DOB</th>\n",
       "      <th>job_title</th>\n",
       "      <th>job_industry_category</th>\n",
       "      <th>wealth_segment</th>\n",
       "      <th>deceased_indicator</th>\n",
       "      <th>owns_car</th>\n",
       "      <th>...</th>\n",
       "      <th>state</th>\n",
       "      <th>country</th>\n",
       "      <th>property_valuation</th>\n",
       "      <th>Unnamed: 16</th>\n",
       "      <th>Unnamed: 17</th>\n",
       "      <th>Unnamed: 18</th>\n",
       "      <th>Unnamed: 19</th>\n",
       "      <th>Unnamed: 20</th>\n",
       "      <th>Rank</th>\n",
       "      <th>Value</th>\n",
       "    </tr>\n",
       "  </thead>\n",
       "  <tbody>\n",
       "    <tr>\n",
       "      <th>0</th>\n",
       "      <td>Chickie</td>\n",
       "      <td>Brister</td>\n",
       "      <td>Male</td>\n",
       "      <td>86</td>\n",
       "      <td>1957-07-12</td>\n",
       "      <td>General Manager</td>\n",
       "      <td>Manufacturing</td>\n",
       "      <td>Mass Customer</td>\n",
       "      <td>N</td>\n",
       "      <td>Yes</td>\n",
       "      <td>...</td>\n",
       "      <td>QLD</td>\n",
       "      <td>Australia</td>\n",
       "      <td>6</td>\n",
       "      <td>0.56</td>\n",
       "      <td>0.7000</td>\n",
       "      <td>0.8750</td>\n",
       "      <td>0.743750</td>\n",
       "      <td>1</td>\n",
       "      <td>1</td>\n",
       "      <td>1.718750</td>\n",
       "    </tr>\n",
       "    <tr>\n",
       "      <th>1</th>\n",
       "      <td>Morly</td>\n",
       "      <td>Genery</td>\n",
       "      <td>Male</td>\n",
       "      <td>69</td>\n",
       "      <td>1970-03-22</td>\n",
       "      <td>Structural Engineer</td>\n",
       "      <td>Property</td>\n",
       "      <td>Mass Customer</td>\n",
       "      <td>N</td>\n",
       "      <td>No</td>\n",
       "      <td>...</td>\n",
       "      <td>NSW</td>\n",
       "      <td>Australia</td>\n",
       "      <td>11</td>\n",
       "      <td>0.89</td>\n",
       "      <td>0.8900</td>\n",
       "      <td>1.1125</td>\n",
       "      <td>0.945625</td>\n",
       "      <td>1</td>\n",
       "      <td>1</td>\n",
       "      <td>1.718750</td>\n",
       "    </tr>\n",
       "    <tr>\n",
       "      <th>2</th>\n",
       "      <td>Ardelis</td>\n",
       "      <td>Forrester</td>\n",
       "      <td>Female</td>\n",
       "      <td>10</td>\n",
       "      <td>1974-08-28</td>\n",
       "      <td>Senior Cost Accountant</td>\n",
       "      <td>Financial Services</td>\n",
       "      <td>Affluent Customer</td>\n",
       "      <td>N</td>\n",
       "      <td>No</td>\n",
       "      <td>...</td>\n",
       "      <td>VIC</td>\n",
       "      <td>Australia</td>\n",
       "      <td>5</td>\n",
       "      <td>1.01</td>\n",
       "      <td>1.0100</td>\n",
       "      <td>1.0100</td>\n",
       "      <td>1.010000</td>\n",
       "      <td>1</td>\n",
       "      <td>1</td>\n",
       "      <td>1.718750</td>\n",
       "    </tr>\n",
       "    <tr>\n",
       "      <th>3</th>\n",
       "      <td>Lucine</td>\n",
       "      <td>Stutt</td>\n",
       "      <td>Female</td>\n",
       "      <td>64</td>\n",
       "      <td>1979-01-28</td>\n",
       "      <td>Account Representative III</td>\n",
       "      <td>Manufacturing</td>\n",
       "      <td>Affluent Customer</td>\n",
       "      <td>N</td>\n",
       "      <td>Yes</td>\n",
       "      <td>...</td>\n",
       "      <td>QLD</td>\n",
       "      <td>Australia</td>\n",
       "      <td>1</td>\n",
       "      <td>0.87</td>\n",
       "      <td>1.0875</td>\n",
       "      <td>1.0875</td>\n",
       "      <td>1.087500</td>\n",
       "      <td>4</td>\n",
       "      <td>4</td>\n",
       "      <td>1.703125</td>\n",
       "    </tr>\n",
       "    <tr>\n",
       "      <th>4</th>\n",
       "      <td>Melinda</td>\n",
       "      <td>Hadlee</td>\n",
       "      <td>Female</td>\n",
       "      <td>34</td>\n",
       "      <td>1965-09-21</td>\n",
       "      <td>Financial Analyst</td>\n",
       "      <td>Financial Services</td>\n",
       "      <td>Affluent Customer</td>\n",
       "      <td>N</td>\n",
       "      <td>No</td>\n",
       "      <td>...</td>\n",
       "      <td>NSW</td>\n",
       "      <td>Australia</td>\n",
       "      <td>9</td>\n",
       "      <td>0.52</td>\n",
       "      <td>0.5200</td>\n",
       "      <td>0.6500</td>\n",
       "      <td>0.650000</td>\n",
       "      <td>4</td>\n",
       "      <td>4</td>\n",
       "      <td>1.703125</td>\n",
       "    </tr>\n",
       "  </tbody>\n",
       "</table>\n",
       "<p>5 rows × 23 columns</p>\n",
       "</div>"
      ],
      "text/plain": [
       "  first_name  last_name  gender  past_3_years_bike_related_purchases  \\\n",
       "0    Chickie    Brister    Male                                   86   \n",
       "1      Morly     Genery    Male                                   69   \n",
       "2    Ardelis  Forrester  Female                                   10   \n",
       "3     Lucine      Stutt  Female                                   64   \n",
       "4    Melinda     Hadlee  Female                                   34   \n",
       "\n",
       "         DOB                   job_title job_industry_category  \\\n",
       "0 1957-07-12             General Manager         Manufacturing   \n",
       "1 1970-03-22         Structural Engineer              Property   \n",
       "2 1974-08-28      Senior Cost Accountant    Financial Services   \n",
       "3 1979-01-28  Account Representative III         Manufacturing   \n",
       "4 1965-09-21           Financial Analyst    Financial Services   \n",
       "\n",
       "      wealth_segment deceased_indicator owns_car  ...  state    country  \\\n",
       "0      Mass Customer                  N      Yes  ...    QLD  Australia   \n",
       "1      Mass Customer                  N       No  ...    NSW  Australia   \n",
       "2  Affluent Customer                  N       No  ...    VIC  Australia   \n",
       "3  Affluent Customer                  N      Yes  ...    QLD  Australia   \n",
       "4  Affluent Customer                  N       No  ...    NSW  Australia   \n",
       "\n",
       "   property_valuation Unnamed: 16 Unnamed: 17  Unnamed: 18  Unnamed: 19  \\\n",
       "0                   6        0.56      0.7000       0.8750     0.743750   \n",
       "1                  11        0.89      0.8900       1.1125     0.945625   \n",
       "2                   5        1.01      1.0100       1.0100     1.010000   \n",
       "3                   1        0.87      1.0875       1.0875     1.087500   \n",
       "4                   9        0.52      0.5200       0.6500     0.650000   \n",
       "\n",
       "   Unnamed: 20  Rank     Value  \n",
       "0            1     1  1.718750  \n",
       "1            1     1  1.718750  \n",
       "2            1     1  1.718750  \n",
       "3            4     4  1.703125  \n",
       "4            4     4  1.703125  \n",
       "\n",
       "[5 rows x 23 columns]"
      ]
     },
     "execution_count": 50,
     "metadata": {},
     "output_type": "execute_result"
    }
   ],
   "source": [
    "kpmg = \"https://cdn-assets.theforage.com/vinternship_modules/kpmg_data_analytics/KPMG_VI_New_raw_data_update_final.xlsx\"\n",
    "NewCustomerList = pd.read_excel(kpmg, sheet_name = 'NewCustomerList', header = 1)\n",
    "NewCustomerList.head()"
   ]
  },
  {
   "cell_type": "code",
   "execution_count": 51,
   "id": "6477b206",
   "metadata": {},
   "outputs": [],
   "source": [
    "NewCustomerList = NewCustomerList.loc[:, 'gender':'property_valuation']"
   ]
  },
  {
   "cell_type": "code",
   "execution_count": 52,
   "id": "6ce3d165",
   "metadata": {},
   "outputs": [],
   "source": [
    "NewCustomerList = NewCustomerList.drop(axis=1, columns=['job_title', 'job_industry_category','deceased_indicator', 'address', 'postcode', 'country'])"
   ]
  },
  {
   "cell_type": "code",
   "execution_count": 53,
   "id": "7af673ce",
   "metadata": {},
   "outputs": [
    {
     "name": "stdout",
     "output_type": "stream",
     "text": [
      "<class 'pandas.core.frame.DataFrame'>\n",
      "RangeIndex: 1000 entries, 0 to 999\n",
      "Data columns (total 8 columns):\n",
      " #   Column                               Non-Null Count  Dtype         \n",
      "---  ------                               --------------  -----         \n",
      " 0   gender                               1000 non-null   object        \n",
      " 1   past_3_years_bike_related_purchases  1000 non-null   int64         \n",
      " 2   DOB                                  983 non-null    datetime64[ns]\n",
      " 3   wealth_segment                       1000 non-null   object        \n",
      " 4   owns_car                             1000 non-null   object        \n",
      " 5   tenure                               1000 non-null   int64         \n",
      " 6   state                                1000 non-null   object        \n",
      " 7   property_valuation                   1000 non-null   int64         \n",
      "dtypes: datetime64[ns](1), int64(3), object(4)\n",
      "memory usage: 62.6+ KB\n"
     ]
    }
   ],
   "source": [
    "NewCustomerList.info()"
   ]
  },
  {
   "cell_type": "code",
   "execution_count": 54,
   "id": "591e1331",
   "metadata": {},
   "outputs": [],
   "source": [
    "#category\n",
    "NewCustomerList['gender'] = NewCustomerList['gender'].astype('category')\n",
    "NewCustomerList['wealth_segment'] = NewCustomerList['wealth_segment'].astype('category')\n",
    "NewCustomerList['owns_car'] = NewCustomerList['owns_car'].astype('category')\n",
    "NewCustomerList['state'] = NewCustomerList['state'].astype('category')\n",
    "\n",
    "#int\n",
    "NewCustomerList['past_3_years_bike_related_purchases'] = NewCustomerList['past_3_years_bike_related_purchases'].astype('int')\n",
    "NewCustomerList['tenure'] = NewCustomerList['tenure'].astype('int')\n",
    "NewCustomerList['property_valuation'] = NewCustomerList['property_valuation'].astype('int')\n",
    "\n",
    "#date\n",
    "NewCustomerList['DOB'] = pd.to_datetime(NewCustomerList['DOB'])\n"
   ]
  },
  {
   "cell_type": "code",
   "execution_count": 55,
   "id": "2d351430",
   "metadata": {},
   "outputs": [],
   "source": [
    "NewCustomerList['age'] = last_transaction_date.year - NewCustomerList['DOB'].dt.year"
   ]
  },
  {
   "cell_type": "code",
   "execution_count": 56,
   "id": "2210c74d",
   "metadata": {},
   "outputs": [
    {
     "data": {
      "text/plain": [
       "45.0"
      ]
     },
     "execution_count": 56,
     "metadata": {},
     "output_type": "execute_result"
    }
   ],
   "source": [
    "NewCustomerList['age'].median()"
   ]
  },
  {
   "cell_type": "code",
   "execution_count": 57,
   "id": "241c066a",
   "metadata": {},
   "outputs": [],
   "source": [
    "NewCustomerList['age'] = NewCustomerList['age'].fillna(45.0)"
   ]
  },
  {
   "cell_type": "code",
   "execution_count": 58,
   "id": "5383db4c",
   "metadata": {},
   "outputs": [],
   "source": [
    "NewCustomerList = NewCustomerList.drop(axis=1, columns=['DOB'])"
   ]
  },
  {
   "cell_type": "code",
   "execution_count": 59,
   "id": "6ac92fda",
   "metadata": {},
   "outputs": [],
   "source": [
    "NewCustomerList = NewCustomerList[['past_3_years_bike_related_purchases', 'tenure', 'property_valuation' , 'age', \\\n",
    "                                   'gender', 'wealth_segment', 'owns_car', 'state']]"
   ]
  },
  {
   "cell_type": "code",
   "execution_count": 60,
   "id": "4b22d87d",
   "metadata": {},
   "outputs": [],
   "source": [
    "features_new = pd.get_dummies(NewCustomerList, drop_first = True)"
   ]
  },
  {
   "cell_type": "code",
   "execution_count": 61,
   "id": "ed116b0a",
   "metadata": {},
   "outputs": [],
   "source": [
    "features_cat = features_new.iloc[:, 4:]\n",
    "features_num = features_new.iloc[:, :4]"
   ]
  },
  {
   "cell_type": "code",
   "execution_count": 62,
   "id": "a7b4735f",
   "metadata": {},
   "outputs": [],
   "source": [
    "X_num_new = features_num.values\n",
    "X_cat_new = features_cat.values"
   ]
  },
  {
   "cell_type": "code",
   "execution_count": 63,
   "id": "e046ef32",
   "metadata": {},
   "outputs": [],
   "source": [
    "from sklearn.preprocessing import StandardScaler\n",
    "scaler = StandardScaler()"
   ]
  },
  {
   "cell_type": "code",
   "execution_count": 64,
   "id": "38f6b8a5",
   "metadata": {},
   "outputs": [],
   "source": [
    "X_num_new = scaler.fit_transform(X_num_new)\n",
    "X_new = np.concatenate((X_num_new, X_cat_new), axis = 1)"
   ]
  },
  {
   "cell_type": "code",
   "execution_count": 65,
   "id": "54990ec4",
   "metadata": {},
   "outputs": [],
   "source": [
    "y_pred = dt_classifier.predict(X_new)"
   ]
  },
  {
   "cell_type": "code",
   "execution_count": 66,
   "id": "505207ac",
   "metadata": {},
   "outputs": [],
   "source": [
    "NewCustomerList['y_pred'] = y_pred"
   ]
  },
  {
   "cell_type": "code",
   "execution_count": 67,
   "id": "871e8e04",
   "metadata": {},
   "outputs": [
    {
     "data": {
      "text/plain": [
       "0    743\n",
       "1    257\n",
       "Name: y_pred, dtype: int64"
      ]
     },
     "execution_count": 67,
     "metadata": {},
     "output_type": "execute_result"
    }
   ],
   "source": [
    "NewCustomerList['y_pred'].value_counts()"
   ]
  },
  {
   "cell_type": "code",
   "execution_count": 68,
   "id": "222b6407-7f50-421d-8606-e6b547a8f36c",
   "metadata": {},
   "outputs": [
    {
     "data": {
      "text/html": [
       "<div>\n",
       "<style scoped>\n",
       "    .dataframe tbody tr th:only-of-type {\n",
       "        vertical-align: middle;\n",
       "    }\n",
       "\n",
       "    .dataframe tbody tr th {\n",
       "        vertical-align: top;\n",
       "    }\n",
       "\n",
       "    .dataframe thead th {\n",
       "        text-align: right;\n",
       "    }\n",
       "</style>\n",
       "<table border=\"1\" class=\"dataframe\">\n",
       "  <thead>\n",
       "    <tr style=\"text-align: right;\">\n",
       "      <th></th>\n",
       "      <th>past_3_years_bike_related_purchases</th>\n",
       "      <th>tenure</th>\n",
       "      <th>property_valuation</th>\n",
       "      <th>age</th>\n",
       "      <th>gender</th>\n",
       "      <th>wealth_segment</th>\n",
       "      <th>owns_car</th>\n",
       "      <th>state</th>\n",
       "      <th>y_pred</th>\n",
       "    </tr>\n",
       "  </thead>\n",
       "  <tbody>\n",
       "    <tr>\n",
       "      <th>0</th>\n",
       "      <td>86</td>\n",
       "      <td>14</td>\n",
       "      <td>6</td>\n",
       "      <td>60.0</td>\n",
       "      <td>Male</td>\n",
       "      <td>Mass Customer</td>\n",
       "      <td>Yes</td>\n",
       "      <td>QLD</td>\n",
       "      <td>0</td>\n",
       "    </tr>\n",
       "    <tr>\n",
       "      <th>1</th>\n",
       "      <td>69</td>\n",
       "      <td>16</td>\n",
       "      <td>11</td>\n",
       "      <td>47.0</td>\n",
       "      <td>Male</td>\n",
       "      <td>Mass Customer</td>\n",
       "      <td>No</td>\n",
       "      <td>NSW</td>\n",
       "      <td>0</td>\n",
       "    </tr>\n",
       "    <tr>\n",
       "      <th>2</th>\n",
       "      <td>10</td>\n",
       "      <td>10</td>\n",
       "      <td>5</td>\n",
       "      <td>43.0</td>\n",
       "      <td>Female</td>\n",
       "      <td>Affluent Customer</td>\n",
       "      <td>No</td>\n",
       "      <td>VIC</td>\n",
       "      <td>1</td>\n",
       "    </tr>\n",
       "    <tr>\n",
       "      <th>3</th>\n",
       "      <td>64</td>\n",
       "      <td>5</td>\n",
       "      <td>1</td>\n",
       "      <td>38.0</td>\n",
       "      <td>Female</td>\n",
       "      <td>Affluent Customer</td>\n",
       "      <td>Yes</td>\n",
       "      <td>QLD</td>\n",
       "      <td>0</td>\n",
       "    </tr>\n",
       "    <tr>\n",
       "      <th>4</th>\n",
       "      <td>34</td>\n",
       "      <td>19</td>\n",
       "      <td>9</td>\n",
       "      <td>52.0</td>\n",
       "      <td>Female</td>\n",
       "      <td>Affluent Customer</td>\n",
       "      <td>No</td>\n",
       "      <td>NSW</td>\n",
       "      <td>0</td>\n",
       "    </tr>\n",
       "  </tbody>\n",
       "</table>\n",
       "</div>"
      ],
      "text/plain": [
       "   past_3_years_bike_related_purchases  tenure  property_valuation   age  \\\n",
       "0                                   86      14                   6  60.0   \n",
       "1                                   69      16                  11  47.0   \n",
       "2                                   10      10                   5  43.0   \n",
       "3                                   64       5                   1  38.0   \n",
       "4                                   34      19                   9  52.0   \n",
       "\n",
       "   gender     wealth_segment owns_car state  y_pred  \n",
       "0    Male      Mass Customer      Yes   QLD       0  \n",
       "1    Male      Mass Customer       No   NSW       0  \n",
       "2  Female  Affluent Customer       No   VIC       1  \n",
       "3  Female  Affluent Customer      Yes   QLD       0  \n",
       "4  Female  Affluent Customer       No   NSW       0  "
      ]
     },
     "execution_count": 68,
     "metadata": {},
     "output_type": "execute_result"
    }
   ],
   "source": [
    "NewCustomerList.head()"
   ]
  },
  {
   "cell_type": "code",
   "execution_count": 69,
   "id": "8ce79f96",
   "metadata": {},
   "outputs": [],
   "source": [
    "NewCustomerList.to_csv('assets/predicted_customer.csv')"
   ]
  },
  {
   "cell_type": "markdown",
   "id": "34ebb2b9-982f-41bf-b754-4286653a3a22",
   "metadata": {},
   "source": [
    "## Deliverables: \n",
    "A classification model has been developed to predict high-value leads from the provided list of new customer.\n",
    "### Key Takeaways: \n",
    "- Out of the 1000 customers, the model predicts 257 as high-value sales leads.\n",
    "- The current model's performance metrics are as follows:\n",
    "    - Accuracy: 0.53\n",
    "    - Precision: 0.28\n",
    "    - Recall (Sensitivity): 0.37\n",
    "    - Specificity: 0.59\n",
    "    - F1-Score: 0.32\n",
    "- The current model encounters difficulties in correctly identifying both true positives and true negatives."
   ]
  }
 ],
 "metadata": {
  "kernelspec": {
   "display_name": "Python 3 (ipykernel)",
   "language": "python",
   "name": "python3"
  },
  "language_info": {
   "codemirror_mode": {
    "name": "ipython",
    "version": 3
   },
   "file_extension": ".py",
   "mimetype": "text/x-python",
   "name": "python",
   "nbconvert_exporter": "python",
   "pygments_lexer": "ipython3",
   "version": "3.11.7"
  }
 },
 "nbformat": 4,
 "nbformat_minor": 5
}
