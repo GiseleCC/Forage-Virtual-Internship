{
 "cells": [
  {
   "cell_type": "code",
   "execution_count": 1,
   "id": "1c34a369-bcbe-4fbe-9cae-78f787f4c288",
   "metadata": {},
   "outputs": [],
   "source": [
    "import pandas as pd\n",
    "import datetime as dt\n",
    "import seaborn as sns\n",
    "import matplotlib.pyplot as plt"
   ]
  },
  {
   "cell_type": "code",
   "execution_count": 2,
   "id": "4108d072-dd52-47bb-933b-f629b6d92939",
   "metadata": {},
   "outputs": [],
   "source": [
    "url = 'https://cdn-assets.theforage.com/vinternship_modules/kpmg_data_analytics/KPMG_VI_New_raw_data_update_final.xlsx'\n",
    "kpmg = pd.ExcelFile(url)"
   ]
  },
  {
   "cell_type": "code",
   "execution_count": 3,
   "id": "05e663b6-92b1-4758-b783-649fc7891099",
   "metadata": {},
   "outputs": [
    {
     "data": {
      "text/plain": [
       "['Title Sheet',\n",
       " 'Transactions',\n",
       " 'NewCustomerList',\n",
       " 'CustomerDemographic',\n",
       " 'CustomerAddress']"
      ]
     },
     "execution_count": 3,
     "metadata": {},
     "output_type": "execute_result"
    }
   ],
   "source": [
    "kpmg.sheet_names"
   ]
  },
  {
   "cell_type": "code",
   "execution_count": 4,
   "id": "4a648e45-b9e8-4a84-92d7-e7b7be40c8dc",
   "metadata": {},
   "outputs": [],
   "source": [
    "dfs = {}"
   ]
  },
  {
   "cell_type": "code",
   "execution_count": 5,
   "id": "46a6d911-62b0-4be2-aa82-d839e2643844",
   "metadata": {},
   "outputs": [],
   "source": [
    "for sheet_name in kpmg.sheet_names[1:]:\n",
    "    dfs[sheet_name] = pd.read_excel(url, sheet_name = sheet_name, header = 1) "
   ]
  },
  {
   "cell_type": "code",
   "execution_count": 6,
   "id": "58e1d248-fcf3-40f6-9f81-9b78c43b5e76",
   "metadata": {},
   "outputs": [],
   "source": [
    "transactions = dfs['Transactions'] \n",
    "newCustomerList = dfs['NewCustomerList'] \n",
    "customerDemographic = dfs['CustomerDemographic'] \n",
    "customerAddress = dfs['CustomerAddress'] "
   ]
  },
  {
   "cell_type": "markdown",
   "id": "fe1ca63f-532c-4860-ae20-15656add6abe",
   "metadata": {},
   "source": [
    "#### Transactions "
   ]
  },
  {
   "cell_type": "code",
   "execution_count": 7,
   "id": "55b91f12-5c77-4178-9c27-aebbfc2f729e",
   "metadata": {},
   "outputs": [
    {
     "data": {
      "text/html": [
       "<div>\n",
       "<style scoped>\n",
       "    .dataframe tbody tr th:only-of-type {\n",
       "        vertical-align: middle;\n",
       "    }\n",
       "\n",
       "    .dataframe tbody tr th {\n",
       "        vertical-align: top;\n",
       "    }\n",
       "\n",
       "    .dataframe thead th {\n",
       "        text-align: right;\n",
       "    }\n",
       "</style>\n",
       "<table border=\"1\" class=\"dataframe\">\n",
       "  <thead>\n",
       "    <tr style=\"text-align: right;\">\n",
       "      <th></th>\n",
       "      <th>transaction_id</th>\n",
       "      <th>product_id</th>\n",
       "      <th>customer_id</th>\n",
       "      <th>transaction_date</th>\n",
       "      <th>online_order</th>\n",
       "      <th>order_status</th>\n",
       "      <th>brand</th>\n",
       "      <th>product_line</th>\n",
       "      <th>product_class</th>\n",
       "      <th>product_size</th>\n",
       "      <th>list_price</th>\n",
       "      <th>standard_cost</th>\n",
       "      <th>product_first_sold_date</th>\n",
       "    </tr>\n",
       "  </thead>\n",
       "  <tbody>\n",
       "    <tr>\n",
       "      <th>19611</th>\n",
       "      <td>19612</td>\n",
       "      <td>88</td>\n",
       "      <td>908</td>\n",
       "      <td>2017-03-12</td>\n",
       "      <td>1.0</td>\n",
       "      <td>Approved</td>\n",
       "      <td>Norco Bicycles</td>\n",
       "      <td>Standard</td>\n",
       "      <td>medium</td>\n",
       "      <td>medium</td>\n",
       "      <td>1198.46</td>\n",
       "      <td>381.10</td>\n",
       "      <td>41434.0</td>\n",
       "    </tr>\n",
       "    <tr>\n",
       "      <th>11935</th>\n",
       "      <td>11936</td>\n",
       "      <td>85</td>\n",
       "      <td>1554</td>\n",
       "      <td>2017-08-06</td>\n",
       "      <td>0.0</td>\n",
       "      <td>Approved</td>\n",
       "      <td>WeareA2B</td>\n",
       "      <td>Standard</td>\n",
       "      <td>medium</td>\n",
       "      <td>medium</td>\n",
       "      <td>752.64</td>\n",
       "      <td>205.36</td>\n",
       "      <td>36334.0</td>\n",
       "    </tr>\n",
       "    <tr>\n",
       "      <th>18897</th>\n",
       "      <td>18898</td>\n",
       "      <td>21</td>\n",
       "      <td>2022</td>\n",
       "      <td>2017-10-05</td>\n",
       "      <td>1.0</td>\n",
       "      <td>Approved</td>\n",
       "      <td>Solex</td>\n",
       "      <td>Standard</td>\n",
       "      <td>medium</td>\n",
       "      <td>large</td>\n",
       "      <td>1071.23</td>\n",
       "      <td>380.74</td>\n",
       "      <td>35160.0</td>\n",
       "    </tr>\n",
       "    <tr>\n",
       "      <th>15854</th>\n",
       "      <td>15855</td>\n",
       "      <td>92</td>\n",
       "      <td>546</td>\n",
       "      <td>2017-02-01</td>\n",
       "      <td>1.0</td>\n",
       "      <td>Approved</td>\n",
       "      <td>WeareA2B</td>\n",
       "      <td>Standard</td>\n",
       "      <td>medium</td>\n",
       "      <td>small</td>\n",
       "      <td>1415.01</td>\n",
       "      <td>1259.36</td>\n",
       "      <td>36145.0</td>\n",
       "    </tr>\n",
       "    <tr>\n",
       "      <th>18807</th>\n",
       "      <td>18808</td>\n",
       "      <td>88</td>\n",
       "      <td>3166</td>\n",
       "      <td>2017-07-01</td>\n",
       "      <td>0.0</td>\n",
       "      <td>Approved</td>\n",
       "      <td>Norco Bicycles</td>\n",
       "      <td>Standard</td>\n",
       "      <td>medium</td>\n",
       "      <td>medium</td>\n",
       "      <td>1198.46</td>\n",
       "      <td>381.10</td>\n",
       "      <td>36145.0</td>\n",
       "    </tr>\n",
       "  </tbody>\n",
       "</table>\n",
       "</div>"
      ],
      "text/plain": [
       "       transaction_id  product_id  customer_id transaction_date  online_order  \\\n",
       "19611           19612          88          908       2017-03-12           1.0   \n",
       "11935           11936          85         1554       2017-08-06           0.0   \n",
       "18897           18898          21         2022       2017-10-05           1.0   \n",
       "15854           15855          92          546       2017-02-01           1.0   \n",
       "18807           18808          88         3166       2017-07-01           0.0   \n",
       "\n",
       "      order_status           brand product_line product_class product_size  \\\n",
       "19611     Approved  Norco Bicycles     Standard        medium       medium   \n",
       "11935     Approved        WeareA2B     Standard        medium       medium   \n",
       "18897     Approved           Solex     Standard        medium        large   \n",
       "15854     Approved        WeareA2B     Standard        medium        small   \n",
       "18807     Approved  Norco Bicycles     Standard        medium       medium   \n",
       "\n",
       "       list_price  standard_cost  product_first_sold_date  \n",
       "19611     1198.46         381.10                  41434.0  \n",
       "11935      752.64         205.36                  36334.0  \n",
       "18897     1071.23         380.74                  35160.0  \n",
       "15854     1415.01        1259.36                  36145.0  \n",
       "18807     1198.46         381.10                  36145.0  "
      ]
     },
     "execution_count": 7,
     "metadata": {},
     "output_type": "execute_result"
    }
   ],
   "source": [
    "transactions.sample(n=5)"
   ]
  },
  {
   "cell_type": "code",
   "execution_count": 8,
   "id": "3643c4de-1f97-4292-ad7b-ad0b55965a25",
   "metadata": {},
   "outputs": [
    {
     "name": "stdout",
     "output_type": "stream",
     "text": [
      "<class 'pandas.core.frame.DataFrame'>\n",
      "RangeIndex: 20000 entries, 0 to 19999\n",
      "Data columns (total 13 columns):\n",
      " #   Column                   Non-Null Count  Dtype         \n",
      "---  ------                   --------------  -----         \n",
      " 0   transaction_id           20000 non-null  int64         \n",
      " 1   product_id               20000 non-null  int64         \n",
      " 2   customer_id              20000 non-null  int64         \n",
      " 3   transaction_date         20000 non-null  datetime64[ns]\n",
      " 4   online_order             19640 non-null  float64       \n",
      " 5   order_status             20000 non-null  object        \n",
      " 6   brand                    19803 non-null  object        \n",
      " 7   product_line             19803 non-null  object        \n",
      " 8   product_class            19803 non-null  object        \n",
      " 9   product_size             19803 non-null  object        \n",
      " 10  list_price               20000 non-null  float64       \n",
      " 11  standard_cost            19803 non-null  float64       \n",
      " 12  product_first_sold_date  19803 non-null  float64       \n",
      "dtypes: datetime64[ns](1), float64(4), int64(3), object(5)\n",
      "memory usage: 2.0+ MB\n"
     ]
    }
   ],
   "source": [
    "transactions.info()"
   ]
  },
  {
   "cell_type": "code",
   "execution_count": 9,
   "id": "45c66e4b-6b75-454f-a044-b23b9d3bfcdd",
   "metadata": {},
   "outputs": [],
   "source": [
    "# Split the current transactions DataFrame into two separate DataFrames: \n",
    "# 1. 'transactions', which contains transaction details such as transaction ID, customer ID, transaction date, etc.\n",
    "# 2. 'products', which contains product details including product ID, brand, product line, product class, product size, \n",
    "#    list price, standard cost, and product first sold date.\n",
    "# This normalization process organizes the data into two distinct entities, enhancing data integrity and \n",
    "# facilitating efficient querying and lower memory storage.\n",
    "\n",
    "products = transactions[['product_id', 'brand', 'product_line', 'product_class', 'product_size', 'list_price', 'standard_cost', 'product_first_sold_date']].drop_duplicates(subset=['product_id'])\n",
    "transactions = transactions[['transaction_id', 'product_id', 'customer_id', 'transaction_date', 'online_order', 'order_status', 'list_price']]"
   ]
  },
  {
   "cell_type": "markdown",
   "id": "79747e50-69b3-4543-8a35-eca4c843721c",
   "metadata": {},
   "source": [
    "##### Transactions - transactions"
   ]
  },
  {
   "cell_type": "code",
   "execution_count": 10,
   "id": "7c4d7a56-00c9-4a7b-9306-9efadd59d9e6",
   "metadata": {},
   "outputs": [
    {
     "name": "stdout",
     "output_type": "stream",
     "text": [
      "<class 'pandas.core.frame.DataFrame'>\n",
      "RangeIndex: 20000 entries, 0 to 19999\n",
      "Data columns (total 7 columns):\n",
      " #   Column            Non-Null Count  Dtype         \n",
      "---  ------            --------------  -----         \n",
      " 0   transaction_id    20000 non-null  int64         \n",
      " 1   product_id        20000 non-null  int64         \n",
      " 2   customer_id       20000 non-null  int64         \n",
      " 3   transaction_date  20000 non-null  datetime64[ns]\n",
      " 4   online_order      19640 non-null  float64       \n",
      " 5   order_status      20000 non-null  object        \n",
      " 6   list_price        20000 non-null  float64       \n",
      "dtypes: datetime64[ns](1), float64(2), int64(3), object(1)\n",
      "memory usage: 1.1+ MB\n"
     ]
    }
   ],
   "source": [
    "transactions.info()"
   ]
  },
  {
   "cell_type": "code",
   "execution_count": 11,
   "id": "0da14b78-52a0-4343-a16f-f11ec3cf173c",
   "metadata": {},
   "outputs": [
    {
     "name": "stdout",
     "output_type": "stream",
     "text": [
      "<class 'pandas.core.frame.DataFrame'>\n",
      "Index: 101 entries, 0 to 509\n",
      "Data columns (total 8 columns):\n",
      " #   Column                   Non-Null Count  Dtype  \n",
      "---  ------                   --------------  -----  \n",
      " 0   product_id               101 non-null    int64  \n",
      " 1   brand                    101 non-null    object \n",
      " 2   product_line             101 non-null    object \n",
      " 3   product_class            101 non-null    object \n",
      " 4   product_size             101 non-null    object \n",
      " 5   list_price               101 non-null    float64\n",
      " 6   standard_cost            101 non-null    float64\n",
      " 7   product_first_sold_date  101 non-null    float64\n",
      "dtypes: float64(3), int64(1), object(4)\n",
      "memory usage: 7.1+ KB\n"
     ]
    }
   ],
   "source": [
    "products.info()"
   ]
  },
  {
   "cell_type": "code",
   "execution_count": 12,
   "id": "2c0afb89-f146-4871-a848-10898ac4c300",
   "metadata": {},
   "outputs": [
    {
     "data": {
      "text/plain": [
       "online_order\n",
       "1.0    9829\n",
       "0.0    9811\n",
       "Name: count, dtype: int64"
      ]
     },
     "execution_count": 12,
     "metadata": {},
     "output_type": "execute_result"
    }
   ],
   "source": [
    "transactions['online_order'].value_counts()"
   ]
  },
  {
   "cell_type": "code",
   "execution_count": 13,
   "id": "2c6b5864-c8b7-4b4d-923b-582fc6ad30ab",
   "metadata": {},
   "outputs": [
    {
     "name": "stderr",
     "output_type": "stream",
     "text": [
      "C:\\Users\\Chieng Bao Qing\\AppData\\Local\\Temp\\ipykernel_10368\\997585644.py:4: SettingWithCopyWarning: \n",
      "A value is trying to be set on a copy of a slice from a DataFrame.\n",
      "Try using .loc[row_indexer,col_indexer] = value instead\n",
      "\n",
      "See the caveats in the documentation: https://pandas.pydata.org/pandas-docs/stable/user_guide/indexing.html#returning-a-view-versus-a-copy\n",
      "  transactions['online_order'] = transactions['online_order'].fillna(2).astype('int').astype('category')\n"
     ]
    }
   ],
   "source": [
    "# 1.0 and 0.0, with similar counts.\n",
    "# Filling missing values in the 'online_order' column with 2 to represent unknown status,\n",
    "# then converting it to a categorical datatype for better representation and analysis.\n",
    "transactions['online_order'] = transactions['online_order'].fillna(2).astype('int').astype('category')"
   ]
  },
  {
   "cell_type": "code",
   "execution_count": 14,
   "id": "fe65ec13-f882-416a-a97e-c4ae59189f87",
   "metadata": {},
   "outputs": [
    {
     "name": "stdout",
     "output_type": "stream",
     "text": [
      "Memory usage before conversion: 1300311\n",
      "Memory usage after conversion: 20371\n"
     ]
    },
    {
     "name": "stderr",
     "output_type": "stream",
     "text": [
      "C:\\Users\\Chieng Bao Qing\\AppData\\Local\\Temp\\ipykernel_10368\\1832675729.py:5: SettingWithCopyWarning: \n",
      "A value is trying to be set on a copy of a slice from a DataFrame.\n",
      "Try using .loc[row_indexer,col_indexer] = value instead\n",
      "\n",
      "See the caveats in the documentation: https://pandas.pydata.org/pandas-docs/stable/user_guide/indexing.html#returning-a-view-versus-a-copy\n",
      "  transactions['order_status'] = transactions['order_status'].astype('category')\n"
     ]
    }
   ],
   "source": [
    "before_memory = transactions['order_status'].memory_usage(deep=True)\n",
    "print(\"Memory usage before conversion:\", before_memory)\n",
    "\n",
    "# Convert to category\n",
    "transactions['order_status'] = transactions['order_status'].astype('category')\n",
    "\n",
    "after_memory = transactions['order_status'].memory_usage(deep=True)\n",
    "print(\"Memory usage after conversion:\", after_memory)"
   ]
  },
  {
   "cell_type": "code",
   "execution_count": 15,
   "id": "1ebc2991-4dff-4d44-86e2-288a2307f2d6",
   "metadata": {},
   "outputs": [
    {
     "name": "stdout",
     "output_type": "stream",
     "text": [
      "<class 'pandas.core.frame.DataFrame'>\n",
      "RangeIndex: 20000 entries, 0 to 19999\n",
      "Data columns (total 7 columns):\n",
      " #   Column            Non-Null Count  Dtype         \n",
      "---  ------            --------------  -----         \n",
      " 0   transaction_id    20000 non-null  int64         \n",
      " 1   product_id        20000 non-null  int64         \n",
      " 2   customer_id       20000 non-null  int64         \n",
      " 3   transaction_date  20000 non-null  datetime64[ns]\n",
      " 4   online_order      20000 non-null  category      \n",
      " 5   order_status      20000 non-null  category      \n",
      " 6   list_price        20000 non-null  float64       \n",
      "dtypes: category(2), datetime64[ns](1), float64(1), int64(3)\n",
      "memory usage: 820.7 KB\n"
     ]
    }
   ],
   "source": [
    "transactions.info()"
   ]
  },
  {
   "cell_type": "code",
   "execution_count": 16,
   "id": "5574268c-670a-4474-8194-fda1992adba5",
   "metadata": {},
   "outputs": [
    {
     "data": {
      "text/html": [
       "<div>\n",
       "<style scoped>\n",
       "    .dataframe tbody tr th:only-of-type {\n",
       "        vertical-align: middle;\n",
       "    }\n",
       "\n",
       "    .dataframe tbody tr th {\n",
       "        vertical-align: top;\n",
       "    }\n",
       "\n",
       "    .dataframe thead th {\n",
       "        text-align: right;\n",
       "    }\n",
       "</style>\n",
       "<table border=\"1\" class=\"dataframe\">\n",
       "  <thead>\n",
       "    <tr style=\"text-align: right;\">\n",
       "      <th></th>\n",
       "      <th>transaction_id</th>\n",
       "      <th>product_id</th>\n",
       "      <th>customer_id</th>\n",
       "      <th>transaction_date</th>\n",
       "      <th>online_order</th>\n",
       "      <th>order_status</th>\n",
       "      <th>list_price</th>\n",
       "    </tr>\n",
       "  </thead>\n",
       "  <tbody>\n",
       "    <tr>\n",
       "      <th>count</th>\n",
       "      <td>20000.000000</td>\n",
       "      <td>20000.00000</td>\n",
       "      <td>20000.000000</td>\n",
       "      <td>20000</td>\n",
       "      <td>20000.0</td>\n",
       "      <td>20000</td>\n",
       "      <td>20000.000000</td>\n",
       "    </tr>\n",
       "    <tr>\n",
       "      <th>unique</th>\n",
       "      <td>NaN</td>\n",
       "      <td>NaN</td>\n",
       "      <td>NaN</td>\n",
       "      <td>NaN</td>\n",
       "      <td>3.0</td>\n",
       "      <td>2</td>\n",
       "      <td>NaN</td>\n",
       "    </tr>\n",
       "    <tr>\n",
       "      <th>top</th>\n",
       "      <td>NaN</td>\n",
       "      <td>NaN</td>\n",
       "      <td>NaN</td>\n",
       "      <td>NaN</td>\n",
       "      <td>1.0</td>\n",
       "      <td>Approved</td>\n",
       "      <td>NaN</td>\n",
       "    </tr>\n",
       "    <tr>\n",
       "      <th>freq</th>\n",
       "      <td>NaN</td>\n",
       "      <td>NaN</td>\n",
       "      <td>NaN</td>\n",
       "      <td>NaN</td>\n",
       "      <td>9829.0</td>\n",
       "      <td>19821</td>\n",
       "      <td>NaN</td>\n",
       "    </tr>\n",
       "    <tr>\n",
       "      <th>mean</th>\n",
       "      <td>10000.500000</td>\n",
       "      <td>45.36465</td>\n",
       "      <td>1738.246050</td>\n",
       "      <td>2017-07-01 14:08:05.280000</td>\n",
       "      <td>NaN</td>\n",
       "      <td>NaN</td>\n",
       "      <td>1107.829449</td>\n",
       "    </tr>\n",
       "    <tr>\n",
       "      <th>min</th>\n",
       "      <td>1.000000</td>\n",
       "      <td>0.00000</td>\n",
       "      <td>1.000000</td>\n",
       "      <td>2017-01-01 00:00:00</td>\n",
       "      <td>NaN</td>\n",
       "      <td>NaN</td>\n",
       "      <td>12.010000</td>\n",
       "    </tr>\n",
       "    <tr>\n",
       "      <th>25%</th>\n",
       "      <td>5000.750000</td>\n",
       "      <td>18.00000</td>\n",
       "      <td>857.750000</td>\n",
       "      <td>2017-04-01 00:00:00</td>\n",
       "      <td>NaN</td>\n",
       "      <td>NaN</td>\n",
       "      <td>575.270000</td>\n",
       "    </tr>\n",
       "    <tr>\n",
       "      <th>50%</th>\n",
       "      <td>10000.500000</td>\n",
       "      <td>44.00000</td>\n",
       "      <td>1736.000000</td>\n",
       "      <td>2017-07-03 00:00:00</td>\n",
       "      <td>NaN</td>\n",
       "      <td>NaN</td>\n",
       "      <td>1163.890000</td>\n",
       "    </tr>\n",
       "    <tr>\n",
       "      <th>75%</th>\n",
       "      <td>15000.250000</td>\n",
       "      <td>72.00000</td>\n",
       "      <td>2613.000000</td>\n",
       "      <td>2017-10-02 00:00:00</td>\n",
       "      <td>NaN</td>\n",
       "      <td>NaN</td>\n",
       "      <td>1635.300000</td>\n",
       "    </tr>\n",
       "    <tr>\n",
       "      <th>max</th>\n",
       "      <td>20000.000000</td>\n",
       "      <td>100.00000</td>\n",
       "      <td>5034.000000</td>\n",
       "      <td>2017-12-30 00:00:00</td>\n",
       "      <td>NaN</td>\n",
       "      <td>NaN</td>\n",
       "      <td>2091.470000</td>\n",
       "    </tr>\n",
       "    <tr>\n",
       "      <th>std</th>\n",
       "      <td>5773.647028</td>\n",
       "      <td>30.75359</td>\n",
       "      <td>1011.951046</td>\n",
       "      <td>NaN</td>\n",
       "      <td>NaN</td>\n",
       "      <td>NaN</td>\n",
       "      <td>582.825242</td>\n",
       "    </tr>\n",
       "  </tbody>\n",
       "</table>\n",
       "</div>"
      ],
      "text/plain": [
       "        transaction_id   product_id   customer_id            transaction_date  \\\n",
       "count     20000.000000  20000.00000  20000.000000                       20000   \n",
       "unique             NaN          NaN           NaN                         NaN   \n",
       "top                NaN          NaN           NaN                         NaN   \n",
       "freq               NaN          NaN           NaN                         NaN   \n",
       "mean      10000.500000     45.36465   1738.246050  2017-07-01 14:08:05.280000   \n",
       "min           1.000000      0.00000      1.000000         2017-01-01 00:00:00   \n",
       "25%        5000.750000     18.00000    857.750000         2017-04-01 00:00:00   \n",
       "50%       10000.500000     44.00000   1736.000000         2017-07-03 00:00:00   \n",
       "75%       15000.250000     72.00000   2613.000000         2017-10-02 00:00:00   \n",
       "max       20000.000000    100.00000   5034.000000         2017-12-30 00:00:00   \n",
       "std        5773.647028     30.75359   1011.951046                         NaN   \n",
       "\n",
       "        online_order order_status    list_price  \n",
       "count        20000.0        20000  20000.000000  \n",
       "unique           3.0            2           NaN  \n",
       "top              1.0     Approved           NaN  \n",
       "freq          9829.0        19821           NaN  \n",
       "mean             NaN          NaN   1107.829449  \n",
       "min              NaN          NaN     12.010000  \n",
       "25%              NaN          NaN    575.270000  \n",
       "50%              NaN          NaN   1163.890000  \n",
       "75%              NaN          NaN   1635.300000  \n",
       "max              NaN          NaN   2091.470000  \n",
       "std              NaN          NaN    582.825242  "
      ]
     },
     "execution_count": 16,
     "metadata": {},
     "output_type": "execute_result"
    }
   ],
   "source": [
    "transactions.describe(include='all')"
   ]
  },
  {
   "cell_type": "code",
   "execution_count": 17,
   "id": "d6190dd8-fdbf-40f6-b56c-debb235a36a7",
   "metadata": {},
   "outputs": [
    {
     "data": {
      "text/plain": [
       "order_status\n",
       "Approved     19821\n",
       "Cancelled      179\n",
       "Name: count, dtype: int64"
      ]
     },
     "execution_count": 17,
     "metadata": {},
     "output_type": "execute_result"
    }
   ],
   "source": [
    "transactions['order_status'].value_counts()"
   ]
  },
  {
   "cell_type": "code",
   "execution_count": 18,
   "id": "937dfabf-b5e1-4e5e-85ea-b7e41a6f7215",
   "metadata": {},
   "outputs": [
    {
     "data": {
      "text/html": [
       "<div>\n",
       "<style scoped>\n",
       "    .dataframe tbody tr th:only-of-type {\n",
       "        vertical-align: middle;\n",
       "    }\n",
       "\n",
       "    .dataframe tbody tr th {\n",
       "        vertical-align: top;\n",
       "    }\n",
       "\n",
       "    .dataframe thead th {\n",
       "        text-align: right;\n",
       "    }\n",
       "</style>\n",
       "<table border=\"1\" class=\"dataframe\">\n",
       "  <thead>\n",
       "    <tr style=\"text-align: right;\">\n",
       "      <th></th>\n",
       "      <th>transaction_id</th>\n",
       "      <th>product_id</th>\n",
       "      <th>customer_id</th>\n",
       "      <th>transaction_date</th>\n",
       "      <th>online_order</th>\n",
       "      <th>order_status</th>\n",
       "      <th>list_price</th>\n",
       "    </tr>\n",
       "  </thead>\n",
       "  <tbody>\n",
       "    <tr>\n",
       "      <th>13162</th>\n",
       "      <td>13163</td>\n",
       "      <td>57</td>\n",
       "      <td>2321</td>\n",
       "      <td>2017-06-04</td>\n",
       "      <td>0</td>\n",
       "      <td>Approved</td>\n",
       "      <td>1890.39</td>\n",
       "    </tr>\n",
       "    <tr>\n",
       "      <th>78</th>\n",
       "      <td>79</td>\n",
       "      <td>87</td>\n",
       "      <td>102</td>\n",
       "      <td>2017-09-12</td>\n",
       "      <td>1</td>\n",
       "      <td>Approved</td>\n",
       "      <td>1179.00</td>\n",
       "    </tr>\n",
       "    <tr>\n",
       "      <th>15138</th>\n",
       "      <td>15139</td>\n",
       "      <td>96</td>\n",
       "      <td>315</td>\n",
       "      <td>2017-03-16</td>\n",
       "      <td>0</td>\n",
       "      <td>Approved</td>\n",
       "      <td>1172.78</td>\n",
       "    </tr>\n",
       "    <tr>\n",
       "      <th>10130</th>\n",
       "      <td>10131</td>\n",
       "      <td>9</td>\n",
       "      <td>1181</td>\n",
       "      <td>2017-04-28</td>\n",
       "      <td>0</td>\n",
       "      <td>Approved</td>\n",
       "      <td>742.54</td>\n",
       "    </tr>\n",
       "    <tr>\n",
       "      <th>3572</th>\n",
       "      <td>3573</td>\n",
       "      <td>93</td>\n",
       "      <td>1115</td>\n",
       "      <td>2017-06-03</td>\n",
       "      <td>0</td>\n",
       "      <td>Approved</td>\n",
       "      <td>1458.17</td>\n",
       "    </tr>\n",
       "  </tbody>\n",
       "</table>\n",
       "</div>"
      ],
      "text/plain": [
       "       transaction_id  product_id  customer_id transaction_date online_order  \\\n",
       "13162           13163          57         2321       2017-06-04            0   \n",
       "78                 79          87          102       2017-09-12            1   \n",
       "15138           15139          96          315       2017-03-16            0   \n",
       "10130           10131           9         1181       2017-04-28            0   \n",
       "3572             3573          93         1115       2017-06-03            0   \n",
       "\n",
       "      order_status  list_price  \n",
       "13162     Approved     1890.39  \n",
       "78        Approved     1179.00  \n",
       "15138     Approved     1172.78  \n",
       "10130     Approved      742.54  \n",
       "3572      Approved     1458.17  "
      ]
     },
     "execution_count": 18,
     "metadata": {},
     "output_type": "execute_result"
    }
   ],
   "source": [
    "transactions.sample(n=5)"
   ]
  },
  {
   "cell_type": "markdown",
   "id": "62832677-81b4-459d-a150-f488a378e430",
   "metadata": {},
   "source": [
    "##### Transactions - products"
   ]
  },
  {
   "cell_type": "code",
   "execution_count": 19,
   "id": "75c2491a-b43d-4495-9a6d-e69e90dd1394",
   "metadata": {},
   "outputs": [
    {
     "data": {
      "text/html": [
       "<div>\n",
       "<style scoped>\n",
       "    .dataframe tbody tr th:only-of-type {\n",
       "        vertical-align: middle;\n",
       "    }\n",
       "\n",
       "    .dataframe tbody tr th {\n",
       "        vertical-align: top;\n",
       "    }\n",
       "\n",
       "    .dataframe thead th {\n",
       "        text-align: right;\n",
       "    }\n",
       "</style>\n",
       "<table border=\"1\" class=\"dataframe\">\n",
       "  <thead>\n",
       "    <tr style=\"text-align: right;\">\n",
       "      <th></th>\n",
       "      <th>product_id</th>\n",
       "      <th>brand</th>\n",
       "      <th>product_line</th>\n",
       "      <th>product_class</th>\n",
       "      <th>product_size</th>\n",
       "      <th>list_price</th>\n",
       "      <th>standard_cost</th>\n",
       "      <th>product_first_sold_date</th>\n",
       "    </tr>\n",
       "  </thead>\n",
       "  <tbody>\n",
       "    <tr>\n",
       "      <th>count</th>\n",
       "      <td>101.000000</td>\n",
       "      <td>101</td>\n",
       "      <td>101</td>\n",
       "      <td>101</td>\n",
       "      <td>101</td>\n",
       "      <td>101.000000</td>\n",
       "      <td>101.000000</td>\n",
       "      <td>101.000000</td>\n",
       "    </tr>\n",
       "    <tr>\n",
       "      <th>unique</th>\n",
       "      <td>NaN</td>\n",
       "      <td>6</td>\n",
       "      <td>4</td>\n",
       "      <td>3</td>\n",
       "      <td>3</td>\n",
       "      <td>NaN</td>\n",
       "      <td>NaN</td>\n",
       "      <td>NaN</td>\n",
       "    </tr>\n",
       "    <tr>\n",
       "      <th>top</th>\n",
       "      <td>NaN</td>\n",
       "      <td>Solex</td>\n",
       "      <td>Standard</td>\n",
       "      <td>medium</td>\n",
       "      <td>medium</td>\n",
       "      <td>NaN</td>\n",
       "      <td>NaN</td>\n",
       "      <td>NaN</td>\n",
       "    </tr>\n",
       "    <tr>\n",
       "      <th>freq</th>\n",
       "      <td>NaN</td>\n",
       "      <td>23</td>\n",
       "      <td>74</td>\n",
       "      <td>69</td>\n",
       "      <td>67</td>\n",
       "      <td>NaN</td>\n",
       "      <td>NaN</td>\n",
       "      <td>NaN</td>\n",
       "    </tr>\n",
       "    <tr>\n",
       "      <th>mean</th>\n",
       "      <td>50.000000</td>\n",
       "      <td>NaN</td>\n",
       "      <td>NaN</td>\n",
       "      <td>NaN</td>\n",
       "      <td>NaN</td>\n",
       "      <td>1165.893069</td>\n",
       "      <td>575.170693</td>\n",
       "      <td>38305.643564</td>\n",
       "    </tr>\n",
       "    <tr>\n",
       "      <th>std</th>\n",
       "      <td>29.300171</td>\n",
       "      <td>NaN</td>\n",
       "      <td>NaN</td>\n",
       "      <td>NaN</td>\n",
       "      <td>NaN</td>\n",
       "      <td>563.195204</td>\n",
       "      <td>421.738591</td>\n",
       "      <td>3024.258076</td>\n",
       "    </tr>\n",
       "    <tr>\n",
       "      <th>min</th>\n",
       "      <td>0.000000</td>\n",
       "      <td>NaN</td>\n",
       "      <td>NaN</td>\n",
       "      <td>NaN</td>\n",
       "      <td>NaN</td>\n",
       "      <td>60.340000</td>\n",
       "      <td>13.440000</td>\n",
       "      <td>33364.000000</td>\n",
       "    </tr>\n",
       "    <tr>\n",
       "      <th>25%</th>\n",
       "      <td>25.000000</td>\n",
       "      <td>NaN</td>\n",
       "      <td>NaN</td>\n",
       "      <td>NaN</td>\n",
       "      <td>NaN</td>\n",
       "      <td>742.540000</td>\n",
       "      <td>230.090000</td>\n",
       "      <td>35560.000000</td>\n",
       "    </tr>\n",
       "    <tr>\n",
       "      <th>50%</th>\n",
       "      <td>50.000000</td>\n",
       "      <td>NaN</td>\n",
       "      <td>NaN</td>\n",
       "      <td>NaN</td>\n",
       "      <td>NaN</td>\n",
       "      <td>1198.460000</td>\n",
       "      <td>513.850000</td>\n",
       "      <td>38206.000000</td>\n",
       "    </tr>\n",
       "    <tr>\n",
       "      <th>75%</th>\n",
       "      <td>75.000000</td>\n",
       "      <td>NaN</td>\n",
       "      <td>NaN</td>\n",
       "      <td>NaN</td>\n",
       "      <td>NaN</td>\n",
       "      <td>1661.920000</td>\n",
       "      <td>820.780000</td>\n",
       "      <td>41245.000000</td>\n",
       "    </tr>\n",
       "    <tr>\n",
       "      <th>max</th>\n",
       "      <td>100.000000</td>\n",
       "      <td>NaN</td>\n",
       "      <td>NaN</td>\n",
       "      <td>NaN</td>\n",
       "      <td>NaN</td>\n",
       "      <td>2091.470000</td>\n",
       "      <td>1759.850000</td>\n",
       "      <td>42710.000000</td>\n",
       "    </tr>\n",
       "  </tbody>\n",
       "</table>\n",
       "</div>"
      ],
      "text/plain": [
       "        product_id  brand product_line product_class product_size  \\\n",
       "count   101.000000    101          101           101          101   \n",
       "unique         NaN      6            4             3            3   \n",
       "top            NaN  Solex     Standard        medium       medium   \n",
       "freq           NaN     23           74            69           67   \n",
       "mean     50.000000    NaN          NaN           NaN          NaN   \n",
       "std      29.300171    NaN          NaN           NaN          NaN   \n",
       "min       0.000000    NaN          NaN           NaN          NaN   \n",
       "25%      25.000000    NaN          NaN           NaN          NaN   \n",
       "50%      50.000000    NaN          NaN           NaN          NaN   \n",
       "75%      75.000000    NaN          NaN           NaN          NaN   \n",
       "max     100.000000    NaN          NaN           NaN          NaN   \n",
       "\n",
       "         list_price  standard_cost  product_first_sold_date  \n",
       "count    101.000000     101.000000               101.000000  \n",
       "unique          NaN            NaN                      NaN  \n",
       "top             NaN            NaN                      NaN  \n",
       "freq            NaN            NaN                      NaN  \n",
       "mean    1165.893069     575.170693             38305.643564  \n",
       "std      563.195204     421.738591              3024.258076  \n",
       "min       60.340000      13.440000             33364.000000  \n",
       "25%      742.540000     230.090000             35560.000000  \n",
       "50%     1198.460000     513.850000             38206.000000  \n",
       "75%     1661.920000     820.780000             41245.000000  \n",
       "max     2091.470000    1759.850000             42710.000000  "
      ]
     },
     "execution_count": 19,
     "metadata": {},
     "output_type": "execute_result"
    }
   ],
   "source": [
    "products.describe(include='all')"
   ]
  },
  {
   "cell_type": "code",
   "execution_count": 20,
   "id": "8005203d-390a-4aca-8fc0-c77eeb01646b",
   "metadata": {},
   "outputs": [
    {
     "data": {
      "text/plain": [
       "brand\n",
       "Solex             23\n",
       "WeareA2B          19\n",
       "Giant Bicycles    17\n",
       "Trek Bicycles     15\n",
       "OHM Cycles        15\n",
       "Norco Bicycles    12\n",
       "Name: count, dtype: int64"
      ]
     },
     "execution_count": 20,
     "metadata": {},
     "output_type": "execute_result"
    }
   ],
   "source": [
    "products['brand'].value_counts()"
   ]
  },
  {
   "cell_type": "code",
   "execution_count": 21,
   "id": "54d7e66e-c2f7-4f3f-90fe-039f50c4d33a",
   "metadata": {},
   "outputs": [
    {
     "data": {
      "text/plain": [
       "product_line\n",
       "Standard    74\n",
       "Road        19\n",
       "Touring      5\n",
       "Mountain     3\n",
       "Name: count, dtype: int64"
      ]
     },
     "execution_count": 21,
     "metadata": {},
     "output_type": "execute_result"
    }
   ],
   "source": [
    "products['product_line'].value_counts()"
   ]
  },
  {
   "cell_type": "code",
   "execution_count": 22,
   "id": "d32ce74c-323e-46ea-b5f1-2f6be7085b06",
   "metadata": {},
   "outputs": [
    {
     "data": {
      "text/plain": [
       "product_class\n",
       "medium    69\n",
       "high      17\n",
       "low       15\n",
       "Name: count, dtype: int64"
      ]
     },
     "execution_count": 22,
     "metadata": {},
     "output_type": "execute_result"
    }
   ],
   "source": [
    "products['product_class'].value_counts()"
   ]
  },
  {
   "cell_type": "code",
   "execution_count": 23,
   "id": "d6e2e72e-0e35-417e-99d1-b4f9c63234ee",
   "metadata": {},
   "outputs": [
    {
     "data": {
      "text/plain": [
       "product_size\n",
       "medium    67\n",
       "large     21\n",
       "small     13\n",
       "Name: count, dtype: int64"
      ]
     },
     "execution_count": 23,
     "metadata": {},
     "output_type": "execute_result"
    }
   ],
   "source": [
    "products['product_size'].value_counts()"
   ]
  },
  {
   "cell_type": "code",
   "execution_count": 24,
   "id": "dca8f464-7087-434e-a513-fe89e216d524",
   "metadata": {},
   "outputs": [],
   "source": [
    "from datetime import datetime, timedelta\n",
    "#convert product_first_sold_date from Excel serial numbers to datetime\n",
    "\n",
    "# Base date for Excel serial numbers (December 30, 1899)\n",
    "base_date = datetime(1899, 12, 30)\n",
    "\n",
    "# Define a function to convert Excel serial number to datetime\n",
    "def excel_to_datetime(excel_serial_number):\n",
    "    return base_date + timedelta(days=excel_serial_number)\n",
    "\n",
    "# Convert Excel serial numbers to datetime in the DataFrame column\n",
    "products['product_first_sold_date'] = products['product_first_sold_date'].apply(excel_to_datetime)"
   ]
  },
  {
   "cell_type": "code",
   "execution_count": 25,
   "id": "b31b3c48-6641-439b-9e3c-aab32d768146",
   "metadata": {},
   "outputs": [
    {
     "data": {
      "text/html": [
       "<div>\n",
       "<style scoped>\n",
       "    .dataframe tbody tr th:only-of-type {\n",
       "        vertical-align: middle;\n",
       "    }\n",
       "\n",
       "    .dataframe tbody tr th {\n",
       "        vertical-align: top;\n",
       "    }\n",
       "\n",
       "    .dataframe thead th {\n",
       "        text-align: right;\n",
       "    }\n",
       "</style>\n",
       "<table border=\"1\" class=\"dataframe\">\n",
       "  <thead>\n",
       "    <tr style=\"text-align: right;\">\n",
       "      <th></th>\n",
       "      <th>product_id</th>\n",
       "      <th>brand</th>\n",
       "      <th>product_line</th>\n",
       "      <th>product_class</th>\n",
       "      <th>product_size</th>\n",
       "      <th>list_price</th>\n",
       "      <th>standard_cost</th>\n",
       "      <th>product_first_sold_date</th>\n",
       "    </tr>\n",
       "  </thead>\n",
       "  <tbody>\n",
       "    <tr>\n",
       "      <th>48</th>\n",
       "      <td>86</td>\n",
       "      <td>OHM Cycles</td>\n",
       "      <td>Standard</td>\n",
       "      <td>medium</td>\n",
       "      <td>medium</td>\n",
       "      <td>235.63</td>\n",
       "      <td>125.07</td>\n",
       "      <td>2004-08-07</td>\n",
       "    </tr>\n",
       "    <tr>\n",
       "      <th>108</th>\n",
       "      <td>39</td>\n",
       "      <td>Giant Bicycles</td>\n",
       "      <td>Standard</td>\n",
       "      <td>medium</td>\n",
       "      <td>large</td>\n",
       "      <td>1812.75</td>\n",
       "      <td>582.48</td>\n",
       "      <td>2006-10-01</td>\n",
       "    </tr>\n",
       "    <tr>\n",
       "      <th>168</th>\n",
       "      <td>97</td>\n",
       "      <td>Solex</td>\n",
       "      <td>Standard</td>\n",
       "      <td>medium</td>\n",
       "      <td>large</td>\n",
       "      <td>202.62</td>\n",
       "      <td>151.96</td>\n",
       "      <td>2004-01-16</td>\n",
       "    </tr>\n",
       "    <tr>\n",
       "      <th>135</th>\n",
       "      <td>65</td>\n",
       "      <td>WeareA2B</td>\n",
       "      <td>Standard</td>\n",
       "      <td>medium</td>\n",
       "      <td>medium</td>\n",
       "      <td>1807.45</td>\n",
       "      <td>778.69</td>\n",
       "      <td>2015-04-11</td>\n",
       "    </tr>\n",
       "    <tr>\n",
       "      <th>42</th>\n",
       "      <td>76</td>\n",
       "      <td>WeareA2B</td>\n",
       "      <td>Standard</td>\n",
       "      <td>low</td>\n",
       "      <td>medium</td>\n",
       "      <td>642.31</td>\n",
       "      <td>513.85</td>\n",
       "      <td>2014-10-10</td>\n",
       "    </tr>\n",
       "  </tbody>\n",
       "</table>\n",
       "</div>"
      ],
      "text/plain": [
       "     product_id           brand product_line product_class product_size  \\\n",
       "48           86      OHM Cycles     Standard        medium       medium   \n",
       "108          39  Giant Bicycles     Standard        medium        large   \n",
       "168          97           Solex     Standard        medium        large   \n",
       "135          65        WeareA2B     Standard        medium       medium   \n",
       "42           76        WeareA2B     Standard           low       medium   \n",
       "\n",
       "     list_price  standard_cost product_first_sold_date  \n",
       "48       235.63         125.07              2004-08-07  \n",
       "108     1812.75         582.48              2006-10-01  \n",
       "168      202.62         151.96              2004-01-16  \n",
       "135     1807.45         778.69              2015-04-11  \n",
       "42       642.31         513.85              2014-10-10  "
      ]
     },
     "execution_count": 25,
     "metadata": {},
     "output_type": "execute_result"
    }
   ],
   "source": [
    "products.sample(n=5)"
   ]
  },
  {
   "cell_type": "code",
   "execution_count": 26,
   "id": "1da9cdd7-f53b-4c74-af51-e75b8562c11a",
   "metadata": {},
   "outputs": [
    {
     "name": "stdout",
     "output_type": "stream",
     "text": [
      "<class 'pandas.core.frame.DataFrame'>\n",
      "Index: 101 entries, 0 to 509\n",
      "Data columns (total 8 columns):\n",
      " #   Column                   Non-Null Count  Dtype         \n",
      "---  ------                   --------------  -----         \n",
      " 0   product_id               101 non-null    int64         \n",
      " 1   brand                    101 non-null    object        \n",
      " 2   product_line             101 non-null    object        \n",
      " 3   product_class            101 non-null    object        \n",
      " 4   product_size             101 non-null    object        \n",
      " 5   list_price               101 non-null    float64       \n",
      " 6   standard_cost            101 non-null    float64       \n",
      " 7   product_first_sold_date  101 non-null    datetime64[ns]\n",
      "dtypes: datetime64[ns](1), float64(2), int64(1), object(4)\n",
      "memory usage: 7.1+ KB\n"
     ]
    }
   ],
   "source": [
    "products.info()"
   ]
  },
  {
   "cell_type": "markdown",
   "id": "5d15fa9e-30a5-4b71-b461-9303aa5e1c2a",
   "metadata": {},
   "source": [
    "**Transactions**\n",
    "\n",
    "##### Overview\n",
    "The dataset initially contains 20,000 rows and 13 columns, covering transactions dated between January 1st, 2017, and December 31st, 2017. The primary aim was to preprocess and normalize the dataset for efficient analysis and storage.\n",
    "\n",
    "##### Data Normalization\n",
    "The initial step involved splitting the dataset into two separate DataFrames:\n",
    "\n",
    "- Transactions: Contains transaction-specific details such as transaction ID, customer ID, transaction date, etc. Contains 20,000 rows and 7 columns.\n",
    "- Products: Contains product-specific details including product ID, brand, product line, product class, product size, list price, standard cost, and product first sold date. Contains 101 rows and 8 columns. \n",
    "\n",
    "This normalization process enhances data integrity and facilitates efficient querying while optimizing memory storage.\n",
    "\n",
    "##### Preprocessing Steps\n",
    "1. Filled missing values in the 'online_order' column with 2 to represent an unknown status, converted it to an integer datatype, and then to a categorical datatype.\r\n",
    "2. Converted the 'order_status' column to categorical datatype.\r\n",
    "3. Converted the 'product_first_sold_date' column from Excel serial numbers to datetime format\r\n",
    "\n",
    "\n",
    "##### Quality Assurance\n",
    "1. Checked for typographical errors and ensured data accuracy and consistency.\n",
    "2. Performed duplicate check and confirmed that no duplicates were found in the dataset.\r",
    "3. Ensure appropriate data types for each column to enhance data accuracy and analysis efficiency.\r\n",
    "\n"
   ]
  },
  {
   "cell_type": "markdown",
   "id": "e61f768f-e41d-452c-abb4-c58954921e7c",
   "metadata": {},
   "source": [
    "#### NewCustomerList"
   ]
  },
  {
   "cell_type": "code",
   "execution_count": 27,
   "id": "64c90346-27e9-47c0-ae08-cbc92a0cbba6",
   "metadata": {},
   "outputs": [
    {
     "data": {
      "text/html": [
       "<div>\n",
       "<style scoped>\n",
       "    .dataframe tbody tr th:only-of-type {\n",
       "        vertical-align: middle;\n",
       "    }\n",
       "\n",
       "    .dataframe tbody tr th {\n",
       "        vertical-align: top;\n",
       "    }\n",
       "\n",
       "    .dataframe thead th {\n",
       "        text-align: right;\n",
       "    }\n",
       "</style>\n",
       "<table border=\"1\" class=\"dataframe\">\n",
       "  <thead>\n",
       "    <tr style=\"text-align: right;\">\n",
       "      <th></th>\n",
       "      <th>first_name</th>\n",
       "      <th>last_name</th>\n",
       "      <th>gender</th>\n",
       "      <th>past_3_years_bike_related_purchases</th>\n",
       "      <th>DOB</th>\n",
       "      <th>job_title</th>\n",
       "      <th>job_industry_category</th>\n",
       "      <th>wealth_segment</th>\n",
       "      <th>deceased_indicator</th>\n",
       "      <th>owns_car</th>\n",
       "      <th>...</th>\n",
       "      <th>state</th>\n",
       "      <th>country</th>\n",
       "      <th>property_valuation</th>\n",
       "      <th>Unnamed: 16</th>\n",
       "      <th>Unnamed: 17</th>\n",
       "      <th>Unnamed: 18</th>\n",
       "      <th>Unnamed: 19</th>\n",
       "      <th>Unnamed: 20</th>\n",
       "      <th>Rank</th>\n",
       "      <th>Value</th>\n",
       "    </tr>\n",
       "  </thead>\n",
       "  <tbody>\n",
       "    <tr>\n",
       "      <th>0</th>\n",
       "      <td>Chickie</td>\n",
       "      <td>Brister</td>\n",
       "      <td>Male</td>\n",
       "      <td>86</td>\n",
       "      <td>1957-07-12</td>\n",
       "      <td>General Manager</td>\n",
       "      <td>Manufacturing</td>\n",
       "      <td>Mass Customer</td>\n",
       "      <td>N</td>\n",
       "      <td>Yes</td>\n",
       "      <td>...</td>\n",
       "      <td>QLD</td>\n",
       "      <td>Australia</td>\n",
       "      <td>6</td>\n",
       "      <td>0.56</td>\n",
       "      <td>0.7000</td>\n",
       "      <td>0.8750</td>\n",
       "      <td>0.743750</td>\n",
       "      <td>1</td>\n",
       "      <td>1</td>\n",
       "      <td>1.718750</td>\n",
       "    </tr>\n",
       "    <tr>\n",
       "      <th>1</th>\n",
       "      <td>Morly</td>\n",
       "      <td>Genery</td>\n",
       "      <td>Male</td>\n",
       "      <td>69</td>\n",
       "      <td>1970-03-22</td>\n",
       "      <td>Structural Engineer</td>\n",
       "      <td>Property</td>\n",
       "      <td>Mass Customer</td>\n",
       "      <td>N</td>\n",
       "      <td>No</td>\n",
       "      <td>...</td>\n",
       "      <td>NSW</td>\n",
       "      <td>Australia</td>\n",
       "      <td>11</td>\n",
       "      <td>0.89</td>\n",
       "      <td>0.8900</td>\n",
       "      <td>1.1125</td>\n",
       "      <td>0.945625</td>\n",
       "      <td>1</td>\n",
       "      <td>1</td>\n",
       "      <td>1.718750</td>\n",
       "    </tr>\n",
       "    <tr>\n",
       "      <th>2</th>\n",
       "      <td>Ardelis</td>\n",
       "      <td>Forrester</td>\n",
       "      <td>Female</td>\n",
       "      <td>10</td>\n",
       "      <td>1974-08-28 00:00:00</td>\n",
       "      <td>Senior Cost Accountant</td>\n",
       "      <td>Financial Services</td>\n",
       "      <td>Affluent Customer</td>\n",
       "      <td>N</td>\n",
       "      <td>No</td>\n",
       "      <td>...</td>\n",
       "      <td>VIC</td>\n",
       "      <td>Australia</td>\n",
       "      <td>5</td>\n",
       "      <td>1.01</td>\n",
       "      <td>1.0100</td>\n",
       "      <td>1.0100</td>\n",
       "      <td>1.010000</td>\n",
       "      <td>1</td>\n",
       "      <td>1</td>\n",
       "      <td>1.718750</td>\n",
       "    </tr>\n",
       "    <tr>\n",
       "      <th>3</th>\n",
       "      <td>Lucine</td>\n",
       "      <td>Stutt</td>\n",
       "      <td>Female</td>\n",
       "      <td>64</td>\n",
       "      <td>1979-01-28</td>\n",
       "      <td>Account Representative III</td>\n",
       "      <td>Manufacturing</td>\n",
       "      <td>Affluent Customer</td>\n",
       "      <td>N</td>\n",
       "      <td>Yes</td>\n",
       "      <td>...</td>\n",
       "      <td>QLD</td>\n",
       "      <td>Australia</td>\n",
       "      <td>1</td>\n",
       "      <td>0.87</td>\n",
       "      <td>1.0875</td>\n",
       "      <td>1.0875</td>\n",
       "      <td>1.087500</td>\n",
       "      <td>4</td>\n",
       "      <td>4</td>\n",
       "      <td>1.703125</td>\n",
       "    </tr>\n",
       "    <tr>\n",
       "      <th>4</th>\n",
       "      <td>Melinda</td>\n",
       "      <td>Hadlee</td>\n",
       "      <td>Female</td>\n",
       "      <td>34</td>\n",
       "      <td>1965-09-21</td>\n",
       "      <td>Financial Analyst</td>\n",
       "      <td>Financial Services</td>\n",
       "      <td>Affluent Customer</td>\n",
       "      <td>N</td>\n",
       "      <td>No</td>\n",
       "      <td>...</td>\n",
       "      <td>NSW</td>\n",
       "      <td>Australia</td>\n",
       "      <td>9</td>\n",
       "      <td>0.52</td>\n",
       "      <td>0.5200</td>\n",
       "      <td>0.6500</td>\n",
       "      <td>0.650000</td>\n",
       "      <td>4</td>\n",
       "      <td>4</td>\n",
       "      <td>1.703125</td>\n",
       "    </tr>\n",
       "  </tbody>\n",
       "</table>\n",
       "<p>5 rows × 23 columns</p>\n",
       "</div>"
      ],
      "text/plain": [
       "  first_name  last_name  gender  past_3_years_bike_related_purchases  \\\n",
       "0    Chickie    Brister    Male                                   86   \n",
       "1      Morly     Genery    Male                                   69   \n",
       "2    Ardelis  Forrester  Female                                   10   \n",
       "3     Lucine      Stutt  Female                                   64   \n",
       "4    Melinda     Hadlee  Female                                   34   \n",
       "\n",
       "                   DOB                   job_title job_industry_category  \\\n",
       "0           1957-07-12             General Manager         Manufacturing   \n",
       "1           1970-03-22         Structural Engineer              Property   \n",
       "2  1974-08-28 00:00:00      Senior Cost Accountant    Financial Services   \n",
       "3           1979-01-28  Account Representative III         Manufacturing   \n",
       "4           1965-09-21           Financial Analyst    Financial Services   \n",
       "\n",
       "      wealth_segment deceased_indicator owns_car  ...  state    country  \\\n",
       "0      Mass Customer                  N      Yes  ...    QLD  Australia   \n",
       "1      Mass Customer                  N       No  ...    NSW  Australia   \n",
       "2  Affluent Customer                  N       No  ...    VIC  Australia   \n",
       "3  Affluent Customer                  N      Yes  ...    QLD  Australia   \n",
       "4  Affluent Customer                  N       No  ...    NSW  Australia   \n",
       "\n",
       "   property_valuation Unnamed: 16 Unnamed: 17  Unnamed: 18  Unnamed: 19  \\\n",
       "0                   6        0.56      0.7000       0.8750     0.743750   \n",
       "1                  11        0.89      0.8900       1.1125     0.945625   \n",
       "2                   5        1.01      1.0100       1.0100     1.010000   \n",
       "3                   1        0.87      1.0875       1.0875     1.087500   \n",
       "4                   9        0.52      0.5200       0.6500     0.650000   \n",
       "\n",
       "   Unnamed: 20  Rank     Value  \n",
       "0            1     1  1.718750  \n",
       "1            1     1  1.718750  \n",
       "2            1     1  1.718750  \n",
       "3            4     4  1.703125  \n",
       "4            4     4  1.703125  \n",
       "\n",
       "[5 rows x 23 columns]"
      ]
     },
     "execution_count": 27,
     "metadata": {},
     "output_type": "execute_result"
    }
   ],
   "source": [
    "newCustomerList.head()"
   ]
  },
  {
   "cell_type": "code",
   "execution_count": 28,
   "id": "b6832136-9228-41fc-bc14-32e43aa22305",
   "metadata": {},
   "outputs": [
    {
     "name": "stdout",
     "output_type": "stream",
     "text": [
      "<class 'pandas.core.frame.DataFrame'>\n",
      "RangeIndex: 1000 entries, 0 to 999\n",
      "Data columns (total 23 columns):\n",
      " #   Column                               Non-Null Count  Dtype  \n",
      "---  ------                               --------------  -----  \n",
      " 0   first_name                           1000 non-null   object \n",
      " 1   last_name                            971 non-null    object \n",
      " 2   gender                               1000 non-null   object \n",
      " 3   past_3_years_bike_related_purchases  1000 non-null   int64  \n",
      " 4   DOB                                  983 non-null    object \n",
      " 5   job_title                            894 non-null    object \n",
      " 6   job_industry_category                835 non-null    object \n",
      " 7   wealth_segment                       1000 non-null   object \n",
      " 8   deceased_indicator                   1000 non-null   object \n",
      " 9   owns_car                             1000 non-null   object \n",
      " 10  tenure                               1000 non-null   int64  \n",
      " 11  address                              1000 non-null   object \n",
      " 12  postcode                             1000 non-null   int64  \n",
      " 13  state                                1000 non-null   object \n",
      " 14  country                              1000 non-null   object \n",
      " 15  property_valuation                   1000 non-null   int64  \n",
      " 16  Unnamed: 16                          1000 non-null   float64\n",
      " 17  Unnamed: 17                          1000 non-null   float64\n",
      " 18  Unnamed: 18                          1000 non-null   float64\n",
      " 19  Unnamed: 19                          1000 non-null   float64\n",
      " 20  Unnamed: 20                          1000 non-null   int64  \n",
      " 21  Rank                                 1000 non-null   int64  \n",
      " 22  Value                                1000 non-null   float64\n",
      "dtypes: float64(5), int64(6), object(12)\n",
      "memory usage: 179.8+ KB\n"
     ]
    }
   ],
   "source": [
    "newCustomerList.info()"
   ]
  },
  {
   "cell_type": "code",
   "execution_count": 29,
   "id": "4bd02cc0-2c4d-4642-8530-ee4d21ee919a",
   "metadata": {},
   "outputs": [],
   "source": [
    "newCustomerList = newCustomerList.iloc[:, :16]"
   ]
  },
  {
   "cell_type": "code",
   "execution_count": 30,
   "id": "d4adf335-cfc5-41e3-b128-e878704c26c1",
   "metadata": {},
   "outputs": [
    {
     "name": "stdout",
     "output_type": "stream",
     "text": [
      "<class 'pandas.core.frame.DataFrame'>\n",
      "RangeIndex: 1000 entries, 0 to 999\n",
      "Data columns (total 16 columns):\n",
      " #   Column                               Non-Null Count  Dtype \n",
      "---  ------                               --------------  ----- \n",
      " 0   first_name                           1000 non-null   object\n",
      " 1   last_name                            971 non-null    object\n",
      " 2   gender                               1000 non-null   object\n",
      " 3   past_3_years_bike_related_purchases  1000 non-null   int64 \n",
      " 4   DOB                                  983 non-null    object\n",
      " 5   job_title                            894 non-null    object\n",
      " 6   job_industry_category                835 non-null    object\n",
      " 7   wealth_segment                       1000 non-null   object\n",
      " 8   deceased_indicator                   1000 non-null   object\n",
      " 9   owns_car                             1000 non-null   object\n",
      " 10  tenure                               1000 non-null   int64 \n",
      " 11  address                              1000 non-null   object\n",
      " 12  postcode                             1000 non-null   int64 \n",
      " 13  state                                1000 non-null   object\n",
      " 14  country                              1000 non-null   object\n",
      " 15  property_valuation                   1000 non-null   int64 \n",
      "dtypes: int64(4), object(12)\n",
      "memory usage: 125.1+ KB\n"
     ]
    }
   ],
   "source": [
    "newCustomerList.info()"
   ]
  },
  {
   "cell_type": "code",
   "execution_count": 31,
   "id": "5bb880c6-0c1c-4dfc-b56b-1fbaa9f2a4e5",
   "metadata": {},
   "outputs": [
    {
     "data": {
      "text/html": [
       "<div>\n",
       "<style scoped>\n",
       "    .dataframe tbody tr th:only-of-type {\n",
       "        vertical-align: middle;\n",
       "    }\n",
       "\n",
       "    .dataframe tbody tr th {\n",
       "        vertical-align: top;\n",
       "    }\n",
       "\n",
       "    .dataframe thead th {\n",
       "        text-align: right;\n",
       "    }\n",
       "</style>\n",
       "<table border=\"1\" class=\"dataframe\">\n",
       "  <thead>\n",
       "    <tr style=\"text-align: right;\">\n",
       "      <th></th>\n",
       "      <th>first_name</th>\n",
       "      <th>last_name</th>\n",
       "      <th>gender</th>\n",
       "      <th>past_3_years_bike_related_purchases</th>\n",
       "      <th>DOB</th>\n",
       "      <th>job_title</th>\n",
       "      <th>job_industry_category</th>\n",
       "      <th>wealth_segment</th>\n",
       "      <th>deceased_indicator</th>\n",
       "      <th>owns_car</th>\n",
       "      <th>tenure</th>\n",
       "      <th>address</th>\n",
       "      <th>postcode</th>\n",
       "      <th>state</th>\n",
       "      <th>country</th>\n",
       "      <th>property_valuation</th>\n",
       "    </tr>\n",
       "  </thead>\n",
       "  <tbody>\n",
       "    <tr>\n",
       "      <th>0</th>\n",
       "      <td>Chickie</td>\n",
       "      <td>Brister</td>\n",
       "      <td>Male</td>\n",
       "      <td>86</td>\n",
       "      <td>1957-07-12</td>\n",
       "      <td>General Manager</td>\n",
       "      <td>Manufacturing</td>\n",
       "      <td>Mass Customer</td>\n",
       "      <td>N</td>\n",
       "      <td>Yes</td>\n",
       "      <td>14</td>\n",
       "      <td>45 Shopko Center</td>\n",
       "      <td>4500</td>\n",
       "      <td>QLD</td>\n",
       "      <td>Australia</td>\n",
       "      <td>6</td>\n",
       "    </tr>\n",
       "    <tr>\n",
       "      <th>1</th>\n",
       "      <td>Morly</td>\n",
       "      <td>Genery</td>\n",
       "      <td>Male</td>\n",
       "      <td>69</td>\n",
       "      <td>1970-03-22</td>\n",
       "      <td>Structural Engineer</td>\n",
       "      <td>Property</td>\n",
       "      <td>Mass Customer</td>\n",
       "      <td>N</td>\n",
       "      <td>No</td>\n",
       "      <td>16</td>\n",
       "      <td>14 Mccormick Park</td>\n",
       "      <td>2113</td>\n",
       "      <td>NSW</td>\n",
       "      <td>Australia</td>\n",
       "      <td>11</td>\n",
       "    </tr>\n",
       "    <tr>\n",
       "      <th>2</th>\n",
       "      <td>Ardelis</td>\n",
       "      <td>Forrester</td>\n",
       "      <td>Female</td>\n",
       "      <td>10</td>\n",
       "      <td>1974-08-28 00:00:00</td>\n",
       "      <td>Senior Cost Accountant</td>\n",
       "      <td>Financial Services</td>\n",
       "      <td>Affluent Customer</td>\n",
       "      <td>N</td>\n",
       "      <td>No</td>\n",
       "      <td>10</td>\n",
       "      <td>5 Colorado Crossing</td>\n",
       "      <td>3505</td>\n",
       "      <td>VIC</td>\n",
       "      <td>Australia</td>\n",
       "      <td>5</td>\n",
       "    </tr>\n",
       "    <tr>\n",
       "      <th>3</th>\n",
       "      <td>Lucine</td>\n",
       "      <td>Stutt</td>\n",
       "      <td>Female</td>\n",
       "      <td>64</td>\n",
       "      <td>1979-01-28</td>\n",
       "      <td>Account Representative III</td>\n",
       "      <td>Manufacturing</td>\n",
       "      <td>Affluent Customer</td>\n",
       "      <td>N</td>\n",
       "      <td>Yes</td>\n",
       "      <td>5</td>\n",
       "      <td>207 Annamark Plaza</td>\n",
       "      <td>4814</td>\n",
       "      <td>QLD</td>\n",
       "      <td>Australia</td>\n",
       "      <td>1</td>\n",
       "    </tr>\n",
       "    <tr>\n",
       "      <th>4</th>\n",
       "      <td>Melinda</td>\n",
       "      <td>Hadlee</td>\n",
       "      <td>Female</td>\n",
       "      <td>34</td>\n",
       "      <td>1965-09-21</td>\n",
       "      <td>Financial Analyst</td>\n",
       "      <td>Financial Services</td>\n",
       "      <td>Affluent Customer</td>\n",
       "      <td>N</td>\n",
       "      <td>No</td>\n",
       "      <td>19</td>\n",
       "      <td>115 Montana Place</td>\n",
       "      <td>2093</td>\n",
       "      <td>NSW</td>\n",
       "      <td>Australia</td>\n",
       "      <td>9</td>\n",
       "    </tr>\n",
       "  </tbody>\n",
       "</table>\n",
       "</div>"
      ],
      "text/plain": [
       "  first_name  last_name  gender  past_3_years_bike_related_purchases  \\\n",
       "0    Chickie    Brister    Male                                   86   \n",
       "1      Morly     Genery    Male                                   69   \n",
       "2    Ardelis  Forrester  Female                                   10   \n",
       "3     Lucine      Stutt  Female                                   64   \n",
       "4    Melinda     Hadlee  Female                                   34   \n",
       "\n",
       "                   DOB                   job_title job_industry_category  \\\n",
       "0           1957-07-12             General Manager         Manufacturing   \n",
       "1           1970-03-22         Structural Engineer              Property   \n",
       "2  1974-08-28 00:00:00      Senior Cost Accountant    Financial Services   \n",
       "3           1979-01-28  Account Representative III         Manufacturing   \n",
       "4           1965-09-21           Financial Analyst    Financial Services   \n",
       "\n",
       "      wealth_segment deceased_indicator owns_car  tenure              address  \\\n",
       "0      Mass Customer                  N      Yes      14     45 Shopko Center   \n",
       "1      Mass Customer                  N       No      16    14 Mccormick Park   \n",
       "2  Affluent Customer                  N       No      10  5 Colorado Crossing   \n",
       "3  Affluent Customer                  N      Yes       5   207 Annamark Plaza   \n",
       "4  Affluent Customer                  N       No      19    115 Montana Place   \n",
       "\n",
       "   postcode state    country  property_valuation  \n",
       "0      4500   QLD  Australia                   6  \n",
       "1      2113   NSW  Australia                  11  \n",
       "2      3505   VIC  Australia                   5  \n",
       "3      4814   QLD  Australia                   1  \n",
       "4      2093   NSW  Australia                   9  "
      ]
     },
     "execution_count": 31,
     "metadata": {},
     "output_type": "execute_result"
    }
   ],
   "source": [
    "newCustomerList.head()"
   ]
  },
  {
   "cell_type": "code",
   "execution_count": 32,
   "id": "923dc234-a8f8-4140-aebb-dc73a39a2a0f",
   "metadata": {},
   "outputs": [
    {
     "data": {
      "text/plain": [
       "job_industry_category\n",
       "Financial Services    203\n",
       "Manufacturing         199\n",
       "Health                152\n",
       "Retail                 78\n",
       "Property               64\n",
       "IT                     51\n",
       "Entertainment          37\n",
       "Argiculture            26\n",
       "Telecommunications     25\n",
       "Name: count, dtype: int64"
      ]
     },
     "execution_count": 32,
     "metadata": {},
     "output_type": "execute_result"
    }
   ],
   "source": [
    "newCustomerList['job_industry_category'].value_counts()"
   ]
  },
  {
   "cell_type": "code",
   "execution_count": 33,
   "id": "3125aa1a-04c5-4aa9-bd20-dc81d934dd94",
   "metadata": {},
   "outputs": [
    {
     "data": {
      "text/plain": [
       "wealth_segment\n",
       "Mass Customer        508\n",
       "High Net Worth       251\n",
       "Affluent Customer    241\n",
       "Name: count, dtype: int64"
      ]
     },
     "execution_count": 33,
     "metadata": {},
     "output_type": "execute_result"
    }
   ],
   "source": [
    "newCustomerList['wealth_segment'].value_counts()"
   ]
  },
  {
   "cell_type": "code",
   "execution_count": 34,
   "id": "580b4784-eb2b-4217-80dd-67f60e3c4728",
   "metadata": {},
   "outputs": [
    {
     "data": {
      "text/plain": [
       "deceased_indicator\n",
       "N    1000\n",
       "Name: count, dtype: int64"
      ]
     },
     "execution_count": 34,
     "metadata": {},
     "output_type": "execute_result"
    }
   ],
   "source": [
    "newCustomerList['deceased_indicator'].value_counts()"
   ]
  },
  {
   "cell_type": "code",
   "execution_count": 35,
   "id": "d8c70488-b01d-4664-a030-9f1204767cbb",
   "metadata": {},
   "outputs": [
    {
     "data": {
      "text/plain": [
       "owns_car\n",
       "No     507\n",
       "Yes    493\n",
       "Name: count, dtype: int64"
      ]
     },
     "execution_count": 35,
     "metadata": {},
     "output_type": "execute_result"
    }
   ],
   "source": [
    "newCustomerList['owns_car'].value_counts()"
   ]
  },
  {
   "cell_type": "code",
   "execution_count": 36,
   "id": "a4fb2532-1fac-4c0b-82c7-9eb22b90cd05",
   "metadata": {},
   "outputs": [
    {
     "data": {
      "text/plain": [
       "state\n",
       "NSW    506\n",
       "VIC    266\n",
       "QLD    228\n",
       "Name: count, dtype: int64"
      ]
     },
     "execution_count": 36,
     "metadata": {},
     "output_type": "execute_result"
    }
   ],
   "source": [
    "newCustomerList['state'].value_counts()"
   ]
  },
  {
   "cell_type": "code",
   "execution_count": 37,
   "id": "817116fc-a20d-4629-af5b-2562ca7d1a60",
   "metadata": {},
   "outputs": [
    {
     "data": {
      "text/plain": [
       "country\n",
       "Australia    1000\n",
       "Name: count, dtype: int64"
      ]
     },
     "execution_count": 37,
     "metadata": {},
     "output_type": "execute_result"
    }
   ],
   "source": [
    "newCustomerList['country'].value_counts()"
   ]
  },
  {
   "cell_type": "code",
   "execution_count": 38,
   "id": "d076cdc6-dc6d-47da-9d6f-5441861ecfc2",
   "metadata": {},
   "outputs": [
    {
     "data": {
      "text/html": [
       "<div>\n",
       "<style scoped>\n",
       "    .dataframe tbody tr th:only-of-type {\n",
       "        vertical-align: middle;\n",
       "    }\n",
       "\n",
       "    .dataframe tbody tr th {\n",
       "        vertical-align: top;\n",
       "    }\n",
       "\n",
       "    .dataframe thead th {\n",
       "        text-align: right;\n",
       "    }\n",
       "</style>\n",
       "<table border=\"1\" class=\"dataframe\">\n",
       "  <thead>\n",
       "    <tr style=\"text-align: right;\">\n",
       "      <th></th>\n",
       "      <th>first_name</th>\n",
       "      <th>last_name</th>\n",
       "      <th>gender</th>\n",
       "      <th>past_3_years_bike_related_purchases</th>\n",
       "      <th>DOB</th>\n",
       "      <th>job_title</th>\n",
       "      <th>job_industry_category</th>\n",
       "      <th>wealth_segment</th>\n",
       "      <th>deceased_indicator</th>\n",
       "      <th>owns_car</th>\n",
       "      <th>tenure</th>\n",
       "      <th>address</th>\n",
       "      <th>postcode</th>\n",
       "      <th>state</th>\n",
       "      <th>country</th>\n",
       "      <th>property_valuation</th>\n",
       "    </tr>\n",
       "  </thead>\n",
       "  <tbody>\n",
       "  </tbody>\n",
       "</table>\n",
       "</div>"
      ],
      "text/plain": [
       "Empty DataFrame\n",
       "Columns: [first_name, last_name, gender, past_3_years_bike_related_purchases, DOB, job_title, job_industry_category, wealth_segment, deceased_indicator, owns_car, tenure, address, postcode, state, country, property_valuation]\n",
       "Index: []"
      ]
     },
     "execution_count": 38,
     "metadata": {},
     "output_type": "execute_result"
    }
   ],
   "source": [
    "newCustomerList[newCustomerList.duplicated()]"
   ]
  },
  {
   "cell_type": "markdown",
   "id": "587104e3-b468-4ab8-9c12-2fa4807ccdb9",
   "metadata": {},
   "source": [
    "#### NewCustomerList\n",
    "\n",
    "##### Overview\n",
    "The dataset initially contains 1,000 rows and 16 columns. \n",
    "\n",
    "**Data Cleaning**\n",
    "- Irrelevant columns were dropped.\n",
    "\n",
    "**Quality Assurance**\n",
    "- Checked for typographical errors and ensured data accuracy and consistency.\n",
    "- Performed duplicate check and confirmed that no duplicates were found in the dataset.\n",
    "- Ensure appropriate data types for each column to enhance data accuracy and analysis efficiency."
   ]
  },
  {
   "cell_type": "markdown",
   "id": "70050e53-75be-45d8-a2ea-e0db376687a7",
   "metadata": {},
   "source": [
    "**NewCustomerList**\r\n",
    "\r\n",
    "##### Overview\r\n",
    "The dataset initially contains 1,000 rows a23 16 columns.**Preprocessing Steps**\r\n",
    "ng**\r\n",
    "- Irrelevant(7) columns were dropped.\r\n",
    "\r\n",
    "**Quality Assurance**\r\n",
    "- Checked for typographical errors and ensured data accuracy and consistency.\r\n",
    "- Performed duplicate check and confirmed that no duplicates were found in the dataset.\r\n",
    "- Ensure appropriate data types for each column to enhance data accuracy and analysis. \r\n",
    "\r\n",
    "The final dataset now contains 1,000 rows and 16 columns. 6 columns. ficiency.\r\n",
    "\r\n"
   ]
  },
  {
   "cell_type": "markdown",
   "id": "832dad4c-d639-4ae3-9869-e606a8957a22",
   "metadata": {},
   "source": [
    "#### CustomerDemographic"
   ]
  },
  {
   "cell_type": "code",
   "execution_count": 39,
   "id": "b40eb01e-ff58-429c-9617-fe91381e7163",
   "metadata": {},
   "outputs": [
    {
     "data": {
      "text/html": [
       "<div>\n",
       "<style scoped>\n",
       "    .dataframe tbody tr th:only-of-type {\n",
       "        vertical-align: middle;\n",
       "    }\n",
       "\n",
       "    .dataframe tbody tr th {\n",
       "        vertical-align: top;\n",
       "    }\n",
       "\n",
       "    .dataframe thead th {\n",
       "        text-align: right;\n",
       "    }\n",
       "</style>\n",
       "<table border=\"1\" class=\"dataframe\">\n",
       "  <thead>\n",
       "    <tr style=\"text-align: right;\">\n",
       "      <th></th>\n",
       "      <th>customer_id</th>\n",
       "      <th>first_name</th>\n",
       "      <th>last_name</th>\n",
       "      <th>gender</th>\n",
       "      <th>past_3_years_bike_related_purchases</th>\n",
       "      <th>DOB</th>\n",
       "      <th>job_title</th>\n",
       "      <th>job_industry_category</th>\n",
       "      <th>wealth_segment</th>\n",
       "      <th>deceased_indicator</th>\n",
       "      <th>default</th>\n",
       "      <th>owns_car</th>\n",
       "      <th>tenure</th>\n",
       "    </tr>\n",
       "  </thead>\n",
       "  <tbody>\n",
       "    <tr>\n",
       "      <th>2576</th>\n",
       "      <td>2577</td>\n",
       "      <td>Thor</td>\n",
       "      <td>Rickardsson</td>\n",
       "      <td>Male</td>\n",
       "      <td>78</td>\n",
       "      <td>1976-03-19 00:00:00</td>\n",
       "      <td>Operator</td>\n",
       "      <td>NaN</td>\n",
       "      <td>Mass Customer</td>\n",
       "      <td>N</td>\n",
       "      <td>â°â´âµ</td>\n",
       "      <td>Yes</td>\n",
       "      <td>10.0</td>\n",
       "    </tr>\n",
       "    <tr>\n",
       "      <th>664</th>\n",
       "      <td>665</td>\n",
       "      <td>Chan</td>\n",
       "      <td>Kirckman</td>\n",
       "      <td>Male</td>\n",
       "      <td>82</td>\n",
       "      <td>1997-04-19 00:00:00</td>\n",
       "      <td>Human Resources Assistant I</td>\n",
       "      <td>NaN</td>\n",
       "      <td>Mass Customer</td>\n",
       "      <td>N</td>\n",
       "      <td>1000000000000000049861653971908893017010268485...</td>\n",
       "      <td>No</td>\n",
       "      <td>5.0</td>\n",
       "    </tr>\n",
       "    <tr>\n",
       "      <th>39</th>\n",
       "      <td>40</td>\n",
       "      <td>Tomasine</td>\n",
       "      <td>Jerche</td>\n",
       "      <td>Female</td>\n",
       "      <td>91</td>\n",
       "      <td>1981-10-27 00:00:00</td>\n",
       "      <td>Payment Adjustment Coordinator</td>\n",
       "      <td>Manufacturing</td>\n",
       "      <td>Affluent Customer</td>\n",
       "      <td>N</td>\n",
       "      <td>Ì¦HÍÌ¬Ì¤ÌÌ¤eÍ ÍÌÌ¥ÌÌ»ÍÌwÌhÌÌ¯ÍoÌÍÌÍÌ±Ì® ÒÌºÌÌÌ...</td>\n",
       "      <td>No</td>\n",
       "      <td>14.0</td>\n",
       "    </tr>\n",
       "    <tr>\n",
       "      <th>2452</th>\n",
       "      <td>2453</td>\n",
       "      <td>Ruthe</td>\n",
       "      <td>Campe</td>\n",
       "      <td>Female</td>\n",
       "      <td>22</td>\n",
       "      <td>1992-08-05 00:00:00</td>\n",
       "      <td>Safety Technician II</td>\n",
       "      <td>Telecommunications</td>\n",
       "      <td>High Net Worth</td>\n",
       "      <td>N</td>\n",
       "      <td>1</td>\n",
       "      <td>No</td>\n",
       "      <td>9.0</td>\n",
       "    </tr>\n",
       "    <tr>\n",
       "      <th>2983</th>\n",
       "      <td>2984</td>\n",
       "      <td>Frances</td>\n",
       "      <td>Mishaw</td>\n",
       "      <td>Female</td>\n",
       "      <td>48</td>\n",
       "      <td>1959-05-23 00:00:00</td>\n",
       "      <td>Payment Adjustment Coordinator</td>\n",
       "      <td>Manufacturing</td>\n",
       "      <td>Mass Customer</td>\n",
       "      <td>N</td>\n",
       "      <td>Ù¡Ù¢Ù£</td>\n",
       "      <td>Yes</td>\n",
       "      <td>13.0</td>\n",
       "    </tr>\n",
       "  </tbody>\n",
       "</table>\n",
       "</div>"
      ],
      "text/plain": [
       "      customer_id first_name    last_name  gender  \\\n",
       "2576         2577       Thor  Rickardsson    Male   \n",
       "664           665       Chan     Kirckman    Male   \n",
       "39             40   Tomasine       Jerche  Female   \n",
       "2452         2453      Ruthe        Campe  Female   \n",
       "2983         2984    Frances       Mishaw  Female   \n",
       "\n",
       "      past_3_years_bike_related_purchases                  DOB  \\\n",
       "2576                                   78  1976-03-19 00:00:00   \n",
       "664                                    82  1997-04-19 00:00:00   \n",
       "39                                     91  1981-10-27 00:00:00   \n",
       "2452                                   22  1992-08-05 00:00:00   \n",
       "2983                                   48  1959-05-23 00:00:00   \n",
       "\n",
       "                           job_title job_industry_category     wealth_segment  \\\n",
       "2576                        Operator                   NaN      Mass Customer   \n",
       "664      Human Resources Assistant I                   NaN      Mass Customer   \n",
       "39    Payment Adjustment Coordinator         Manufacturing  Affluent Customer   \n",
       "2452            Safety Technician II    Telecommunications     High Net Worth   \n",
       "2983  Payment Adjustment Coordinator         Manufacturing      Mass Customer   \n",
       "\n",
       "     deceased_indicator                                            default  \\\n",
       "2576                  N                                             â°â´âµ   \n",
       "664                   N  1000000000000000049861653971908893017010268485...   \n",
       "39                    N  Ì¦HÍÌ¬Ì¤ÌÌ¤eÍ ÍÌÌ¥ÌÌ»ÍÌwÌhÌÌ¯ÍoÌÍÌÍÌ±Ì® ÒÌºÌÌÌ...   \n",
       "2452                  N                                                  1   \n",
       "2983                  N                                             Ù¡Ù¢Ù£   \n",
       "\n",
       "     owns_car  tenure  \n",
       "2576      Yes    10.0  \n",
       "664        No     5.0  \n",
       "39         No    14.0  \n",
       "2452       No     9.0  \n",
       "2983      Yes    13.0  "
      ]
     },
     "execution_count": 39,
     "metadata": {},
     "output_type": "execute_result"
    }
   ],
   "source": [
    "customerDemographic.sample(n=5)"
   ]
  },
  {
   "cell_type": "code",
   "execution_count": 40,
   "id": "485b6e6f-6384-4e44-ae66-3816c3fb4c01",
   "metadata": {},
   "outputs": [
    {
     "name": "stdout",
     "output_type": "stream",
     "text": [
      "<class 'pandas.core.frame.DataFrame'>\n",
      "RangeIndex: 4000 entries, 0 to 3999\n",
      "Data columns (total 13 columns):\n",
      " #   Column                               Non-Null Count  Dtype  \n",
      "---  ------                               --------------  -----  \n",
      " 0   customer_id                          4000 non-null   int64  \n",
      " 1   first_name                           4000 non-null   object \n",
      " 2   last_name                            3875 non-null   object \n",
      " 3   gender                               4000 non-null   object \n",
      " 4   past_3_years_bike_related_purchases  4000 non-null   int64  \n",
      " 5   DOB                                  3913 non-null   object \n",
      " 6   job_title                            3494 non-null   object \n",
      " 7   job_industry_category                3344 non-null   object \n",
      " 8   wealth_segment                       4000 non-null   object \n",
      " 9   deceased_indicator                   4000 non-null   object \n",
      " 10  default                              3698 non-null   object \n",
      " 11  owns_car                             4000 non-null   object \n",
      " 12  tenure                               3913 non-null   float64\n",
      "dtypes: float64(1), int64(2), object(10)\n",
      "memory usage: 406.4+ KB\n"
     ]
    }
   ],
   "source": [
    "customerDemographic.info()"
   ]
  },
  {
   "cell_type": "code",
   "execution_count": 41,
   "id": "c5b35ee7-ad75-4b3f-a25d-7f31a8c7c2b0",
   "metadata": {},
   "outputs": [
    {
     "data": {
      "text/plain": [
       "gender\n",
       "Female    2037\n",
       "Male      1872\n",
       "U           88\n",
       "F            1\n",
       "Femal        1\n",
       "M            1\n",
       "Name: count, dtype: int64"
      ]
     },
     "execution_count": 41,
     "metadata": {},
     "output_type": "execute_result"
    }
   ],
   "source": [
    "customerDemographic['gender'].value_counts()"
   ]
  },
  {
   "cell_type": "code",
   "execution_count": 42,
   "id": "69145b7c-2e2d-4c9c-9304-09aada994e48",
   "metadata": {},
   "outputs": [],
   "source": [
    "customerDemographic['gender'].replace({'Femal': 'Female', 'F': 'Female', 'M': 'Male'}, inplace=True)"
   ]
  },
  {
   "cell_type": "code",
   "execution_count": 43,
   "id": "6dd87e02-626a-4aa5-9163-6301b5146322",
   "metadata": {},
   "outputs": [
    {
     "data": {
      "text/plain": [
       "gender\n",
       "Female    2039\n",
       "Male      1873\n",
       "U           88\n",
       "Name: count, dtype: int64"
      ]
     },
     "execution_count": 43,
     "metadata": {},
     "output_type": "execute_result"
    }
   ],
   "source": [
    "customerDemographic['gender'].value_counts()"
   ]
  },
  {
   "cell_type": "code",
   "execution_count": 44,
   "id": "5f9d59ef-8424-4a5d-b8f8-a5eb8318000f",
   "metadata": {},
   "outputs": [],
   "source": [
    "customerDemographic['DOB'] = pd.to_datetime(customerDemographic['DOB'])"
   ]
  },
  {
   "cell_type": "code",
   "execution_count": 45,
   "id": "382a97d5-41a2-4aaa-8977-dcb22b796c10",
   "metadata": {},
   "outputs": [
    {
     "data": {
      "text/plain": [
       "Timestamp('1843-12-21 00:00:00')"
      ]
     },
     "execution_count": 45,
     "metadata": {},
     "output_type": "execute_result"
    }
   ],
   "source": [
    "customerDemographic['DOB'].min()"
   ]
  },
  {
   "cell_type": "code",
   "execution_count": 46,
   "id": "45e104c4-52ec-4fbb-aa12-fa7ff006f69c",
   "metadata": {},
   "outputs": [],
   "source": [
    "customerDemographic['age'] = 2017 - customerDemographic['DOB'].dt.year"
   ]
  },
  {
   "cell_type": "code",
   "execution_count": 47,
   "id": "fd11388a-e66d-4c28-b70f-ef9c10198a30",
   "metadata": {},
   "outputs": [
    {
     "data": {
      "image/png": "[encoded data removed]",
      "text/plain": [
       "<Figure size 640x480 with 1 Axes>"
      ]
     },
     "metadata": {},
     "output_type": "display_data"
    }
   ],
   "source": [
    "sns.boxplot(data = customerDemographic, x ='age')\n",
    "plt.show()"
   ]
  },
  {
   "cell_type": "code",
   "execution_count": 48,
   "id": "7a480496-991a-4ff5-a633-90ffb1ccbbb5",
   "metadata": {},
   "outputs": [],
   "source": [
    "#considering it might be typo for the DOB of 1843, I'd replace it with 1943\n",
    "\n",
    "customerDemographic.loc[customerDemographic['DOB'].dt.year == 1843, 'DOB'] += pd.DateOffset(years=100)"
   ]
  },
  {
   "cell_type": "code",
   "execution_count": 49,
   "id": "7ee4083f-e769-4b75-825d-c9657eccf15d",
   "metadata": {},
   "outputs": [],
   "source": [
    "customerDemographic['age'] = 2017 - customerDemographic['DOB'].dt.year"
   ]
  },
  {
   "cell_type": "code",
   "execution_count": 50,
   "id": "97ff5634-6b0e-4163-a780-a4f67a62ed7e",
   "metadata": {},
   "outputs": [
    {
     "data": {
      "image/png": "[encoded data removed]",
      "text/plain": [
       "<Figure size 640x480 with 1 Axes>"
      ]
     },
     "metadata": {},
     "output_type": "display_data"
    }
   ],
   "source": [
    "sns.boxplot(data = customerDemographic, x ='age')\n",
    "plt.show()"
   ]
  },
  {
   "cell_type": "code",
   "execution_count": 51,
   "id": "af157e27-3bae-4d09-88d0-4b5a498ff31f",
   "metadata": {},
   "outputs": [
    {
     "data": {
      "text/plain": [
       "job_title\n",
       "Business Systems Development Analyst    45\n",
       "Tax Accountant                          44\n",
       "Social Worker                           44\n",
       "Internal Auditor                        42\n",
       "Recruiting Manager                      41\n",
       "                                        ..\n",
       "Database Administrator I                 4\n",
       "Health Coach I                           3\n",
       "Health Coach III                         3\n",
       "Research Assistant III                   3\n",
       "Developer I                              1\n",
       "Name: count, Length: 195, dtype: int64"
      ]
     },
     "execution_count": 51,
     "metadata": {},
     "output_type": "execute_result"
    }
   ],
   "source": [
    "customerDemographic['job_title'].value_counts()"
   ]
  },
  {
   "cell_type": "code",
   "execution_count": 52,
   "id": "d4e52558-ca39-446e-a184-bd97700802e1",
   "metadata": {},
   "outputs": [
    {
     "data": {
      "text/plain": [
       "job_industry_category\n",
       "Manufacturing         799\n",
       "Financial Services    774\n",
       "Health                602\n",
       "Retail                358\n",
       "Property              267\n",
       "IT                    223\n",
       "Entertainment         136\n",
       "Argiculture           113\n",
       "Telecommunications     72\n",
       "Name: count, dtype: int64"
      ]
     },
     "execution_count": 52,
     "metadata": {},
     "output_type": "execute_result"
    }
   ],
   "source": [
    "customerDemographic['job_industry_category'].value_counts()"
   ]
  },
  {
   "cell_type": "code",
   "execution_count": 53,
   "id": "346a80a1-f19a-48a0-aa1b-c2a5fae328a1",
   "metadata": {},
   "outputs": [
    {
     "data": {
      "text/plain": [
       "wealth_segment\n",
       "Mass Customer        2000\n",
       "High Net Worth       1021\n",
       "Affluent Customer     979\n",
       "Name: count, dtype: int64"
      ]
     },
     "execution_count": 53,
     "metadata": {},
     "output_type": "execute_result"
    }
   ],
   "source": [
    "customerDemographic['wealth_segment'].value_counts()"
   ]
  },
  {
   "cell_type": "code",
   "execution_count": 54,
   "id": "b73f88f5-c9b3-43c3-846f-27b968a9faaa",
   "metadata": {},
   "outputs": [
    {
     "data": {
      "text/plain": [
       "owns_car\n",
       "Yes    2024\n",
       "No     1976\n",
       "Name: count, dtype: int64"
      ]
     },
     "execution_count": 54,
     "metadata": {},
     "output_type": "execute_result"
    }
   ],
   "source": [
    "customerDemographic['owns_car'].value_counts()"
   ]
  },
  {
   "cell_type": "code",
   "execution_count": 55,
   "id": "74b12570-5a11-4255-9a6b-cd0a1511a45a",
   "metadata": {},
   "outputs": [],
   "source": [
    "customerDemographic.drop(columns=['default'],inplace=True)"
   ]
  },
  {
   "cell_type": "code",
   "execution_count": 56,
   "id": "950617d1-6c28-45e9-b9f0-2aa4bcf9e81c",
   "metadata": {},
   "outputs": [
    {
     "data": {
      "text/html": [
       "<div>\n",
       "<style scoped>\n",
       "    .dataframe tbody tr th:only-of-type {\n",
       "        vertical-align: middle;\n",
       "    }\n",
       "\n",
       "    .dataframe tbody tr th {\n",
       "        vertical-align: top;\n",
       "    }\n",
       "\n",
       "    .dataframe thead th {\n",
       "        text-align: right;\n",
       "    }\n",
       "</style>\n",
       "<table border=\"1\" class=\"dataframe\">\n",
       "  <thead>\n",
       "    <tr style=\"text-align: right;\">\n",
       "      <th></th>\n",
       "      <th>customer_id</th>\n",
       "      <th>first_name</th>\n",
       "      <th>last_name</th>\n",
       "      <th>gender</th>\n",
       "      <th>past_3_years_bike_related_purchases</th>\n",
       "      <th>DOB</th>\n",
       "      <th>job_title</th>\n",
       "      <th>job_industry_category</th>\n",
       "      <th>wealth_segment</th>\n",
       "      <th>deceased_indicator</th>\n",
       "      <th>owns_car</th>\n",
       "      <th>tenure</th>\n",
       "      <th>age</th>\n",
       "    </tr>\n",
       "  </thead>\n",
       "  <tbody>\n",
       "    <tr>\n",
       "      <th>0</th>\n",
       "      <td>1</td>\n",
       "      <td>Laraine</td>\n",
       "      <td>Medendorp</td>\n",
       "      <td>Female</td>\n",
       "      <td>93</td>\n",
       "      <td>1953-10-12</td>\n",
       "      <td>Executive Secretary</td>\n",
       "      <td>Health</td>\n",
       "      <td>Mass Customer</td>\n",
       "      <td>N</td>\n",
       "      <td>Yes</td>\n",
       "      <td>11.0</td>\n",
       "      <td>64.0</td>\n",
       "    </tr>\n",
       "    <tr>\n",
       "      <th>1</th>\n",
       "      <td>2</td>\n",
       "      <td>Eli</td>\n",
       "      <td>Bockman</td>\n",
       "      <td>Male</td>\n",
       "      <td>81</td>\n",
       "      <td>1980-12-16</td>\n",
       "      <td>Administrative Officer</td>\n",
       "      <td>Financial Services</td>\n",
       "      <td>Mass Customer</td>\n",
       "      <td>N</td>\n",
       "      <td>Yes</td>\n",
       "      <td>16.0</td>\n",
       "      <td>37.0</td>\n",
       "    </tr>\n",
       "    <tr>\n",
       "      <th>2</th>\n",
       "      <td>3</td>\n",
       "      <td>Arlin</td>\n",
       "      <td>Dearle</td>\n",
       "      <td>Male</td>\n",
       "      <td>61</td>\n",
       "      <td>1954-01-20</td>\n",
       "      <td>Recruiting Manager</td>\n",
       "      <td>Property</td>\n",
       "      <td>Mass Customer</td>\n",
       "      <td>N</td>\n",
       "      <td>Yes</td>\n",
       "      <td>15.0</td>\n",
       "      <td>63.0</td>\n",
       "    </tr>\n",
       "    <tr>\n",
       "      <th>3</th>\n",
       "      <td>4</td>\n",
       "      <td>Talbot</td>\n",
       "      <td>NaN</td>\n",
       "      <td>Male</td>\n",
       "      <td>33</td>\n",
       "      <td>1961-10-03</td>\n",
       "      <td>NaN</td>\n",
       "      <td>IT</td>\n",
       "      <td>Mass Customer</td>\n",
       "      <td>N</td>\n",
       "      <td>No</td>\n",
       "      <td>7.0</td>\n",
       "      <td>56.0</td>\n",
       "    </tr>\n",
       "    <tr>\n",
       "      <th>4</th>\n",
       "      <td>5</td>\n",
       "      <td>Sheila-kathryn</td>\n",
       "      <td>Calton</td>\n",
       "      <td>Female</td>\n",
       "      <td>56</td>\n",
       "      <td>1977-05-13</td>\n",
       "      <td>Senior Editor</td>\n",
       "      <td>NaN</td>\n",
       "      <td>Affluent Customer</td>\n",
       "      <td>N</td>\n",
       "      <td>Yes</td>\n",
       "      <td>8.0</td>\n",
       "      <td>40.0</td>\n",
       "    </tr>\n",
       "  </tbody>\n",
       "</table>\n",
       "</div>"
      ],
      "text/plain": [
       "   customer_id      first_name  last_name  gender  \\\n",
       "0            1         Laraine  Medendorp  Female   \n",
       "1            2             Eli    Bockman    Male   \n",
       "2            3           Arlin     Dearle    Male   \n",
       "3            4          Talbot        NaN    Male   \n",
       "4            5  Sheila-kathryn     Calton  Female   \n",
       "\n",
       "   past_3_years_bike_related_purchases        DOB               job_title  \\\n",
       "0                                   93 1953-10-12     Executive Secretary   \n",
       "1                                   81 1980-12-16  Administrative Officer   \n",
       "2                                   61 1954-01-20      Recruiting Manager   \n",
       "3                                   33 1961-10-03                     NaN   \n",
       "4                                   56 1977-05-13           Senior Editor   \n",
       "\n",
       "  job_industry_category     wealth_segment deceased_indicator owns_car  \\\n",
       "0                Health      Mass Customer                  N      Yes   \n",
       "1    Financial Services      Mass Customer                  N      Yes   \n",
       "2              Property      Mass Customer                  N      Yes   \n",
       "3                    IT      Mass Customer                  N       No   \n",
       "4                   NaN  Affluent Customer                  N      Yes   \n",
       "\n",
       "   tenure   age  \n",
       "0    11.0  64.0  \n",
       "1    16.0  37.0  \n",
       "2    15.0  63.0  \n",
       "3     7.0  56.0  \n",
       "4     8.0  40.0  "
      ]
     },
     "execution_count": 56,
     "metadata": {},
     "output_type": "execute_result"
    }
   ],
   "source": [
    "customerDemographic.head()"
   ]
  },
  {
   "cell_type": "code",
   "execution_count": 57,
   "id": "4fcfbc56-c951-4f92-9887-20695f8f7430",
   "metadata": {},
   "outputs": [
    {
     "name": "stdout",
     "output_type": "stream",
     "text": [
      "<class 'pandas.core.frame.DataFrame'>\n",
      "RangeIndex: 4000 entries, 0 to 3999\n",
      "Data columns (total 13 columns):\n",
      " #   Column                               Non-Null Count  Dtype         \n",
      "---  ------                               --------------  -----         \n",
      " 0   customer_id                          4000 non-null   int64         \n",
      " 1   first_name                           4000 non-null   object        \n",
      " 2   last_name                            3875 non-null   object        \n",
      " 3   gender                               4000 non-null   object        \n",
      " 4   past_3_years_bike_related_purchases  4000 non-null   int64         \n",
      " 5   DOB                                  3913 non-null   datetime64[ns]\n",
      " 6   job_title                            3494 non-null   object        \n",
      " 7   job_industry_category                3344 non-null   object        \n",
      " 8   wealth_segment                       4000 non-null   object        \n",
      " 9   deceased_indicator                   4000 non-null   object        \n",
      " 10  owns_car                             4000 non-null   object        \n",
      " 11  tenure                               3913 non-null   float64       \n",
      " 12  age                                  3913 non-null   float64       \n",
      "dtypes: datetime64[ns](1), float64(2), int64(2), object(8)\n",
      "memory usage: 406.4+ KB\n"
     ]
    }
   ],
   "source": [
    "customerDemographic.info()"
   ]
  },
  {
   "cell_type": "markdown",
   "id": "c604ccb9-852c-4d17-9960-b266bc394a83",
   "metadata": {},
   "source": [
    "#### customerDemographic\n",
    "\n",
    "##### Overview\n",
    "The dataset initially contains 4,000 rows and 14 columns. \n",
    "\n",
    "**Preprocessing Steps**\n",
    "1. Corrected typos in the 'gender' column by replacing 'Femal' with 'Female', 'F' with 'Female', and 'M' with 'Male'.\n",
    "2. Adjusted the birth dates in the 'DOB' column by adding 100 years to dates that were recorded as 1843, assuming they were input errors.\n",
    "3. Dropped the 'default' column as it was deemed irrelevant for analysis.\n",
    "\n",
    "**Quality Assurance**\n",
    "- Checked for typographical errors and ensured data accuracy and consistency.\n",
    "- Performed duplicate check and confirmed that no duplicates were found in the dataset.\n",
    "- Ensured appropriate data types for each column to enhance data accuracy and analysis efficiency.\n",
    "\n",
    "The dataset initially contains 4,000 rows and 13 columns. "
   ]
  },
  {
   "cell_type": "markdown",
   "id": "419f0a95-0804-4820-91e4-d5ff3ee48331",
   "metadata": {},
   "source": [
    "#### CustomerAddress"
   ]
  },
  {
   "cell_type": "code",
   "execution_count": 58,
   "id": "869676ae-bc9a-4a89-bcc5-f6bcf4726ad7",
   "metadata": {},
   "outputs": [
    {
     "name": "stdout",
     "output_type": "stream",
     "text": [
      "<class 'pandas.core.frame.DataFrame'>\n",
      "RangeIndex: 3999 entries, 0 to 3998\n",
      "Data columns (total 6 columns):\n",
      " #   Column              Non-Null Count  Dtype \n",
      "---  ------              --------------  ----- \n",
      " 0   customer_id         3999 non-null   int64 \n",
      " 1   address             3999 non-null   object\n",
      " 2   postcode            3999 non-null   int64 \n",
      " 3   state               3999 non-null   object\n",
      " 4   country             3999 non-null   object\n",
      " 5   property_valuation  3999 non-null   int64 \n",
      "dtypes: int64(3), object(3)\n",
      "memory usage: 187.6+ KB\n"
     ]
    }
   ],
   "source": [
    "customerAddress.info()"
   ]
  },
  {
   "cell_type": "code",
   "execution_count": 59,
   "id": "1f23a2c0-b0a3-42fa-9bf8-96c150eb17fd",
   "metadata": {},
   "outputs": [
    {
     "data": {
      "text/plain": [
       "state\n",
       "NSW                2054\n",
       "VIC                 939\n",
       "QLD                 838\n",
       "New South Wales      86\n",
       "Victoria             82\n",
       "Name: count, dtype: int64"
      ]
     },
     "execution_count": 59,
     "metadata": {},
     "output_type": "execute_result"
    }
   ],
   "source": [
    "customerAddress['state'].value_counts()"
   ]
  },
  {
   "cell_type": "code",
   "execution_count": 60,
   "id": "c5956e4a-0629-413e-b0b5-b1b3bbe19f5b",
   "metadata": {},
   "outputs": [],
   "source": [
    "customerAddress['state'].replace({'New South Wales':'NSW', 'Victoria':'VIC'}, inplace=True)"
   ]
  },
  {
   "cell_type": "code",
   "execution_count": 61,
   "id": "5ef05c67-0a42-4774-be2f-915fababc7e6",
   "metadata": {},
   "outputs": [
    {
     "data": {
      "text/plain": [
       "state\n",
       "NSW    2140\n",
       "VIC    1021\n",
       "QLD     838\n",
       "Name: count, dtype: int64"
      ]
     },
     "execution_count": 61,
     "metadata": {},
     "output_type": "execute_result"
    }
   ],
   "source": [
    "customerAddress['state'].value_counts()"
   ]
  },
  {
   "cell_type": "code",
   "execution_count": 62,
   "id": "0c29c2fb-e5ab-4dd2-a7e3-b7e0b19050de",
   "metadata": {},
   "outputs": [
    {
     "data": {
      "text/plain": [
       "country\n",
       "Australia    3999\n",
       "Name: count, dtype: int64"
      ]
     },
     "execution_count": 62,
     "metadata": {},
     "output_type": "execute_result"
    }
   ],
   "source": [
    "customerAddress['country'].value_counts()"
   ]
  },
  {
   "cell_type": "markdown",
   "id": "41892f7c-d546-4abe-877a-c9cab6d2ea9c",
   "metadata": {},
   "source": [
    "#### customerDemographic\n",
    "\n",
    "##### Overview\n",
    "The dataset initially contains 4,000 rows and 6 columns. \n",
    "\n",
    "**Preprocessing Steps**\n",
    "1. Corrected state abbreviations in the 'state' column by replacing 'New South Wales' with 'NSW' and 'Victoria' with 'VIC'.\r\n",
    "\n",
    "**Quality Assurance**\n",
    "- Checked for typographical errors and ensured data accuracy and consistency.\n",
    "- Performed duplicate check and confirmed that no duplicates were found in the dataset.\n",
    "- Ensured appropriate data types for each column to enhance data accuracy and analysis efficiency.\n",
    "\n",
    "The dataset initially contains 4,000 rows and 6 columns. "
   ]
  }
 ],
 "metadata": {
  "kernelspec": {
   "display_name": "Python 3 (ipykernel)",
   "language": "python",
   "name": "python3"
  },
  "language_info": {
   "codemirror_mode": {
    "name": "ipython",
    "version": 3
   },
   "file_extension": ".py",
   "mimetype": "text/x-python",
   "name": "python",
   "nbconvert_exporter": "python",
   "pygments_lexer": "ipython3",
   "version": "3.11.7"
  }
 },
 "nbformat": 4,
 "nbformat_minor": 5
}
